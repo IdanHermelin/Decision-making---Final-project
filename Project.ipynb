{
 "cells": [
  {
   "cell_type": "markdown",
   "metadata": {},
   "source": [
    "Final Project: finding confounding variables\n",
    "\n",
    "Idan Hermelin\n",
    "\n",
    "Noam Biton"
   ]
  },
  {
   "cell_type": "code",
   "execution_count": 91,
   "metadata": {},
   "outputs": [],
   "source": [
    "import pandas as pd\n",
    "\n",
    "# Primary dataset\n",
    "gdp_growth_df = pd.read_csv('GDPs\\gdp_growth.csv')\n",
    "gdp_growth_df.head()\n",
    "\n",
    "# Auxiliary datasets\n",
    "happiness_2015_df = pd.read_csv('happiness_score/2015.csv')\n",
    "happiness_2016_df = pd.read_csv('happiness_score/2016.csv')\n",
    "happiness_2017_df = pd.read_csv('happiness_score/2017.csv')\n",
    "happiness_2018_df = pd.read_csv('happiness_score/2018.csv')\n",
    "happiness_2019_df = pd.read_csv('happiness_score/2019.csv')"
   ]
  },
  {
   "cell_type": "code",
   "execution_count": 92,
   "metadata": {},
   "outputs": [],
   "source": [
    "gdp_growth_df.rename(columns={\"Country Name\": \"Country\"}, inplace=True)"
   ]
  },
  {
   "cell_type": "code",
   "execution_count": 93,
   "metadata": {},
   "outputs": [],
   "source": [
    "#change happiness columns to have the same name:\n",
    "happiness_2017_df.rename(columns={\"Happiness.Score\": \"Happiness Score\"}, inplace=True)\n",
    "happiness_2018_df.rename(columns={\"Score\": \"Happiness Score\"}, inplace=True)\n",
    "happiness_2019_df.rename(columns={\"Score\": \"Happiness Score\"}, inplace=True)\n",
    "happiness_2017_df.to_csv('happiness_score/2017.csv', index=False)\n",
    "happiness_2018_df.to_csv('happiness_score/2018.csv', index=False)\n",
    "happiness_2019_df.to_csv('happiness_score/2019.csv', index=False)"
   ]
  },
  {
   "cell_type": "code",
   "execution_count": 114,
   "metadata": {},
   "outputs": [
    {
     "data": {
      "text/plain": [
       "Index(['Country', 'Region', 'Happiness Rank', 'Happiness Score',\n",
       "       'Standard Error', 'Economy (GDP per Capita)', 'Family',\n",
       "       'Health (Life Expectancy)', 'Freedom', 'Trust (Government Corruption)',\n",
       "       'Generosity', 'Dystopia Residual'],\n",
       "      dtype='object')"
      ]
     },
     "execution_count": 114,
     "metadata": {},
     "output_type": "execute_result"
    }
   ],
   "source": [
    "happiness_2015_df.columns"
   ]
  },
  {
   "cell_type": "code",
   "execution_count": 94,
   "metadata": {},
   "outputs": [],
   "source": [
    "#change country column to have the same name:\n",
    "happiness_2018_df.rename(columns={\"Country or region\": \"Country\"}, inplace=True)\n",
    "happiness_2019_df.rename(columns={\"Country or region\": \"Country\"}, inplace=True)\n",
    "happiness_2018_df.to_csv('happiness_score/2018.csv', index=False)\n",
    "happiness_2019_df.to_csv('happiness_score/2019.csv', index=False)"
   ]
  },
  {
   "cell_type": "markdown",
   "metadata": {},
   "source": [
    "Functions for creating dfs of GDP trends"
   ]
  },
  {
   "cell_type": "code",
   "execution_count": 95,
   "metadata": {},
   "outputs": [],
   "source": [
    "def merge_happiness(gdp_growth_df, happiness_df):\n",
    "    return gdp_growth_df.merge(happiness_df, on=[\"Country\"], how=\"left\")"
   ]
  },
  {
   "cell_type": "code",
   "execution_count": 107,
   "metadata": {},
   "outputs": [],
   "source": [
    "def GDP_happiness_df(year1, year2, merged_df):\n",
    "    last_10_years_df = [col for col in merged_df.columns if (col.isdigit() and int(col) >= year1 and int(col) <= year2)]\n",
    "    merged_df = merged_df[[\"Country\", \"Happiness Score\"] + last_10_years_df]\n",
    "    merged_df = merged_df.dropna()\n",
    "    return merged_df"
   ]
  },
  {
   "cell_type": "code",
   "execution_count": 108,
   "metadata": {},
   "outputs": [],
   "source": [
    "def calc_trend_growth(merged_df, year1, year2):\n",
    "    last_10_years_cols = [col for col in merged_df.columns if (col.isdigit() and int(col) >= year1 and int(col) <= year2)]\n",
    "    merged_df['GDP Growth Trend Over 10 Years'] = merged_df[last_10_years_cols].mean(axis=1, skipna=True)\n",
    "    return merged_df"
   ]
  },
  {
   "cell_type": "markdown",
   "metadata": {},
   "source": [
    "Create the dfs that contains the trends in the GDP:"
   ]
  },
  {
   "cell_type": "code",
   "execution_count": 112,
   "metadata": {},
   "outputs": [],
   "source": [
    "merged_2015_to_2019_dfs = []\n",
    "for year in range(2015, 2020):  \n",
    "    happiness_df = pd.read_csv(f'happiness_score/{year}.csv')\n",
    "    merged_df = merge_happiness(gdp_growth_df, happiness_df)\n",
    "    merged_df = GDP_happiness_df(year-10, year, merged_df)\n",
    "    merged_df = calc_trend_growth(merged_df, year-10, year)\n",
    "    merged_2015_to_2019_dfs.append(merged_df)"
   ]
  },
  {
   "cell_type": "code",
   "execution_count": 113,
   "metadata": {},
   "outputs": [
    {
     "data": {
      "text/html": [
       "<div>\n",
       "<style scoped>\n",
       "    .dataframe tbody tr th:only-of-type {\n",
       "        vertical-align: middle;\n",
       "    }\n",
       "\n",
       "    .dataframe tbody tr th {\n",
       "        vertical-align: top;\n",
       "    }\n",
       "\n",
       "    .dataframe thead th {\n",
       "        text-align: right;\n",
       "    }\n",
       "</style>\n",
       "<table border=\"1\" class=\"dataframe\">\n",
       "  <thead>\n",
       "    <tr style=\"text-align: right;\">\n",
       "      <th></th>\n",
       "      <th>Country</th>\n",
       "      <th>Happiness Score</th>\n",
       "      <th>2005</th>\n",
       "      <th>2006</th>\n",
       "      <th>2007</th>\n",
       "      <th>2008</th>\n",
       "      <th>2009</th>\n",
       "      <th>2010</th>\n",
       "      <th>2011</th>\n",
       "      <th>2012</th>\n",
       "      <th>2013</th>\n",
       "      <th>2014</th>\n",
       "      <th>2015</th>\n",
       "      <th>GDP Growth Trend Over 10 Years</th>\n",
       "    </tr>\n",
       "  </thead>\n",
       "  <tbody>\n",
       "    <tr>\n",
       "      <th>2</th>\n",
       "      <td>Afghanistan</td>\n",
       "      <td>3.575</td>\n",
       "      <td>11.229715</td>\n",
       "      <td>5.357403</td>\n",
       "      <td>13.826320</td>\n",
       "      <td>3.924984</td>\n",
       "      <td>21.390528</td>\n",
       "      <td>14.362441</td>\n",
       "      <td>0.426355</td>\n",
       "      <td>12.752287</td>\n",
       "      <td>5.600745</td>\n",
       "      <td>2.724543</td>\n",
       "      <td>1.451315</td>\n",
       "      <td>8.458785</td>\n",
       "    </tr>\n",
       "    <tr>\n",
       "      <th>4</th>\n",
       "      <td>Angola</td>\n",
       "      <td>4.033</td>\n",
       "      <td>15.028915</td>\n",
       "      <td>11.547683</td>\n",
       "      <td>14.010018</td>\n",
       "      <td>11.166138</td>\n",
       "      <td>0.858713</td>\n",
       "      <td>4.403933</td>\n",
       "      <td>3.471976</td>\n",
       "      <td>8.542188</td>\n",
       "      <td>4.954545</td>\n",
       "      <td>4.822628</td>\n",
       "      <td>0.943572</td>\n",
       "      <td>7.250028</td>\n",
       "    </tr>\n",
       "    <tr>\n",
       "      <th>5</th>\n",
       "      <td>Albania</td>\n",
       "      <td>4.959</td>\n",
       "      <td>5.526424</td>\n",
       "      <td>5.902659</td>\n",
       "      <td>5.983260</td>\n",
       "      <td>7.500041</td>\n",
       "      <td>3.354289</td>\n",
       "      <td>3.706938</td>\n",
       "      <td>2.545406</td>\n",
       "      <td>1.417243</td>\n",
       "      <td>1.002018</td>\n",
       "      <td>1.774449</td>\n",
       "      <td>2.218726</td>\n",
       "      <td>3.721041</td>\n",
       "    </tr>\n",
       "    <tr>\n",
       "      <th>8</th>\n",
       "      <td>United Arab Emirates</td>\n",
       "      <td>6.901</td>\n",
       "      <td>4.855141</td>\n",
       "      <td>9.837320</td>\n",
       "      <td>3.184390</td>\n",
       "      <td>3.191836</td>\n",
       "      <td>-5.242922</td>\n",
       "      <td>1.602850</td>\n",
       "      <td>6.928509</td>\n",
       "      <td>4.483792</td>\n",
       "      <td>5.053078</td>\n",
       "      <td>4.410085</td>\n",
       "      <td>5.060335</td>\n",
       "      <td>3.942219</td>\n",
       "    </tr>\n",
       "    <tr>\n",
       "      <th>9</th>\n",
       "      <td>Argentina</td>\n",
       "      <td>6.574</td>\n",
       "      <td>8.851660</td>\n",
       "      <td>8.047152</td>\n",
       "      <td>9.007651</td>\n",
       "      <td>4.057233</td>\n",
       "      <td>-5.918525</td>\n",
       "      <td>10.125398</td>\n",
       "      <td>6.003952</td>\n",
       "      <td>-1.026420</td>\n",
       "      <td>2.405324</td>\n",
       "      <td>-2.512615</td>\n",
       "      <td>2.731160</td>\n",
       "      <td>3.797452</td>\n",
       "    </tr>\n",
       "  </tbody>\n",
       "</table>\n",
       "</div>"
      ],
      "text/plain": [
       "                Country  Happiness Score       2005       2006       2007  \\\n",
       "2           Afghanistan            3.575  11.229715   5.357403  13.826320   \n",
       "4                Angola            4.033  15.028915  11.547683  14.010018   \n",
       "5               Albania            4.959   5.526424   5.902659   5.983260   \n",
       "8  United Arab Emirates            6.901   4.855141   9.837320   3.184390   \n",
       "9             Argentina            6.574   8.851660   8.047152   9.007651   \n",
       "\n",
       "        2008       2009       2010      2011       2012      2013      2014  \\\n",
       "2   3.924984  21.390528  14.362441  0.426355  12.752287  5.600745  2.724543   \n",
       "4  11.166138   0.858713   4.403933  3.471976   8.542188  4.954545  4.822628   \n",
       "5   7.500041   3.354289   3.706938  2.545406   1.417243  1.002018  1.774449   \n",
       "8   3.191836  -5.242922   1.602850  6.928509   4.483792  5.053078  4.410085   \n",
       "9   4.057233  -5.918525  10.125398  6.003952  -1.026420  2.405324 -2.512615   \n",
       "\n",
       "       2015  GDP Growth Trend Over 10 Years  \n",
       "2  1.451315                        8.458785  \n",
       "4  0.943572                        7.250028  \n",
       "5  2.218726                        3.721041  \n",
       "8  5.060335                        3.942219  \n",
       "9  2.731160                        3.797452  "
      ]
     },
     "execution_count": 113,
     "metadata": {},
     "output_type": "execute_result"
    }
   ],
   "source": [
    "merged_2015_to_2019_dfs[0].head()"
   ]
  },
  {
   "cell_type": "code",
   "execution_count": 100,
   "metadata": {},
   "outputs": [],
   "source": [
    "#!pip install statsmodels"
   ]
  },
  {
   "cell_type": "code",
   "execution_count": 101,
   "metadata": {},
   "outputs": [],
   "source": [
    "import statsmodels.api as sm\n",
    "\n",
    "def rank_confounders(df, treatment, outcome, confounders):\n",
    "    rankings = []\n",
    "    for confounder in confounders:\n",
    "        # Model without confounder\n",
    "        model1 = sm.OLS(df[outcome], sm.add_constant(df[[treatment]])).fit()\n",
    "        r2_without = model1.rsquared\n",
    "\n",
    "        # Model with confounder\n",
    "        model2 = sm.OLS(df[outcome], sm.add_constant(df[[treatment, confounder]])).fit()\n",
    "        r2_with = model2.rsquared\n",
    "\n",
    "        r2_change = r2_with - r2_without\n",
    "        rankings.append((confounder, r2_change))\n",
    "\n",
    "    rankings.sort(key=lambda x: x[1], reverse=True)\n",
    "    return pd.DataFrame(rankings, columns=[\"Confounder\", \"R² Change\"])"
   ]
  },
  {
   "cell_type": "code",
   "execution_count": null,
   "metadata": {},
   "outputs": [],
   "source": []
  }
 ],
 "metadata": {
  "kernelspec": {
   "display_name": "Python 3",
   "language": "python",
   "name": "python3"
  },
  "language_info": {
   "codemirror_mode": {
    "name": "ipython",
    "version": 3
   },
   "file_extension": ".py",
   "mimetype": "text/x-python",
   "name": "python",
   "nbconvert_exporter": "python",
   "pygments_lexer": "ipython3",
   "version": "3.11.9"
  }
 },
 "nbformat": 4,
 "nbformat_minor": 2
}
