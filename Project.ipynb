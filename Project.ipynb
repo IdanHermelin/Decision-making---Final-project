{
 "cells": [
  {
   "cell_type": "markdown",
   "metadata": {},
   "source": [
    "Final Project: finding confounding variables\n",
    "\n",
    "Idan Hermelin\n",
    "\n",
    "Noam Biton"
   ]
  },
  {
   "cell_type": "code",
   "execution_count": 439,
   "metadata": {},
   "outputs": [
    {
     "name": "stdout",
     "output_type": "stream",
     "text": [
      "columns of the datasets:\n",
      "Index(['Country', 'Region', 'Happiness Rank', 'Happiness Score',\n",
      "       'Standard Error', 'Economy (GDP per Capita)', 'Family',\n",
      "       'Health (Life Expectancy)', 'Freedom', 'Trust (Government Corruption)',\n",
      "       'Generosity', 'Dystopia Residual'],\n",
      "      dtype='object')\n",
      "Index(['Country', 'Region', 'Happiness Rank', 'Happiness Score',\n",
      "       'Lower Confidence Interval', 'Upper Confidence Interval',\n",
      "       'Economy (GDP per Capita)', 'Family', 'Health (Life Expectancy)',\n",
      "       'Freedom', 'Trust (Government Corruption)', 'Generosity',\n",
      "       'Dystopia Residual'],\n",
      "      dtype='object')\n",
      "Index(['Country', 'Happiness.Rank', 'Happiness Score', 'Whisker.high',\n",
      "       'Whisker.low', 'Economy (GDP per Capita)', 'Family',\n",
      "       'Health (Life Expectancy)', 'Freedom', 'Generosity',\n",
      "       'Trust..Government.Corruption.', 'Dystopia.Residual'],\n",
      "      dtype='object')\n",
      "Index(['Overall rank', 'Country', 'Happiness Score',\n",
      "       'Economy (GDP per Capita)', 'Social support',\n",
      "       'Health (Life Expectancy)', 'Freedom', 'Generosity',\n",
      "       'Perceptions of corruption'],\n",
      "      dtype='object')\n",
      "Index(['Overall rank', 'Country', 'Happiness Score',\n",
      "       'Economy (GDP per Capita)', 'Social support',\n",
      "       'Health (Life Expectancy)', 'Freedom', 'Generosity',\n",
      "       'Perceptions of corruption'],\n",
      "      dtype='object')\n"
     ]
    }
   ],
   "source": [
    "import pandas as pd\n",
    "\n",
    "# Primary dataset\n",
    "gdp_growth_df = pd.read_csv('GDPs\\gdp_per_capita_growth.csv') \n",
    "#We choose to use the gdp per capita growth because it is a better indicator of the economic growth of a country than only gdp\n",
    "gdp_ppp_df = pd.read_csv('GDPs\\gdp_ppp_per_capita.csv')\n",
    "gdp_growth_df.head()\n",
    "\n",
    "# Auxiliary datasets\n",
    "happiness_2015_df = pd.read_csv('happiness_score/2015.csv')\n",
    "happiness_2016_df = pd.read_csv('happiness_score/2016.csv')\n",
    "happiness_2017_df = pd.read_csv('happiness_score/2017.csv')\n",
    "happiness_2018_df = pd.read_csv('happiness_score/2018.csv')\n",
    "happiness_2019_df = pd.read_csv('happiness_score/2019.csv')\n",
    "\n",
    "print(\"columns of the datasets:\")\n",
    "print(happiness_2015_df.columns)\n",
    "print(happiness_2016_df.columns)\n",
    "print(happiness_2017_df.columns)\n",
    "print(happiness_2018_df.columns)\n",
    "print(happiness_2019_df.columns)"
   ]
  },
  {
   "cell_type": "code",
   "execution_count": 440,
   "metadata": {},
   "outputs": [],
   "source": [
    "gdp_growth_df.rename(columns={\"Country Name\": \"Country\"}, inplace=True)"
   ]
  },
  {
   "cell_type": "code",
   "execution_count": 441,
   "metadata": {},
   "outputs": [],
   "source": [
    "#change happiness columns to have the same name:\n",
    "happiness_2017_df.rename(columns={\"Happiness.Score\": \"Happiness Score\", \"Health..Life.Expectancy.\":\"Health (Life Expectancy)\", \"Economy..GDP.per.Capita.\":\"Economy (GDP per Capita)\"}, inplace=True)\n",
    "happiness_2018_df.rename(columns={\"Score\": \"Happiness Score\", \"GDP per capita\":\"Economy (GDP per Capita)\"}, inplace=True)\n",
    "happiness_2019_df.rename(columns={\"Score\": \"Happiness Score\", \"GDP per capita\":\"Economy (GDP per Capita)\"}, inplace=True)\n",
    "happiness_2017_df.to_csv('happiness_score/2017.csv', index=False)\n",
    "happiness_2018_df.to_csv('happiness_score/2018.csv', index=False)\n",
    "happiness_2019_df.to_csv('happiness_score/2019.csv', index=False)"
   ]
  },
  {
   "cell_type": "code",
   "execution_count": 442,
   "metadata": {},
   "outputs": [
    {
     "name": "stdout",
     "output_type": "stream",
     "text": [
      "Index(['Overall rank', 'Country', 'Happiness Score',\n",
      "       'Economy (GDP per Capita)', 'Social support',\n",
      "       'Health (Life Expectancy)', 'Freedom', 'Generosity',\n",
      "       'Perceptions of corruption'],\n",
      "      dtype='object')\n",
      "Index(['Overall rank', 'Country', 'Happiness Score',\n",
      "       'Economy (GDP per Capita)', 'Social support',\n",
      "       'Health (Life Expectancy)', 'Freedom', 'Generosity',\n",
      "       'Perceptions of corruption'],\n",
      "      dtype='object')\n"
     ]
    }
   ],
   "source": [
    "#change country column to have the same name:\n",
    "print(happiness_2019_df.columns)\n",
    "happiness_2018_df.rename(columns={\"Country or region\": \"Country\", \"Freedom to make life choices\": \"Freedom\", \"Healthy life expectancy\":\"Health (Life Expectancy)\"}, inplace=True)\n",
    "happiness_2019_df.rename( columns={\"Country or region\": \"Country\", \"Freedom to make life choices\": \"Freedom\", \"Healthy..life expectancy\":\"Health (Life Expectancy)\"}, inplace=True)\n",
    "happiness_2018_df.to_csv('happiness_score/2018.csv', index=False)\n",
    "happiness_2019_df.to_csv('happiness_score/2019.csv', index=False)\n",
    "\n",
    "print(happiness_2019_df.columns)"
   ]
  },
  {
   "cell_type": "markdown",
   "metadata": {},
   "source": [
    "Functions for creating dfs of GDP trends"
   ]
  },
  {
   "cell_type": "code",
   "execution_count": 443,
   "metadata": {},
   "outputs": [],
   "source": [
    "def merge_happiness(gdp_growth_df, happiness_df):\n",
    "    return gdp_growth_df.merge(happiness_df, on=[\"Country\"], how=\"left\")"
   ]
  },
  {
   "cell_type": "code",
   "execution_count": 444,
   "metadata": {},
   "outputs": [],
   "source": [
    "def GDP_happiness_df(year1, year2, merged_df):\n",
    "    last_10_years_df = [col for col in merged_df.columns if (col.isdigit() and int(col) >= year1 and int(col) <= year2)]\n",
    "    merged_df = merged_df[[\"Country\", \"Happiness Score\", \"Freedom\", \"Health (Life Expectancy)\", \"Economy (GDP per Capita)\"] + last_10_years_df]\n",
    "    merged_df = merged_df.dropna()\n",
    "    return merged_df"
   ]
  },
  {
   "cell_type": "code",
   "execution_count": 445,
   "metadata": {},
   "outputs": [],
   "source": [
    "def calc_trend_growth(merged_df, year1, year2):\n",
    "    last_10_years_cols = [col for col in merged_df.columns if (col.isdigit() and int(col) >= year1 and int(col) <= year2)]\n",
    "    merged_df['GDP Growth Trend Over 10 Years'] = merged_df[last_10_years_cols].mean(axis=1, skipna=True)\n",
    "    return merged_df"
   ]
  },
  {
   "cell_type": "markdown",
   "metadata": {},
   "source": [
    "Create the dfs that contains the trends in the GDP:"
   ]
  },
  {
   "cell_type": "code",
   "execution_count": 446,
   "metadata": {},
   "outputs": [],
   "source": [
    "# Create merged datasets for gdp per capita\n",
    "merged_2015_to_2019_dfs = []\n",
    "for year in range(2015, 2020):  \n",
    "    happiness_df = pd.read_csv(f'happiness_score/{year}.csv')\n",
    "    merged_df = merge_happiness(gdp_growth_df, happiness_df)\n",
    "    merged_df = GDP_happiness_df(year-8, year, merged_df)\n",
    "    merged_df = calc_trend_growth(merged_df, year-8, year)\n",
    "    merged_2015_to_2019_dfs.append(merged_df)"
   ]
  },
  {
   "cell_type": "code",
   "execution_count": 447,
   "metadata": {},
   "outputs": [
    {
     "data": {
      "text/html": [
       "<div>\n",
       "<style scoped>\n",
       "    .dataframe tbody tr th:only-of-type {\n",
       "        vertical-align: middle;\n",
       "    }\n",
       "\n",
       "    .dataframe tbody tr th {\n",
       "        vertical-align: top;\n",
       "    }\n",
       "\n",
       "    .dataframe thead th {\n",
       "        text-align: right;\n",
       "    }\n",
       "</style>\n",
       "<table border=\"1\" class=\"dataframe\">\n",
       "  <thead>\n",
       "    <tr style=\"text-align: right;\">\n",
       "      <th></th>\n",
       "      <th>Country</th>\n",
       "      <th>Happiness Score</th>\n",
       "      <th>Freedom</th>\n",
       "      <th>Health (Life Expectancy)</th>\n",
       "      <th>Economy (GDP per Capita)</th>\n",
       "      <th>2007</th>\n",
       "      <th>2008</th>\n",
       "      <th>2009</th>\n",
       "      <th>2010</th>\n",
       "      <th>2011</th>\n",
       "      <th>2012</th>\n",
       "      <th>2013</th>\n",
       "      <th>2014</th>\n",
       "      <th>2015</th>\n",
       "      <th>GDP Growth Trend Over 10 Years</th>\n",
       "    </tr>\n",
       "  </thead>\n",
       "  <tbody>\n",
       "    <tr>\n",
       "      <th>2</th>\n",
       "      <td>Afghanistan</td>\n",
       "      <td>3.575</td>\n",
       "      <td>0.23414</td>\n",
       "      <td>0.30335</td>\n",
       "      <td>0.31982</td>\n",
       "      <td>11.022787</td>\n",
       "      <td>1.594215</td>\n",
       "      <td>18.515419</td>\n",
       "      <td>11.264091</td>\n",
       "      <td>-2.681061</td>\n",
       "      <td>8.974865</td>\n",
       "      <td>1.974166</td>\n",
       "      <td>-0.665291</td>\n",
       "      <td>-1.622857</td>\n",
       "      <td>5.375148</td>\n",
       "    </tr>\n",
       "    <tr>\n",
       "      <th>4</th>\n",
       "      <td>Angola</td>\n",
       "      <td>4.033</td>\n",
       "      <td>0.10384</td>\n",
       "      <td>0.16683</td>\n",
       "      <td>0.75778</td>\n",
       "      <td>9.890049</td>\n",
       "      <td>7.116848</td>\n",
       "      <td>-2.808600</td>\n",
       "      <td>0.640263</td>\n",
       "      <td>-0.220843</td>\n",
       "      <td>4.706519</td>\n",
       "      <td>1.291994</td>\n",
       "      <td>1.219881</td>\n",
       "      <td>-2.468737</td>\n",
       "      <td>2.151930</td>\n",
       "    </tr>\n",
       "    <tr>\n",
       "      <th>5</th>\n",
       "      <td>Albania</td>\n",
       "      <td>4.959</td>\n",
       "      <td>0.35733</td>\n",
       "      <td>0.81325</td>\n",
       "      <td>0.87867</td>\n",
       "      <td>6.787229</td>\n",
       "      <td>8.328108</td>\n",
       "      <td>4.053140</td>\n",
       "      <td>4.223084</td>\n",
       "      <td>2.821642</td>\n",
       "      <td>1.584873</td>\n",
       "      <td>1.187234</td>\n",
       "      <td>1.985388</td>\n",
       "      <td>2.516827</td>\n",
       "      <td>3.720836</td>\n",
       "    </tr>\n",
       "    <tr>\n",
       "      <th>8</th>\n",
       "      <td>United Arab Emirates</td>\n",
       "      <td>6.901</td>\n",
       "      <td>0.64157</td>\n",
       "      <td>0.80925</td>\n",
       "      <td>1.42727</td>\n",
       "      <td>-11.345653</td>\n",
       "      <td>-10.208646</td>\n",
       "      <td>-15.151225</td>\n",
       "      <td>-5.914931</td>\n",
       "      <td>2.186344</td>\n",
       "      <td>2.257099</td>\n",
       "      <td>4.409938</td>\n",
       "      <td>4.225677</td>\n",
       "      <td>4.507818</td>\n",
       "      <td>-2.781509</td>\n",
       "    </tr>\n",
       "    <tr>\n",
       "      <th>9</th>\n",
       "      <td>Argentina</td>\n",
       "      <td>6.574</td>\n",
       "      <td>0.44974</td>\n",
       "      <td>0.78723</td>\n",
       "      <td>1.05351</td>\n",
       "      <td>7.924211</td>\n",
       "      <td>3.029501</td>\n",
       "      <td>-6.854225</td>\n",
       "      <td>9.300123</td>\n",
       "      <td>4.788683</td>\n",
       "      <td>-2.145284</td>\n",
       "      <td>1.265685</td>\n",
       "      <td>-3.578581</td>\n",
       "      <td>1.629664</td>\n",
       "      <td>1.706642</td>\n",
       "    </tr>\n",
       "  </tbody>\n",
       "</table>\n",
       "</div>"
      ],
      "text/plain": [
       "                Country  Happiness Score  Freedom  Health (Life Expectancy)  \\\n",
       "2           Afghanistan            3.575  0.23414                   0.30335   \n",
       "4                Angola            4.033  0.10384                   0.16683   \n",
       "5               Albania            4.959  0.35733                   0.81325   \n",
       "8  United Arab Emirates            6.901  0.64157                   0.80925   \n",
       "9             Argentina            6.574  0.44974                   0.78723   \n",
       "\n",
       "   Economy (GDP per Capita)       2007       2008       2009       2010  \\\n",
       "2                   0.31982  11.022787   1.594215  18.515419  11.264091   \n",
       "4                   0.75778   9.890049   7.116848  -2.808600   0.640263   \n",
       "5                   0.87867   6.787229   8.328108   4.053140   4.223084   \n",
       "8                   1.42727 -11.345653 -10.208646 -15.151225  -5.914931   \n",
       "9                   1.05351   7.924211   3.029501  -6.854225   9.300123   \n",
       "\n",
       "       2011      2012      2013      2014      2015  \\\n",
       "2 -2.681061  8.974865  1.974166 -0.665291 -1.622857   \n",
       "4 -0.220843  4.706519  1.291994  1.219881 -2.468737   \n",
       "5  2.821642  1.584873  1.187234  1.985388  2.516827   \n",
       "8  2.186344  2.257099  4.409938  4.225677  4.507818   \n",
       "9  4.788683 -2.145284  1.265685 -3.578581  1.629664   \n",
       "\n",
       "   GDP Growth Trend Over 10 Years  \n",
       "2                        5.375148  \n",
       "4                        2.151930  \n",
       "5                        3.720836  \n",
       "8                       -2.781509  \n",
       "9                        1.706642  "
      ]
     },
     "execution_count": 447,
     "metadata": {},
     "output_type": "execute_result"
    }
   ],
   "source": [
    "merged_2015_to_2019_dfs[0].head()"
   ]
  },
  {
   "cell_type": "code",
   "execution_count": 448,
   "metadata": {},
   "outputs": [
    {
     "name": "stdout",
     "output_type": "stream",
     "text": [
      "                Country  Happiness Score  Freedom  Health (Life Expectancy)  \\\n",
      "2           Afghanistan            3.575  0.23414                   0.30335   \n",
      "4                Angola            4.033  0.10384                   0.16683   \n",
      "5               Albania            4.959  0.35733                   0.81325   \n",
      "8  United Arab Emirates            6.901  0.64157                   0.80925   \n",
      "9             Argentina            6.574  0.44974                   0.78723   \n",
      "\n",
      "   Economy (GDP per Capita)       2007       2008       2009       2010  \\\n",
      "2                   0.31982  11.022787   1.594215  18.515419  11.264091   \n",
      "4                   0.75778   9.890049   7.116848  -2.808600   0.640263   \n",
      "5                   0.87867   6.787229   8.328108   4.053140   4.223084   \n",
      "8                   1.42727 -11.345653 -10.208646 -15.151225  -5.914931   \n",
      "9                   1.05351   7.924211   3.029501  -6.854225   9.300123   \n",
      "\n",
      "       2011      2012      2013      2014      2015  \\\n",
      "2 -2.681061  8.974865  1.974166 -0.665291 -1.622857   \n",
      "4 -0.220843  4.706519  1.291994  1.219881 -2.468737   \n",
      "5  2.821642  1.584873  1.187234  1.985388  2.516827   \n",
      "8  2.186344  2.257099  4.409938  4.225677  4.507818   \n",
      "9  4.788683 -2.145284  1.265685 -3.578581  1.629664   \n",
      "\n",
      "   GDP Growth Trend Over 10 Years  \n",
      "2                        1.139151  \n",
      "4                        0.029221  \n",
      "5                        0.569481  \n",
      "8                       -1.669631  \n",
      "9                       -0.124116  \n"
     ]
    }
   ],
   "source": [
    "# Normalize the GDP Growth Trend Over 10 Years column so that it is between -1 and 1:\n",
    "# Use rubast scaler to normalize the data\n",
    "from sklearn.preprocessing import RobustScaler\n",
    "scaler = RobustScaler()\n",
    "for i in range(0, len(merged_2015_to_2019_dfs)):\n",
    "    merged_2015_to_2019_dfs[i]['GDP Growth Trend Over 10 Years'] = scaler.fit_transform(merged_2015_to_2019_dfs[i][['GDP Growth Trend Over 10 Years']])\n",
    "print(merged_2015_to_2019_dfs[0].head())\n"
   ]
  },
  {
   "cell_type": "code",
   "execution_count": 449,
   "metadata": {},
   "outputs": [
    {
     "name": "stdout",
     "output_type": "stream",
     "text": [
      "0.04781470745784676\n",
      "0.08757269783037869\n",
      "0.09757704185442709\n",
      "0.09324346861541954\n",
      "0.0713953380328811\n"
     ]
    }
   ],
   "source": [
    "#check the mean value of normelized GDP growth:\n",
    "for i in range(0, len(merged_2015_to_2019_dfs)):\n",
    "    print(merged_2015_to_2019_dfs[i]['GDP Growth Trend Over 10 Years'].mean())"
   ]
  },
  {
   "cell_type": "markdown",
   "metadata": {},
   "source": [
    "These values are more representing the real growth in GDP because in most countries, the expected GDP growth over the last 20 years has averaged around 2–4% annually for developed economies and 5–7%"
   ]
  },
  {
   "cell_type": "code",
   "execution_count": 450,
   "metadata": {},
   "outputs": [],
   "source": [
    "#!pip install statsmodels"
   ]
  },
  {
   "cell_type": "code",
   "execution_count": 451,
   "metadata": {},
   "outputs": [],
   "source": [
    "import statsmodels.api as sm\n",
    "\n",
    "def rank_confounders(df, treatment, outcome, confounders):\n",
    "    rankings = []\n",
    "    for confounder in confounders:\n",
    "        # Model without confounder\n",
    "        model1 = sm.OLS(df[outcome], sm.add_constant(df[[treatment]])).fit()\n",
    "        r2_without = model1.rsquared\n",
    "\n",
    "        # Model with confounder\n",
    "        model2 = sm.OLS(df[outcome], sm.add_constant(df[[treatment, confounder]])).fit()\n",
    "        r2_with = model2.rsquared\n",
    "\n",
    "        r2_change = r2_with - r2_without\n",
    "        rankings.append((confounder, r2_change))\n",
    "\n",
    "    rankings.sort(key=lambda x: x[1], reverse=True)\n",
    "    return pd.DataFrame(rankings, columns=[\"Confounder\", \"R² Change\"])"
   ]
  },
  {
   "cell_type": "code",
   "execution_count": 477,
   "metadata": {},
   "outputs": [
    {
     "name": "stdout",
     "output_type": "stream",
     "text": [
      "for year 2015 the treatment is Freedom and the outcome is Happiness Score\n",
      "                       Confounder  R² Change\n",
      "0  GDP Growth Trend Over 10 Years   0.068523\n",
      "for year 2015 the treatment is Health (Life Expectancy) and the outcome is Happiness Score\n",
      "                       Confounder  R² Change\n",
      "0  GDP Growth Trend Over 10 Years   0.009551\n",
      "for year 2016 the treatment is Freedom and the outcome is Happiness Score\n",
      "                       Confounder  R² Change\n",
      "0  GDP Growth Trend Over 10 Years   0.112808\n",
      "for year 2016 the treatment is Health (Life Expectancy) and the outcome is Happiness Score\n",
      "                       Confounder  R² Change\n",
      "0  GDP Growth Trend Over 10 Years   0.005816\n",
      "for year 2017 the treatment is Freedom and the outcome is Happiness Score\n",
      "                       Confounder  R² Change\n",
      "0  GDP Growth Trend Over 10 Years   0.088527\n",
      "for year 2017 the treatment is Health (Life Expectancy) and the outcome is Happiness Score\n",
      "                       Confounder  R² Change\n",
      "0  GDP Growth Trend Over 10 Years    0.00423\n",
      "for year 2018 the treatment is Freedom and the outcome is Happiness Score\n",
      "                       Confounder  R² Change\n",
      "0  GDP Growth Trend Over 10 Years   0.050964\n",
      "for year 2018 the treatment is Health (Life Expectancy) and the outcome is Happiness Score\n",
      "                       Confounder  R² Change\n",
      "0  GDP Growth Trend Over 10 Years   0.005685\n",
      "for year 2019 the treatment is Freedom and the outcome is Happiness Score\n",
      "                       Confounder  R² Change\n",
      "0  GDP Growth Trend Over 10 Years   0.047849\n",
      "for year 2019 the treatment is Health (Life Expectancy) and the outcome is Happiness Score\n",
      "                       Confounder  R² Change\n",
      "0  GDP Growth Trend Over 10 Years   0.006766\n"
     ]
    }
   ],
   "source": [
    "treatment_options = [\"Freedom\", \"Health (Life Expectancy)\"]\n",
    "outcome = \"Happiness Score\"\n",
    "confounders = [\"GDP Growth Trend Over 10 Years\"]\n",
    "year = 2015\n",
    "for df in merged_2015_to_2019_dfs:\n",
    "    #print(df)\n",
    "    for treatment in treatment_options:\n",
    "        print(f\"for year {year} the treatment is {treatment} and the outcome is {outcome}\")\n",
    "        result_df = rank_confounders(df, treatment, outcome, confounders)\n",
    "        print(result_df)\n",
    "    year += 1"
   ]
  },
  {
   "cell_type": "markdown",
   "metadata": {},
   "source": [
    "Do the same calculation about GDP ppp:"
   ]
  },
  {
   "cell_type": "code",
   "execution_count": 453,
   "metadata": {},
   "outputs": [],
   "source": [
    "# Create merged datasets for gdp ppp per capita\n",
    "# merged_2015_to_2019_ppp_dfs = []\n",
    "# for year in range(2015, 2020):  \n",
    "#     happiness_df = pd.read_csv(f'happiness_score/{year}.csv')\n",
    "#     merged_df = merge_happiness(gdp_ppp_df, happiness_df)\n",
    "#     merged_df = GDP_happiness_df(year-10, year, merged_df)\n",
    "#     merged_df = calc_trend_growth(merged_df, year-10, year)\n",
    "#     merged_2015_to_2019_ppp_dfs.append(merged_df)"
   ]
  },
  {
   "cell_type": "markdown",
   "metadata": {},
   "source": [
    "Analysis with countries population dataset"
   ]
  },
  {
   "cell_type": "code",
   "execution_count": 470,
   "metadata": {},
   "outputs": [
    {
     "data": {
      "text/html": [
       "<div>\n",
       "<style scoped>\n",
       "    .dataframe tbody tr th:only-of-type {\n",
       "        vertical-align: middle;\n",
       "    }\n",
       "\n",
       "    .dataframe tbody tr th {\n",
       "        vertical-align: top;\n",
       "    }\n",
       "\n",
       "    .dataframe thead th {\n",
       "        text-align: right;\n",
       "    }\n",
       "</style>\n",
       "<table border=\"1\" class=\"dataframe\">\n",
       "  <thead>\n",
       "    <tr style=\"text-align: right;\">\n",
       "      <th></th>\n",
       "      <th>Country</th>\n",
       "      <th>Population</th>\n",
       "      <th>Yearly Change</th>\n",
       "      <th>Net Change</th>\n",
       "      <th>Density</th>\n",
       "      <th>Land Area (Km²)</th>\n",
       "      <th>Migrants (net)</th>\n",
       "      <th>Fert. Rate</th>\n",
       "      <th>Med. Age</th>\n",
       "      <th>Urban Pop %</th>\n",
       "      <th>World Share</th>\n",
       "    </tr>\n",
       "  </thead>\n",
       "  <tbody>\n",
       "    <tr>\n",
       "      <th>0</th>\n",
       "      <td>Afghanistan</td>\n",
       "      <td>38928346</td>\n",
       "      <td>2.33</td>\n",
       "      <td>886592</td>\n",
       "      <td>60</td>\n",
       "      <td>652860</td>\n",
       "      <td>-62920</td>\n",
       "      <td>4.6</td>\n",
       "      <td>18</td>\n",
       "      <td>25.0</td>\n",
       "      <td>0.50</td>\n",
       "    </tr>\n",
       "    <tr>\n",
       "      <th>1</th>\n",
       "      <td>Albania</td>\n",
       "      <td>2877797</td>\n",
       "      <td>-0.11</td>\n",
       "      <td>-3120</td>\n",
       "      <td>105</td>\n",
       "      <td>27400</td>\n",
       "      <td>-14000</td>\n",
       "      <td>1.6</td>\n",
       "      <td>36</td>\n",
       "      <td>63.0</td>\n",
       "      <td>0.04</td>\n",
       "    </tr>\n",
       "    <tr>\n",
       "      <th>2</th>\n",
       "      <td>Algeria</td>\n",
       "      <td>43851044</td>\n",
       "      <td>1.85</td>\n",
       "      <td>797990</td>\n",
       "      <td>18</td>\n",
       "      <td>2381740</td>\n",
       "      <td>-10000</td>\n",
       "      <td>3.1</td>\n",
       "      <td>29</td>\n",
       "      <td>73.0</td>\n",
       "      <td>0.56</td>\n",
       "    </tr>\n",
       "    <tr>\n",
       "      <th>3</th>\n",
       "      <td>Angola</td>\n",
       "      <td>32866272</td>\n",
       "      <td>3.27</td>\n",
       "      <td>1040977</td>\n",
       "      <td>26</td>\n",
       "      <td>1246700</td>\n",
       "      <td>6413</td>\n",
       "      <td>5.6</td>\n",
       "      <td>17</td>\n",
       "      <td>67.0</td>\n",
       "      <td>0.42</td>\n",
       "    </tr>\n",
       "    <tr>\n",
       "      <th>4</th>\n",
       "      <td>Antigua and Barbuda</td>\n",
       "      <td>97929</td>\n",
       "      <td>0.84</td>\n",
       "      <td>811</td>\n",
       "      <td>223</td>\n",
       "      <td>440</td>\n",
       "      <td>0</td>\n",
       "      <td>2.0</td>\n",
       "      <td>34</td>\n",
       "      <td>26.0</td>\n",
       "      <td>0.00</td>\n",
       "    </tr>\n",
       "  </tbody>\n",
       "</table>\n",
       "</div>"
      ],
      "text/plain": [
       "               Country  Population  Yearly Change  Net Change  Density  \\\n",
       "0          Afghanistan    38928346           2.33      886592       60   \n",
       "1              Albania     2877797          -0.11       -3120      105   \n",
       "2              Algeria    43851044           1.85      797990       18   \n",
       "3               Angola    32866272           3.27     1040977       26   \n",
       "4  Antigua and Barbuda       97929           0.84         811      223   \n",
       "\n",
       "   Land Area (Km²)  Migrants (net)  Fert. Rate  Med. Age  Urban Pop %  \\\n",
       "0           652860          -62920         4.6        18         25.0   \n",
       "1            27400          -14000         1.6        36         63.0   \n",
       "2          2381740          -10000         3.1        29         73.0   \n",
       "3          1246700            6413         5.6        17         67.0   \n",
       "4              440               0         2.0        34         26.0   \n",
       "\n",
       "   World Share  \n",
       "0         0.50  \n",
       "1         0.04  \n",
       "2         0.56  \n",
       "3         0.42  \n",
       "4         0.00  "
      ]
     },
     "execution_count": 470,
     "metadata": {},
     "output_type": "execute_result"
    }
   ],
   "source": [
    "countries_df = pd.read_csv('countries\\world_population.csv')\n",
    "countries_df.rename(columns={\"Country/Other\": \"Country\"}, inplace=True)\n",
    "countries_df.rename(columns ={\"Population (2020)\": \"Population\"}, inplace=True)\n",
    "countries_df.rename(columns ={\"Density (P/Km²)\": \"Density\"}, inplace=True)\n",
    "countries_df.head()\n"
   ]
  },
  {
   "cell_type": "code",
   "execution_count": 475,
   "metadata": {},
   "outputs": [
    {
     "name": "stdout",
     "output_type": "stream",
     "text": [
      "       Country          Region  Happiness Rank  Happiness Score  \\\n",
      "0  Switzerland  Western Europe               1            7.587   \n",
      "1      Iceland  Western Europe               2            7.561   \n",
      "2      Denmark  Western Europe               3            7.527   \n",
      "3       Norway  Western Europe               4            7.522   \n",
      "4       Canada   North America               5            7.427   \n",
      "\n",
      "   Standard Error  Economy (GDP per Capita)   Family  \\\n",
      "0         0.03411                   1.39651  1.34951   \n",
      "1         0.04884                   1.30232  1.40223   \n",
      "2         0.03328                   1.32548  1.36058   \n",
      "3         0.03880                   1.45900  1.33095   \n",
      "4         0.03553                   1.32629  1.32261   \n",
      "\n",
      "   Health (Life Expectancy)  Freedom  Trust (Government Corruption)  ...  \\\n",
      "0                   0.94143  0.66557                        0.41978  ...   \n",
      "1                   0.94784  0.62877                        0.14145  ...   \n",
      "2                   0.87464  0.64938                        0.48357  ...   \n",
      "3                   0.88521  0.66973                        0.36503  ...   \n",
      "4                   0.90563  0.63297                        0.32957  ...   \n",
      "\n",
      "   Population  Yearly Change  Net Change  Density  Land Area (Km²)  \\\n",
      "0   8654622.0           0.74     63257.0    219.0          39516.0   \n",
      "1    341243.0           0.65      2212.0      3.0         100250.0   \n",
      "2   5792202.0           0.35     20326.0    137.0          42430.0   \n",
      "3   5421241.0           0.79     42384.0     15.0         365268.0   \n",
      "4  37742154.0           0.89    331107.0      4.0        9093510.0   \n",
      "\n",
      "   Migrants (net)  Fert. Rate  Med. Age  Urban Pop %  World Share  \n",
      "0         52000.0         1.5      43.0         74.0         0.11  \n",
      "1           380.0         1.8      37.0         94.0         0.00  \n",
      "2         15200.0         1.8      42.0         88.0         0.07  \n",
      "3         28000.0         1.7      40.0         83.0         0.07  \n",
      "4        242032.0         1.5      41.0         81.0         0.48  \n",
      "\n",
      "[5 rows x 22 columns]\n"
     ]
    }
   ],
   "source": [
    "#join with the happiness dataset:\n",
    "happiness_2015_df = pd.read_csv('happiness_score/2015.csv')\n",
    "countries_happiness_df = happiness_2015_df.merge(countries_df, on=[\"Country\"], how=\"left\")\n",
    "countries_happiness_df.dropna(inplace=True)\n",
    "print(countries_happiness_df.head())"
   ]
  },
  {
   "cell_type": "code",
   "execution_count": 476,
   "metadata": {},
   "outputs": [
    {
     "name": "stdout",
     "output_type": "stream",
     "text": [
      "   Confounder     R² Change\n",
      "0  Population  8.767853e-04\n",
      "1     Density  8.048488e-07\n",
      "   Confounder  R² Change\n",
      "0     Density   0.003778\n",
      "1  Population   0.001608\n"
     ]
    }
   ],
   "source": [
    "treatment_options = [\"Freedom\", \"Health (Life Expectancy)\"]\n",
    "outcome = \"Happiness Score\"\n",
    "confounders = [\"Population\", \"Density\"]\n",
    "for treatment in treatment_options:\n",
    "    result_df = rank_confounders(countries_happiness_df, treatment, outcome, confounders)\n",
    "    print(result_df)"
   ]
  },
  {
   "cell_type": "markdown",
   "metadata": {},
   "source": [
    "Analysis with Unemployed Dataset"
   ]
  },
  {
   "cell_type": "code",
   "execution_count": null,
   "metadata": {},
   "outputs": [],
   "source": [
    "unemployed_df = pd.read_csv('unemployed_dataset\\unemployment analysis.csv')\n",
    "unemployed_df.rename(columns={\"Country Name\": \"Country\"}, inplace=True)\n",
    "unemployed_df.head()\n",
    "\n",
    "happiness_2015_df = pd.read_csv('happiness_score/2015.csv')\n",
    "unemployed_happiness_df = happiness_2015_df.merge(unemployed_df, on=[\"Country\"], how=\"left\")\n",
    "unemployed_happiness_df.dropna()"
   ]
  },
  {
   "cell_type": "code",
   "execution_count": null,
   "metadata": {},
   "outputs": [],
   "source": [
    "treatment = \"Freedom\"\n",
    "outcome = \"Happiness Score\"\n",
    "confounders = [\"1995\", \"1996\"]\n",
    "result_df = rank_confounders(countries_happiness_df, treatment, outcome, confounders)"
   ]
  },
  {
   "cell_type": "markdown",
   "metadata": {},
   "source": [
    "CrimeRates:"
   ]
  }
 ],
 "metadata": {
  "kernelspec": {
   "display_name": "Python 3",
   "language": "python",
   "name": "python3"
  },
  "language_info": {
   "codemirror_mode": {
    "name": "ipython",
    "version": 3
   },
   "file_extension": ".py",
   "mimetype": "text/x-python",
   "name": "python",
   "nbconvert_exporter": "python",
   "pygments_lexer": "ipython3",
   "version": "3.11.9"
  }
 },
 "nbformat": 4,
 "nbformat_minor": 2
}
