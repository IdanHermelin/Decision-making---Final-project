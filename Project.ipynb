{
 "cells": [
  {
   "cell_type": "markdown",
   "metadata": {},
   "source": [
    "Final Project: finding confounding variables\n",
    "\n",
    "Idan Hermelin\n",
    "\n",
    "Noam Biton"
   ]
  },
  {
   "cell_type": "markdown",
   "metadata": {},
   "source": [
    "**Installation requirements**"
   ]
  },
  {
   "cell_type": "code",
   "execution_count": 96,
   "metadata": {},
   "outputs": [
    {
     "name": "stdout",
     "output_type": "stream",
     "text": [
      "Requirement already satisfied: pandas in c:\\users\\user\\appdata\\local\\programs\\python\\python312\\lib\\site-packages (2.2.3)\n",
      "Requirement already satisfied: numpy>=1.26.0 in c:\\users\\user\\appdata\\local\\programs\\python\\python312\\lib\\site-packages (from pandas) (2.2.3)\n",
      "Requirement already satisfied: python-dateutil>=2.8.2 in c:\\users\\user\\appdata\\roaming\\python\\python312\\site-packages (from pandas) (2.9.0.post0)\n",
      "Requirement already satisfied: pytz>=2020.1 in c:\\users\\user\\appdata\\local\\programs\\python\\python312\\lib\\site-packages (from pandas) (2025.1)\n",
      "Requirement already satisfied: tzdata>=2022.7 in c:\\users\\user\\appdata\\local\\programs\\python\\python312\\lib\\site-packages (from pandas) (2025.1)\n",
      "Requirement already satisfied: six>=1.5 in c:\\users\\user\\appdata\\roaming\\python\\python312\\site-packages (from python-dateutil>=2.8.2->pandas) (1.17.0)\n",
      "Note: you may need to restart the kernel to use updated packages.\n"
     ]
    },
    {
     "name": "stderr",
     "output_type": "stream",
     "text": [
      "\n",
      "[notice] A new release of pip is available: 24.0 -> 25.0.1\n",
      "[notice] To update, run: python.exe -m pip install --upgrade pip\n"
     ]
    },
    {
     "name": "stdout",
     "output_type": "stream",
     "text": [
      "Requirement already satisfied: scikit-learn in c:\\users\\user\\appdata\\local\\programs\\python\\python312\\lib\\site-packages (1.6.1)\n",
      "Requirement already satisfied: numpy>=1.19.5 in c:\\users\\user\\appdata\\local\\programs\\python\\python312\\lib\\site-packages (from scikit-learn) (2.2.3)\n",
      "Requirement already satisfied: scipy>=1.6.0 in c:\\users\\user\\appdata\\local\\programs\\python\\python312\\lib\\site-packages (from scikit-learn) (1.15.2)\n",
      "Requirement already satisfied: joblib>=1.2.0 in c:\\users\\user\\appdata\\local\\programs\\python\\python312\\lib\\site-packages (from scikit-learn) (1.4.2)\n",
      "Requirement already satisfied: threadpoolctl>=3.1.0 in c:\\users\\user\\appdata\\local\\programs\\python\\python312\\lib\\site-packages (from scikit-learn) (3.5.0)\n",
      "Note: you may need to restart the kernel to use updated packages.\n"
     ]
    },
    {
     "name": "stderr",
     "output_type": "stream",
     "text": [
      "\n",
      "[notice] A new release of pip is available: 24.0 -> 25.0.1\n",
      "[notice] To update, run: python.exe -m pip install --upgrade pip\n"
     ]
    },
    {
     "name": "stdout",
     "output_type": "stream",
     "text": [
      "Requirement already satisfied: matplotlib in c:\\users\\user\\appdata\\local\\programs\\python\\python312\\lib\\site-packages (3.10.1)\n",
      "Requirement already satisfied: contourpy>=1.0.1 in c:\\users\\user\\appdata\\local\\programs\\python\\python312\\lib\\site-packages (from matplotlib) (1.3.1)\n",
      "Requirement already satisfied: cycler>=0.10 in c:\\users\\user\\appdata\\local\\programs\\python\\python312\\lib\\site-packages (from matplotlib) (0.12.1)\n",
      "Requirement already satisfied: fonttools>=4.22.0 in c:\\users\\user\\appdata\\local\\programs\\python\\python312\\lib\\site-packages (from matplotlib) (4.56.0)\n",
      "Requirement already satisfied: kiwisolver>=1.3.1 in c:\\users\\user\\appdata\\local\\programs\\python\\python312\\lib\\site-packages (from matplotlib) (1.4.8)\n",
      "Requirement already satisfied: numpy>=1.23 in c:\\users\\user\\appdata\\local\\programs\\python\\python312\\lib\\site-packages (from matplotlib) (2.2.3)\n",
      "Requirement already satisfied: packaging>=20.0 in c:\\users\\user\\appdata\\roaming\\python\\python312\\site-packages (from matplotlib) (24.2)\n",
      "Requirement already satisfied: pillow>=8 in c:\\users\\user\\appdata\\local\\programs\\python\\python312\\lib\\site-packages (from matplotlib) (11.1.0)\n",
      "Requirement already satisfied: pyparsing>=2.3.1 in c:\\users\\user\\appdata\\local\\programs\\python\\python312\\lib\\site-packages (from matplotlib) (3.2.1)\n",
      "Requirement already satisfied: python-dateutil>=2.7 in c:\\users\\user\\appdata\\roaming\\python\\python312\\site-packages (from matplotlib) (2.9.0.post0)\n",
      "Requirement already satisfied: six>=1.5 in c:\\users\\user\\appdata\\roaming\\python\\python312\\site-packages (from python-dateutil>=2.7->matplotlib) (1.17.0)\n",
      "Note: you may need to restart the kernel to use updated packages.\n"
     ]
    },
    {
     "name": "stderr",
     "output_type": "stream",
     "text": [
      "\n",
      "[notice] A new release of pip is available: 24.0 -> 25.0.1\n",
      "[notice] To update, run: python.exe -m pip install --upgrade pip\n"
     ]
    },
    {
     "name": "stdout",
     "output_type": "stream",
     "text": [
      "Requirement already satisfied: seaborn in c:\\users\\user\\appdata\\local\\programs\\python\\python312\\lib\\site-packages (0.13.2)\n",
      "Requirement already satisfied: numpy!=1.24.0,>=1.20 in c:\\users\\user\\appdata\\local\\programs\\python\\python312\\lib\\site-packages (from seaborn) (2.2.3)\n",
      "Requirement already satisfied: pandas>=1.2 in c:\\users\\user\\appdata\\local\\programs\\python\\python312\\lib\\site-packages (from seaborn) (2.2.3)\n",
      "Requirement already satisfied: matplotlib!=3.6.1,>=3.4 in c:\\users\\user\\appdata\\local\\programs\\python\\python312\\lib\\site-packages (from seaborn) (3.10.1)\n",
      "Requirement already satisfied: contourpy>=1.0.1 in c:\\users\\user\\appdata\\local\\programs\\python\\python312\\lib\\site-packages (from matplotlib!=3.6.1,>=3.4->seaborn) (1.3.1)\n",
      "Requirement already satisfied: cycler>=0.10 in c:\\users\\user\\appdata\\local\\programs\\python\\python312\\lib\\site-packages (from matplotlib!=3.6.1,>=3.4->seaborn) (0.12.1)\n",
      "Requirement already satisfied: fonttools>=4.22.0 in c:\\users\\user\\appdata\\local\\programs\\python\\python312\\lib\\site-packages (from matplotlib!=3.6.1,>=3.4->seaborn) (4.56.0)\n",
      "Requirement already satisfied: kiwisolver>=1.3.1 in c:\\users\\user\\appdata\\local\\programs\\python\\python312\\lib\\site-packages (from matplotlib!=3.6.1,>=3.4->seaborn) (1.4.8)\n",
      "Requirement already satisfied: packaging>=20.0 in c:\\users\\user\\appdata\\roaming\\python\\python312\\site-packages (from matplotlib!=3.6.1,>=3.4->seaborn) (24.2)\n",
      "Requirement already satisfied: pillow>=8 in c:\\users\\user\\appdata\\local\\programs\\python\\python312\\lib\\site-packages (from matplotlib!=3.6.1,>=3.4->seaborn) (11.1.0)\n",
      "Requirement already satisfied: pyparsing>=2.3.1 in c:\\users\\user\\appdata\\local\\programs\\python\\python312\\lib\\site-packages (from matplotlib!=3.6.1,>=3.4->seaborn) (3.2.1)\n",
      "Requirement already satisfied: python-dateutil>=2.7 in c:\\users\\user\\appdata\\roaming\\python\\python312\\site-packages (from matplotlib!=3.6.1,>=3.4->seaborn) (2.9.0.post0)\n",
      "Requirement already satisfied: pytz>=2020.1 in c:\\users\\user\\appdata\\local\\programs\\python\\python312\\lib\\site-packages (from pandas>=1.2->seaborn) (2025.1)\n",
      "Requirement already satisfied: tzdata>=2022.7 in c:\\users\\user\\appdata\\local\\programs\\python\\python312\\lib\\site-packages (from pandas>=1.2->seaborn) (2025.1)\n",
      "Requirement already satisfied: six>=1.5 in c:\\users\\user\\appdata\\roaming\\python\\python312\\site-packages (from python-dateutil>=2.7->matplotlib!=3.6.1,>=3.4->seaborn) (1.17.0)\n",
      "Note: you may need to restart the kernel to use updated packages.\n"
     ]
    },
    {
     "name": "stderr",
     "output_type": "stream",
     "text": [
      "\n",
      "[notice] A new release of pip is available: 24.0 -> 25.0.1\n",
      "[notice] To update, run: python.exe -m pip install --upgrade pip\n"
     ]
    },
    {
     "name": "stdout",
     "output_type": "stream",
     "text": [
      "Requirement already satisfied: statsmodels in c:\\users\\user\\appdata\\local\\programs\\python\\python312\\lib\\site-packages (0.14.4)\n",
      "Requirement already satisfied: numpy<3,>=1.22.3 in c:\\users\\user\\appdata\\local\\programs\\python\\python312\\lib\\site-packages (from statsmodels) (2.2.3)\n",
      "Requirement already satisfied: scipy!=1.9.2,>=1.8 in c:\\users\\user\\appdata\\local\\programs\\python\\python312\\lib\\site-packages (from statsmodels) (1.15.2)\n",
      "Requirement already satisfied: pandas!=2.1.0,>=1.4 in c:\\users\\user\\appdata\\local\\programs\\python\\python312\\lib\\site-packages (from statsmodels) (2.2.3)\n",
      "Requirement already satisfied: patsy>=0.5.6 in c:\\users\\user\\appdata\\local\\programs\\python\\python312\\lib\\site-packages (from statsmodels) (1.0.1)\n",
      "Requirement already satisfied: packaging>=21.3 in c:\\users\\user\\appdata\\roaming\\python\\python312\\site-packages (from statsmodels) (24.2)\n",
      "Requirement already satisfied: python-dateutil>=2.8.2 in c:\\users\\user\\appdata\\roaming\\python\\python312\\site-packages (from pandas!=2.1.0,>=1.4->statsmodels) (2.9.0.post0)\n",
      "Requirement already satisfied: pytz>=2020.1 in c:\\users\\user\\appdata\\local\\programs\\python\\python312\\lib\\site-packages (from pandas!=2.1.0,>=1.4->statsmodels) (2025.1)\n",
      "Requirement already satisfied: tzdata>=2022.7 in c:\\users\\user\\appdata\\local\\programs\\python\\python312\\lib\\site-packages (from pandas!=2.1.0,>=1.4->statsmodels) (2025.1)\n",
      "Requirement already satisfied: six>=1.5 in c:\\users\\user\\appdata\\roaming\\python\\python312\\site-packages (from python-dateutil>=2.8.2->pandas!=2.1.0,>=1.4->statsmodels) (1.17.0)\n",
      "Note: you may need to restart the kernel to use updated packages.\n"
     ]
    },
    {
     "name": "stderr",
     "output_type": "stream",
     "text": [
      "\n",
      "[notice] A new release of pip is available: 24.0 -> 25.0.1\n",
      "[notice] To update, run: python.exe -m pip install --upgrade pip\n"
     ]
    },
    {
     "name": "stdout",
     "output_type": "stream",
     "text": [
      "Requirement already satisfied: scipy in c:\\users\\user\\appdata\\local\\programs\\python\\python312\\lib\\site-packages (1.15.2)\n",
      "Requirement already satisfied: numpy<2.5,>=1.23.5 in c:\\users\\user\\appdata\\local\\programs\\python\\python312\\lib\\site-packages (from scipy) (2.2.3)\n",
      "Note: you may need to restart the kernel to use updated packages.\n"
     ]
    },
    {
     "name": "stderr",
     "output_type": "stream",
     "text": [
      "\n",
      "[notice] A new release of pip is available: 24.0 -> 25.0.1\n",
      "[notice] To update, run: python.exe -m pip install --upgrade pip\n"
     ]
    },
    {
     "name": "stdout",
     "output_type": "stream",
     "text": [
      "Requirement already satisfied: pingouin in c:\\users\\user\\appdata\\local\\programs\\python\\python312\\lib\\site-packages (0.5.5)\n",
      "Requirement already satisfied: matplotlib in c:\\users\\user\\appdata\\local\\programs\\python\\python312\\lib\\site-packages (from pingouin) (3.10.1)\n",
      "Requirement already satisfied: numpy in c:\\users\\user\\appdata\\local\\programs\\python\\python312\\lib\\site-packages (from pingouin) (2.2.3)\n",
      "Requirement already satisfied: pandas>=1.5 in c:\\users\\user\\appdata\\local\\programs\\python\\python312\\lib\\site-packages (from pingouin) (2.2.3)\n",
      "Requirement already satisfied: pandas-flavor in c:\\users\\user\\appdata\\local\\programs\\python\\python312\\lib\\site-packages (from pingouin) (0.6.0)\n",
      "Requirement already satisfied: scikit-learn>=1.2 in c:\\users\\user\\appdata\\local\\programs\\python\\python312\\lib\\site-packages (from pingouin) (1.6.1)\n",
      "Requirement already satisfied: scipy in c:\\users\\user\\appdata\\local\\programs\\python\\python312\\lib\\site-packages (from pingouin) (1.15.2)\n",
      "Requirement already satisfied: seaborn in c:\\users\\user\\appdata\\local\\programs\\python\\python312\\lib\\site-packages (from pingouin) (0.13.2)\n",
      "Requirement already satisfied: statsmodels in c:\\users\\user\\appdata\\local\\programs\\python\\python312\\lib\\site-packages (from pingouin) (0.14.4)\n",
      "Requirement already satisfied: tabulate in c:\\users\\user\\appdata\\local\\programs\\python\\python312\\lib\\site-packages (from pingouin) (0.9.0)\n",
      "Requirement already satisfied: python-dateutil>=2.8.2 in c:\\users\\user\\appdata\\roaming\\python\\python312\\site-packages (from pandas>=1.5->pingouin) (2.9.0.post0)\n",
      "Requirement already satisfied: pytz>=2020.1 in c:\\users\\user\\appdata\\local\\programs\\python\\python312\\lib\\site-packages (from pandas>=1.5->pingouin) (2025.1)\n",
      "Requirement already satisfied: tzdata>=2022.7 in c:\\users\\user\\appdata\\local\\programs\\python\\python312\\lib\\site-packages (from pandas>=1.5->pingouin) (2025.1)\n",
      "Requirement already satisfied: joblib>=1.2.0 in c:\\users\\user\\appdata\\local\\programs\\python\\python312\\lib\\site-packages (from scikit-learn>=1.2->pingouin) (1.4.2)\n",
      "Requirement already satisfied: threadpoolctl>=3.1.0 in c:\\users\\user\\appdata\\local\\programs\\python\\python312\\lib\\site-packages (from scikit-learn>=1.2->pingouin) (3.5.0)\n",
      "Requirement already satisfied: contourpy>=1.0.1 in c:\\users\\user\\appdata\\local\\programs\\python\\python312\\lib\\site-packages (from matplotlib->pingouin) (1.3.1)\n",
      "Requirement already satisfied: cycler>=0.10 in c:\\users\\user\\appdata\\local\\programs\\python\\python312\\lib\\site-packages (from matplotlib->pingouin) (0.12.1)\n",
      "Requirement already satisfied: fonttools>=4.22.0 in c:\\users\\user\\appdata\\local\\programs\\python\\python312\\lib\\site-packages (from matplotlib->pingouin) (4.56.0)\n",
      "Requirement already satisfied: kiwisolver>=1.3.1 in c:\\users\\user\\appdata\\local\\programs\\python\\python312\\lib\\site-packages (from matplotlib->pingouin) (1.4.8)\n",
      "Requirement already satisfied: packaging>=20.0 in c:\\users\\user\\appdata\\roaming\\python\\python312\\site-packages (from matplotlib->pingouin) (24.2)\n",
      "Requirement already satisfied: pillow>=8 in c:\\users\\user\\appdata\\local\\programs\\python\\python312\\lib\\site-packages (from matplotlib->pingouin) (11.1.0)\n",
      "Requirement already satisfied: pyparsing>=2.3.1 in c:\\users\\user\\appdata\\local\\programs\\python\\python312\\lib\\site-packages (from matplotlib->pingouin) (3.2.1)\n",
      "Requirement already satisfied: xarray in c:\\users\\user\\appdata\\local\\programs\\python\\python312\\lib\\site-packages (from pandas-flavor->pingouin) (2025.1.2)\n",
      "Requirement already satisfied: patsy>=0.5.6 in c:\\users\\user\\appdata\\local\\programs\\python\\python312\\lib\\site-packages (from statsmodels->pingouin) (1.0.1)\n",
      "Requirement already satisfied: six>=1.5 in c:\\users\\user\\appdata\\roaming\\python\\python312\\site-packages (from python-dateutil>=2.8.2->pandas>=1.5->pingouin) (1.17.0)\n",
      "Note: you may need to restart the kernel to use updated packages.\n"
     ]
    },
    {
     "name": "stderr",
     "output_type": "stream",
     "text": [
      "\n",
      "[notice] A new release of pip is available: 24.0 -> 25.0.1\n",
      "[notice] To update, run: python.exe -m pip install --upgrade pip\n"
     ]
    }
   ],
   "source": [
    "%pip install pandas\n",
    "%pip install scikit-learn\n",
    "%pip install matplotlib\n",
    "%pip install seaborn\n",
    "%pip install statsmodels\n",
    "%pip install scipy\n",
    "%pip install pingouin"
   ]
  },
  {
   "cell_type": "markdown",
   "metadata": {},
   "source": [
    "**Data preperation**"
   ]
  },
  {
   "cell_type": "code",
   "execution_count": 97,
   "metadata": {},
   "outputs": [
    {
     "name": "stdout",
     "output_type": "stream",
     "text": [
      "columns of the datasets:\n",
      "Index(['Country', 'Region', 'Happiness Rank', 'Happiness Score',\n",
      "       'Standard Error', 'Economy (GDP per Capita)', 'Family',\n",
      "       'Health (Life Expectancy)', 'Freedom', 'Trust (Government Corruption)',\n",
      "       'Generosity', 'Dystopia Residual'],\n",
      "      dtype='object')\n",
      "Index(['Country', 'Region', 'Happiness Rank', 'Happiness Score',\n",
      "       'Lower Confidence Interval', 'Upper Confidence Interval',\n",
      "       'Economy (GDP per Capita)', 'Family', 'Health (Life Expectancy)',\n",
      "       'Freedom', 'Trust (Government Corruption)', 'Generosity',\n",
      "       'Dystopia Residual'],\n",
      "      dtype='object')\n",
      "Index(['Country', 'Happiness.Rank', 'Happiness Score', 'Whisker.high',\n",
      "       'Whisker.low', 'Economy (GDP per Capita)', 'Family',\n",
      "       'Health (Life Expectancy)', 'Freedom', 'Generosity',\n",
      "       'Trust..Government.Corruption.', 'Dystopia.Residual'],\n",
      "      dtype='object')\n",
      "Index(['Overall rank', 'Country', 'Happiness Score',\n",
      "       'Economy (GDP per Capita)', 'Social support',\n",
      "       'Health (Life Expectancy)', 'Freedom', 'Generosity',\n",
      "       'Perceptions of corruption'],\n",
      "      dtype='object')\n",
      "Index(['Overall rank', 'Country', 'Happiness Score',\n",
      "       'Economy (GDP per Capita)', 'Social support',\n",
      "       'Health (Life Expectancy)', 'Freedom', 'Generosity',\n",
      "       'Perceptions of corruption'],\n",
      "      dtype='object')\n"
     ]
    },
    {
     "name": "stderr",
     "output_type": "stream",
     "text": [
      "<>:4: SyntaxWarning: invalid escape sequence '\\g'\n",
      "<>:6: SyntaxWarning: invalid escape sequence '\\g'\n",
      "<>:4: SyntaxWarning: invalid escape sequence '\\g'\n",
      "<>:6: SyntaxWarning: invalid escape sequence '\\g'\n",
      "C:\\Users\\User\\AppData\\Local\\Temp\\ipykernel_29376\\2258221127.py:4: SyntaxWarning: invalid escape sequence '\\g'\n",
      "  gdp_growth_df = pd.read_csv('GDPs\\gdp_per_capita_growth.csv')\n",
      "C:\\Users\\User\\AppData\\Local\\Temp\\ipykernel_29376\\2258221127.py:6: SyntaxWarning: invalid escape sequence '\\g'\n",
      "  gdp_ppp_df = pd.read_csv('GDPs\\gdp_ppp_per_capita.csv')\n"
     ]
    }
   ],
   "source": [
    "import pandas as pd\n",
    "\n",
    "# Primary dataset\n",
    "gdp_growth_df = pd.read_csv('GDPs\\gdp_per_capita_growth.csv') \n",
    "#We choose to use the gdp per capita growth because it is a better indicator of the economic growth of a country than only gdp\n",
    "gdp_ppp_df = pd.read_csv('GDPs\\gdp_ppp_per_capita.csv')\n",
    "gdp_growth_df.head()\n",
    "\n",
    "# Auxiliary datasets\n",
    "happiness_2015_df = pd.read_csv('happiness_score/2015.csv')\n",
    "happiness_2016_df = pd.read_csv('happiness_score/2016.csv')\n",
    "happiness_2017_df = pd.read_csv('happiness_score/2017.csv')\n",
    "happiness_2018_df = pd.read_csv('happiness_score/2018.csv')\n",
    "happiness_2019_df = pd.read_csv('happiness_score/2019.csv')\n",
    "\n",
    "print(\"columns of the datasets:\")\n",
    "print(happiness_2015_df.columns)\n",
    "print(happiness_2016_df.columns)\n",
    "print(happiness_2017_df.columns)\n",
    "print(happiness_2018_df.columns)\n",
    "print(happiness_2019_df.columns)"
   ]
  },
  {
   "cell_type": "markdown",
   "metadata": {},
   "source": [
    "Changing all 5 datasets to be with the same column names"
   ]
  },
  {
   "cell_type": "code",
   "execution_count": 98,
   "metadata": {},
   "outputs": [],
   "source": [
    "gdp_growth_df.rename(columns={\"Country Name\": \"Country\"}, inplace=True)"
   ]
  },
  {
   "cell_type": "code",
   "execution_count": 99,
   "metadata": {},
   "outputs": [],
   "source": [
    "#change happiness columns to have the same name:\n",
    "happiness_2017_df.rename(columns={\"Happiness.Score\": \"Happiness Score\", \"Health..Life.Expectancy.\":\"Health (Life Expectancy)\", \"Economy..GDP.per.Capita.\":\"Economy (GDP per Capita)\"}, inplace=True)\n",
    "happiness_2018_df.rename(columns={\"Score\": \"Happiness Score\", \"GDP per capita\":\"Economy (GDP per Capita)\"}, inplace=True)\n",
    "happiness_2019_df.rename(columns={\"Score\": \"Happiness Score\", \"GDP per capita\":\"Economy (GDP per Capita)\"}, inplace=True)\n",
    "happiness_2017_df.to_csv('happiness_score/2017.csv', index=False)\n",
    "happiness_2018_df.to_csv('happiness_score/2018.csv', index=False)\n",
    "happiness_2019_df.to_csv('happiness_score/2019.csv', index=False)"
   ]
  },
  {
   "cell_type": "code",
   "execution_count": 100,
   "metadata": {},
   "outputs": [
    {
     "name": "stdout",
     "output_type": "stream",
     "text": [
      "Index(['Overall rank', 'Country', 'Happiness Score',\n",
      "       'Economy (GDP per Capita)', 'Social support',\n",
      "       'Health (Life Expectancy)', 'Freedom', 'Generosity',\n",
      "       'Perceptions of corruption'],\n",
      "      dtype='object')\n",
      "Index(['Overall rank', 'Country', 'Happiness Score',\n",
      "       'Economy (GDP per Capita)', 'Social support',\n",
      "       'Health (Life Expectancy)', 'Freedom', 'Generosity',\n",
      "       'Perceptions of corruption'],\n",
      "      dtype='object')\n",
      "columns of the datasets:\n",
      "Index(['Country', 'Region', 'Happiness Rank', 'Happiness Score',\n",
      "       'Standard Error', 'Economy (GDP per Capita)', 'Family',\n",
      "       'Health (Life Expectancy)', 'Freedom', 'Trust (Government Corruption)',\n",
      "       'Generosity', 'Dystopia Residual'],\n",
      "      dtype='object')\n",
      "Index(['Country', 'Region', 'Happiness Rank', 'Happiness Score',\n",
      "       'Lower Confidence Interval', 'Upper Confidence Interval',\n",
      "       'Economy (GDP per Capita)', 'Family', 'Health (Life Expectancy)',\n",
      "       'Freedom', 'Trust (Government Corruption)', 'Generosity',\n",
      "       'Dystopia Residual'],\n",
      "      dtype='object')\n",
      "Index(['Country', 'Happiness.Rank', 'Happiness Score', 'Whisker.high',\n",
      "       'Whisker.low', 'Economy (GDP per Capita)', 'Family',\n",
      "       'Health (Life Expectancy)', 'Freedom', 'Generosity',\n",
      "       'Trust..Government.Corruption.', 'Dystopia.Residual'],\n",
      "      dtype='object')\n",
      "Index(['Overall rank', 'Country', 'Happiness Score',\n",
      "       'Economy (GDP per Capita)', 'Social support',\n",
      "       'Health (Life Expectancy)', 'Freedom', 'Generosity',\n",
      "       'Perceptions of corruption'],\n",
      "      dtype='object')\n",
      "Index(['Overall rank', 'Country', 'Happiness Score',\n",
      "       'Economy (GDP per Capita)', 'Social support',\n",
      "       'Health (Life Expectancy)', 'Freedom', 'Generosity',\n",
      "       'Perceptions of corruption'],\n",
      "      dtype='object')\n"
     ]
    }
   ],
   "source": [
    "#change country column to have the same name:\n",
    "print(happiness_2019_df.columns)\n",
    "happiness_2018_df.rename(columns={\"Country or region\": \"Country\", \"Freedom to make life choices\": \"Freedom\", \"Healthy life expectancy\":\"Health (Life Expectancy)\"}, inplace=True)\n",
    "happiness_2019_df.rename( columns={\"Country or region\": \"Country\", \"Freedom to make life choices\": \"Freedom\", \"Healthy..life expectancy\":\"Health (Life Expectancy)\"}, inplace=True)\n",
    "happiness_2018_df.to_csv('happiness_score/2018.csv', index=False)\n",
    "happiness_2019_df.to_csv('happiness_score/2019.csv', index=False)\n",
    "\n",
    "print(happiness_2019_df.columns)\n",
    "\n",
    "\n",
    "print(\"columns of the datasets:\")\n",
    "print(happiness_2015_df.columns)\n",
    "print(happiness_2016_df.columns)\n",
    "print(happiness_2017_df.columns)\n",
    "print(happiness_2018_df.columns)\n",
    "print(happiness_2019_df.columns)"
   ]
  },
  {
   "cell_type": "code",
   "execution_count": 101,
   "metadata": {},
   "outputs": [
    {
     "name": "stdout",
     "output_type": "stream",
     "text": [
      "columns of the datasets:\n",
      "Index(['Country', 'Happiness Score', 'Economy (GDP per Capita)',\n",
      "       'Health (Life Expectancy)', 'Region'],\n",
      "      dtype='object')\n",
      "Index(['Country', 'Happiness Score', 'Economy (GDP per Capita)',\n",
      "       'Health (Life Expectancy)', 'Region'],\n",
      "      dtype='object')\n",
      "Index(['Country', 'Happiness Score', 'Economy (GDP per Capita)',\n",
      "       'Health (Life Expectancy)'],\n",
      "      dtype='object')\n",
      "Index(['Country', 'Happiness Score', 'Economy (GDP per Capita)',\n",
      "       'Health (Life Expectancy)'],\n",
      "      dtype='object')\n",
      "Index(['Country', 'Happiness Score', 'Economy (GDP per Capita)',\n",
      "       'Health (Life Expectancy)'],\n",
      "      dtype='object')\n"
     ]
    }
   ],
   "source": [
    "# Leave only shared columns\n",
    "datasets= [happiness_2015_df, happiness_2016_df, happiness_2017_df, happiness_2018_df, happiness_2019_df]\n",
    "for i in range(len(datasets)): \n",
    "    if 'Region' in datasets[i].columns:\n",
    "        datasets[i] = datasets[i][['Country', 'Happiness Score', 'Economy (GDP per Capita)', 'Health (Life Expectancy)', 'Region']]\n",
    "    else:\n",
    "        datasets[i] = datasets[i][['Country', 'Happiness Score', 'Economy (GDP per Capita)', 'Health (Life Expectancy)']]\n",
    "happiness_2015_df, happiness_2016_df, happiness_2017_df, happiness_2018_df, happiness_2019_df = datasets\n",
    "\n",
    "print(\"columns of the datasets:\")\n",
    "print(happiness_2015_df.columns)\n",
    "print(happiness_2016_df.columns)\n",
    "print(happiness_2017_df.columns)\n",
    "print(happiness_2018_df.columns)\n",
    "print(happiness_2019_df.columns)"
   ]
  },
  {
   "cell_type": "code",
   "execution_count": 102,
   "metadata": {},
   "outputs": [],
   "source": [
    "# Merge region information from datasets that have it\n",
    "datasets_to_concat = []\n",
    "for df in datasets:\n",
    "    if 'Region' in df.columns:\n",
    "        datasets_to_concat.append(df[['Country', 'Region']])\n",
    "region_mapping = pd.concat(datasets_to_concat, ignore_index=True)\n",
    "region_mapping.drop_duplicates(subset=['Country'], inplace=True)\n",
    "\n",
    "# Fill missing \"Region\" values based on country\n",
    "for i in range(len(datasets)): \n",
    "    if 'Region' not in datasets[i].columns:\n",
    "        datasets[i]['Region'] = datasets[i]['Country'].map(region_mapping.set_index('Country')['Region'])\n",
    "\n",
    "happiness_2015_df, happiness_2016_df, happiness_2017_df, happiness_2018_df, happiness_2019_df = datasets\n"
   ]
  },
  {
   "cell_type": "code",
   "execution_count": 103,
   "metadata": {},
   "outputs": [],
   "source": [
    "# Concatenate all five datasets\n",
    "happiness_df = pd.concat(datasets, ignore_index=True)\n"
   ]
  },
  {
   "cell_type": "markdown",
   "metadata": {},
   "source": [
    "**Merge with other datasets**"
   ]
  },
  {
   "cell_type": "code",
   "execution_count": 104,
   "metadata": {},
   "outputs": [],
   "source": [
    "# Prepare the world population datasets\n",
    "countries_df = pd.read_csv(r'countries\\world_population.csv') \n",
    "countries_df.rename(columns={\"Country/Other\": \"Country\"}, inplace=True)\n",
    "countries_df.rename(columns ={\"Population (2020)\": \"Population\"}, inplace=True)\n",
    "countries_df.rename(columns ={\"Density (P/Km²)\": \"Density\"}, inplace=True)\n",
    "countries_df.head()\n",
    "# Fill missing \"Region\" values based on country\n",
    "countries_df['Region'] = countries_df['Country'].map(region_mapping.set_index('Country')['Region'])\n",
    "countries_df = countries_df.drop(columns=['Country'])\n",
    "\n",
    "# Prepare the obesity dataset\n",
    "obesity_df = pd.read_csv(r'Additional_datasets\\WHO_obesityByCountry_2016.csv')\n",
    "obesity_df.rename(columns={\"Unnamed: 0\": \"Country\"}, inplace=True)\n",
    "obesity_df.rename(columns={\"Both.sexes\": \"Both Sexes Obesity Rate\"}, inplace=True)\n",
    "obesity_df.rename(columns={\"Male\": \"Male Obesity Rate\"}, inplace=True)\n",
    "obesity_df.rename(columns={\"Female\": \"Female Obesity Rate\"}, inplace=True)\n",
    "# Fill missing \"Region\" values based on country\n",
    "obesity_df['Region'] = obesity_df['Country'].map(region_mapping.set_index('Country')['Region'])\n",
    "obesity_df = obesity_df.drop(columns=['Country'])\n",
    "obesity_df.head()\n",
    "\n",
    "# Prepare the crime rates dataset\n",
    "crime_rates_df = pd.read_csv(r'Additional_datasets\\CrimeRates.csv')\n",
    "crime_rates_df = crime_rates_df.drop(columns=['Country'])\n",
    "\n",
    "\n"
   ]
  },
  {
   "cell_type": "code",
   "execution_count": 105,
   "metadata": {},
   "outputs": [
    {
     "name": "stdout",
     "output_type": "stream",
     "text": [
      "       Country  Happiness Score  Economy (GDP per Capita)  \\\n",
      "0  Switzerland            7.587                   1.39651   \n",
      "1  Switzerland            7.587                   1.39651   \n",
      "2  Switzerland            7.587                   1.39651   \n",
      "3  Switzerland            7.587                   1.39651   \n",
      "4  Switzerland            7.587                   1.39651   \n",
      "\n",
      "   Health (Life Expectancy)          Region  Population  Yearly Change  \\\n",
      "0                   0.94143  Western Europe     9006398           0.57   \n",
      "1                   0.94143  Western Europe     9006398           0.57   \n",
      "2                   0.94143  Western Europe     9006398           0.57   \n",
      "3                   0.94143  Western Europe     9006398           0.57   \n",
      "4                   0.94143  Western Europe     9006398           0.57   \n",
      "\n",
      "   Net Change  Density  Land Area (Km²)  ...  International cooperation  \\\n",
      "0       51296      109            82409  ...                        7.5   \n",
      "1       51296      109            82409  ...                        8.0   \n",
      "2       51296      109            82409  ...                        8.5   \n",
      "3       51296      109            82409  ...                        8.0   \n",
      "4       51296      109            82409  ...                        8.0   \n",
      "\n",
      "   National policies and laws  Judicial system and detention  Law enforcement  \\\n",
      "0                         6.5                            7.0              7.5   \n",
      "1                         8.0                            7.0              7.0   \n",
      "2                         7.5                            6.5              7.0   \n",
      "3                         7.5                            7.5              7.5   \n",
      "4                         8.0                            8.0              8.0   \n",
      "\n",
      "   Territorial integrity  Anti-money laundering  Economic regulatory capacity  \\\n",
      "0                    8.5                    5.0                           6.0   \n",
      "1                    8.0                    8.0                           8.0   \n",
      "2                    5.0                    8.0                           8.0   \n",
      "3                    6.0                    6.5                           6.5   \n",
      "4                    8.0                    6.0                           8.0   \n",
      "\n",
      "   Victim and witness support Prevention  Non-state actors  \n",
      "0                         8.0        6.0               8.0  \n",
      "1                         7.0        5.5               7.0  \n",
      "2                         5.0        6.5               7.0  \n",
      "3                         8.0        8.0               8.0  \n",
      "4                         8.5        8.0               8.5  \n",
      "\n",
      "[5 rows x 49 columns]\n"
     ]
    }
   ],
   "source": [
    "#join with the happiness dataset:)\n",
    "merged_df = happiness_2015_df.merge(countries_df, on=[\"Region\"], how=\"left\")\n",
    "\n",
    "# Then merge with obesity dataset\n",
    "merged_df = merged_df.merge(obesity_df, on=[\"Region\"], how=\"left\")\n",
    "\n",
    "# Then merge with crime rate dataset\n",
    "merged_df = merged_df.merge(crime_rates_df, on=[\"Region\"], how=\"left\")\n",
    "\n",
    "merged_df.dropna(inplace=True)\n",
    "print(merged_df.head())"
   ]
  },
  {
   "cell_type": "code",
   "execution_count": 106,
   "metadata": {},
   "outputs": [
    {
     "name": "stdout",
     "output_type": "stream",
     "text": [
      "Index(['Population', 'Yearly Change', 'Net Change', 'Density',\n",
      "       'Land Area (Km²)', 'Migrants (net)', 'Fert. Rate', 'Med. Age',\n",
      "       'Urban Pop %', 'World Share', 'Region'],\n",
      "      dtype='object')\n",
      "=====================================================\n",
      "Index(['Country', 'Happiness Score', 'Economy (GDP per Capita)',\n",
      "       'Health (Life Expectancy)', 'Region', 'Population', 'Yearly Change',\n",
      "       'Net Change', 'Density', 'Land Area (Km²)', 'Migrants (net)',\n",
      "       'Fert. Rate', 'Med. Age', 'Urban Pop %', 'World Share',\n",
      "       'Both Sexes Obesity Rate', 'Male Obesity Rate', 'Female Obesity Rate',\n",
      "       'Continent', 'Criminality', 'Criminal markets', 'Human trafficking',\n",
      "       'Human smuggling', 'Arms trafficking', 'Flora crimes', 'Fauna crimes',\n",
      "       'Non-renewable resource crimes', 'Heroin trade', 'Cocaine trade',\n",
      "       'Cannabis trade', 'Synthetic drug trade', 'Criminal actors',\n",
      "       'Mafia-style groups', 'Criminal networks', 'State-embedded actors',\n",
      "       'Foreign actors', 'Resilience', 'Political leadership and governance',\n",
      "       'Government transparency and accountability',\n",
      "       'International cooperation', 'National policies and laws',\n",
      "       'Judicial system and detention', 'Law enforcement',\n",
      "       'Territorial integrity', 'Anti-money laundering',\n",
      "       'Economic regulatory capacity', 'Victim and witness support',\n",
      "       'Prevention', 'Non-state actors'],\n",
      "      dtype='object')\n"
     ]
    }
   ],
   "source": [
    "print(countries_df.columns)\n",
    "print(\"=====================================================\")\n",
    "print(merged_df.columns)"
   ]
  },
  {
   "cell_type": "code",
   "execution_count": 107,
   "metadata": {},
   "outputs": [],
   "source": [
    "import numpy as np\n",
    "import pandas as pd\n",
    "import pingouin as pg\n",
    "from scipy.stats import spearmanr\n",
    "import time\n",
    "\n",
    "def find_best_mediators(df, potential_mediators, number_of_best_mediators, treatment='Region', outcome='Happiness Score'):\n",
    "    start_time = time.time()\n",
    "    # Compute unconditional correlation between 'Region' and 'Happiness Score'\n",
    "    corr_unconditional, _ = spearmanr(df[treatment], df[outcome])\n",
    "    mediation_results = {}\n",
    "\n",
    "    # Iterate over all potential mediators \n",
    "    for col in potential_mediators:\n",
    "        if col in ['Happiness Score', 'Region']:  \n",
    "            continue\n",
    "        result = pg.partial_corr(\n",
    "            data=df,\n",
    "            x=treatment,\n",
    "            y=outcome,\n",
    "            covar=col,\n",
    "            method='spearman'\n",
    "        )\n",
    "        corr_conditional = result['r'].values[0]\n",
    "\n",
    "        # Measure the reduction in correlation by looking at the absolute values\n",
    "        \n",
    "        corr_reduction = abs(corr_unconditional) - abs(corr_conditional)\n",
    "        mediation_results[col] = corr_reduction\n",
    "\n",
    "    # Identify strongest mediators \n",
    "    mediation_results = {key: val for key, val in mediation_results.items() if val > 0}\n",
    "    best_mediators = sorted(mediation_results, key=mediation_results.get, reverse=True)[:number_of_best_mediators]\n",
    "\n",
    "    print(f\"{len(potential_mediators)} variables have been checked, and the best {number_of_best_mediators} mediators found are:\")\n",
    "    print(\"\")\n",
    "    for i, best_mediator in enumerate(best_mediators):\n",
    "        print(f\"{i+1}st place: {best_mediator} with a correlation reduction of {mediation_results[best_mediator]}\")\n",
    "        print(\"\")\n",
    "    end_time = time.time()\n",
    "    print(\"Unconditional Correlation\", corr_unconditional)\n",
    "    print(f\"Execution time: {end_time - start_time} seconds\")"
   ]
  },
  {
   "cell_type": "code",
   "execution_count": 108,
   "metadata": {},
   "outputs": [
    {
     "name": "stdout",
     "output_type": "stream",
     "text": [
      "49 variables have been checked, and the best 3 mediators found are:\n",
      "\n",
      "1st place: Continent with a correlation reduction of (np.float64(0.27709129253541087), np.float64(0.01028271935423222))\n",
      "\n",
      "2st place: Economy (GDP per Capita) with a correlation reduction of (np.float64(0.18696722199198595), np.float64(0.10040678989765711))\n",
      "\n",
      "3st place: Victim and witness support with a correlation reduction of (np.float64(0.01475603205949988), np.float64(0.2726179798301432))\n",
      "\n",
      "Unconditional Correlation 0.28737401188964307\n",
      "Execution time: 1.566941261291504 seconds\n"
     ]
    }
   ],
   "source": [
    "number_of_best_mediators = 3\n",
    "\n",
    "# Convert categorical columns to numeric codes\n",
    "categorical_cols = merged_df.select_dtypes(include=['object', 'category']).columns.tolist()\n",
    "for col in categorical_cols:\n",
    "    merged_df[col] = merged_df[col].astype('category').cat.codes\n",
    "\n",
    "find_best_mediators(merged_df, merged_df.columns, number_of_best_mediators)\n",
    "\n"
   ]
  },
  {
   "cell_type": "markdown",
   "metadata": {},
   "source": [
    "**Automate the proccess using LLMs**"
   ]
  },
  {
   "cell_type": "code",
   "execution_count": 109,
   "metadata": {},
   "outputs": [
    {
     "name": "stdout",
     "output_type": "stream",
     "text": [
      "0 variables have been checked, and the best 3 mediators found are:\n",
      "\n",
      "Unconditional Correlation 0.28737401188964307\n",
      "Execution time: 0.02606678009033203 seconds\n"
     ]
    }
   ],
   "source": [
    "all_potential_mediators = merged_df.columns\n",
    "\n",
    "potential_mediators = [] # TODO: Check for potential mediators from the list using LLMs\n",
    "\n",
    "find_best_mediators(merged_df, potential_mediators, number_of_best_mediators)"
   ]
  },
  {
   "cell_type": "markdown",
   "metadata": {},
   "source": [
    "**Additional Expermients**"
   ]
  },
  {
   "cell_type": "markdown",
   "metadata": {},
   "source": [
    "Functions for creating dfs of GDP trends"
   ]
  },
  {
   "cell_type": "code",
   "execution_count": 110,
   "metadata": {},
   "outputs": [],
   "source": [
    "def merge_happiness(gdp_growth_df, happiness_df):\n",
    "    return gdp_growth_df.merge(happiness_df, on=[\"Country\"], how=\"left\")"
   ]
  },
  {
   "cell_type": "code",
   "execution_count": 111,
   "metadata": {},
   "outputs": [],
   "source": [
    "def GDP_happiness_df(year1, year2, merged_df):\n",
    "    last_10_years_df = [col for col in merged_df.columns if (col.isdigit() and int(col) >= year1 and int(col) <= year2)]\n",
    "    merged_df = merged_df[[\"Country\", \"Happiness Score\", \"Freedom\", \"Health (Life Expectancy)\", \"Economy (GDP per Capita)\"] + last_10_years_df]\n",
    "    merged_df = merged_df.dropna()\n",
    "    return merged_df"
   ]
  },
  {
   "cell_type": "code",
   "execution_count": 112,
   "metadata": {},
   "outputs": [],
   "source": [
    "def calc_trend_growth(merged_df, year1, year2):\n",
    "    last_10_years_cols = [col for col in merged_df.columns if (col.isdigit() and int(col) >= year1 and int(col) <= year2)]\n",
    "    merged_df['GDP Growth Trend Over 10 Years'] = merged_df[last_10_years_cols].mean(axis=1, skipna=True)\n",
    "    return merged_df"
   ]
  },
  {
   "cell_type": "markdown",
   "metadata": {},
   "source": [
    "Create the dfs that contains the trends in the GDP:"
   ]
  },
  {
   "cell_type": "code",
   "execution_count": 113,
   "metadata": {},
   "outputs": [],
   "source": [
    "# Create merged datasets for gdp per capita\n",
    "merged_2015_to_2019_dfs = []\n",
    "for year in range(2015, 2020):  \n",
    "    happiness_df = pd.read_csv(f'happiness_score/{year}.csv')\n",
    "    merged_df = merge_happiness(gdp_growth_df, happiness_df)\n",
    "    merged_df = GDP_happiness_df(year-8, year, merged_df)\n",
    "    merged_df = calc_trend_growth(merged_df, year-8, year)\n",
    "    merged_2015_to_2019_dfs.append(merged_df)"
   ]
  },
  {
   "cell_type": "code",
   "execution_count": 114,
   "metadata": {},
   "outputs": [
    {
     "data": {
      "text/html": [
       "<div>\n",
       "<style scoped>\n",
       "    .dataframe tbody tr th:only-of-type {\n",
       "        vertical-align: middle;\n",
       "    }\n",
       "\n",
       "    .dataframe tbody tr th {\n",
       "        vertical-align: top;\n",
       "    }\n",
       "\n",
       "    .dataframe thead th {\n",
       "        text-align: right;\n",
       "    }\n",
       "</style>\n",
       "<table border=\"1\" class=\"dataframe\">\n",
       "  <thead>\n",
       "    <tr style=\"text-align: right;\">\n",
       "      <th></th>\n",
       "      <th>Country</th>\n",
       "      <th>Happiness Score</th>\n",
       "      <th>Freedom</th>\n",
       "      <th>Health (Life Expectancy)</th>\n",
       "      <th>Economy (GDP per Capita)</th>\n",
       "      <th>2007</th>\n",
       "      <th>2008</th>\n",
       "      <th>2009</th>\n",
       "      <th>2010</th>\n",
       "      <th>2011</th>\n",
       "      <th>2012</th>\n",
       "      <th>2013</th>\n",
       "      <th>2014</th>\n",
       "      <th>2015</th>\n",
       "      <th>GDP Growth Trend Over 10 Years</th>\n",
       "    </tr>\n",
       "  </thead>\n",
       "  <tbody>\n",
       "    <tr>\n",
       "      <th>2</th>\n",
       "      <td>Afghanistan</td>\n",
       "      <td>3.575</td>\n",
       "      <td>0.23414</td>\n",
       "      <td>0.30335</td>\n",
       "      <td>0.31982</td>\n",
       "      <td>11.022787</td>\n",
       "      <td>1.594215</td>\n",
       "      <td>18.515419</td>\n",
       "      <td>11.264091</td>\n",
       "      <td>-2.681061</td>\n",
       "      <td>8.974865</td>\n",
       "      <td>1.974166</td>\n",
       "      <td>-0.665291</td>\n",
       "      <td>-1.622857</td>\n",
       "      <td>5.375148</td>\n",
       "    </tr>\n",
       "    <tr>\n",
       "      <th>4</th>\n",
       "      <td>Angola</td>\n",
       "      <td>4.033</td>\n",
       "      <td>0.10384</td>\n",
       "      <td>0.16683</td>\n",
       "      <td>0.75778</td>\n",
       "      <td>9.890049</td>\n",
       "      <td>7.116848</td>\n",
       "      <td>-2.808600</td>\n",
       "      <td>0.640263</td>\n",
       "      <td>-0.220843</td>\n",
       "      <td>4.706519</td>\n",
       "      <td>1.291994</td>\n",
       "      <td>1.219881</td>\n",
       "      <td>-2.468737</td>\n",
       "      <td>2.151930</td>\n",
       "    </tr>\n",
       "    <tr>\n",
       "      <th>5</th>\n",
       "      <td>Albania</td>\n",
       "      <td>4.959</td>\n",
       "      <td>0.35733</td>\n",
       "      <td>0.81325</td>\n",
       "      <td>0.87867</td>\n",
       "      <td>6.787229</td>\n",
       "      <td>8.328108</td>\n",
       "      <td>4.053140</td>\n",
       "      <td>4.223084</td>\n",
       "      <td>2.821642</td>\n",
       "      <td>1.584873</td>\n",
       "      <td>1.187234</td>\n",
       "      <td>1.985388</td>\n",
       "      <td>2.516827</td>\n",
       "      <td>3.720836</td>\n",
       "    </tr>\n",
       "    <tr>\n",
       "      <th>8</th>\n",
       "      <td>United Arab Emirates</td>\n",
       "      <td>6.901</td>\n",
       "      <td>0.64157</td>\n",
       "      <td>0.80925</td>\n",
       "      <td>1.42727</td>\n",
       "      <td>-11.345653</td>\n",
       "      <td>-10.208646</td>\n",
       "      <td>-15.151225</td>\n",
       "      <td>-5.914931</td>\n",
       "      <td>2.186344</td>\n",
       "      <td>2.257099</td>\n",
       "      <td>4.409938</td>\n",
       "      <td>4.225677</td>\n",
       "      <td>4.507818</td>\n",
       "      <td>-2.781509</td>\n",
       "    </tr>\n",
       "    <tr>\n",
       "      <th>9</th>\n",
       "      <td>Argentina</td>\n",
       "      <td>6.574</td>\n",
       "      <td>0.44974</td>\n",
       "      <td>0.78723</td>\n",
       "      <td>1.05351</td>\n",
       "      <td>7.924211</td>\n",
       "      <td>3.029501</td>\n",
       "      <td>-6.854225</td>\n",
       "      <td>9.300123</td>\n",
       "      <td>4.788683</td>\n",
       "      <td>-2.145284</td>\n",
       "      <td>1.265685</td>\n",
       "      <td>-3.578581</td>\n",
       "      <td>1.629664</td>\n",
       "      <td>1.706642</td>\n",
       "    </tr>\n",
       "  </tbody>\n",
       "</table>\n",
       "</div>"
      ],
      "text/plain": [
       "                Country  Happiness Score  Freedom  Health (Life Expectancy)  \\\n",
       "2           Afghanistan            3.575  0.23414                   0.30335   \n",
       "4                Angola            4.033  0.10384                   0.16683   \n",
       "5               Albania            4.959  0.35733                   0.81325   \n",
       "8  United Arab Emirates            6.901  0.64157                   0.80925   \n",
       "9             Argentina            6.574  0.44974                   0.78723   \n",
       "\n",
       "   Economy (GDP per Capita)       2007       2008       2009       2010  \\\n",
       "2                   0.31982  11.022787   1.594215  18.515419  11.264091   \n",
       "4                   0.75778   9.890049   7.116848  -2.808600   0.640263   \n",
       "5                   0.87867   6.787229   8.328108   4.053140   4.223084   \n",
       "8                   1.42727 -11.345653 -10.208646 -15.151225  -5.914931   \n",
       "9                   1.05351   7.924211   3.029501  -6.854225   9.300123   \n",
       "\n",
       "       2011      2012      2013      2014      2015  \\\n",
       "2 -2.681061  8.974865  1.974166 -0.665291 -1.622857   \n",
       "4 -0.220843  4.706519  1.291994  1.219881 -2.468737   \n",
       "5  2.821642  1.584873  1.187234  1.985388  2.516827   \n",
       "8  2.186344  2.257099  4.409938  4.225677  4.507818   \n",
       "9  4.788683 -2.145284  1.265685 -3.578581  1.629664   \n",
       "\n",
       "   GDP Growth Trend Over 10 Years  \n",
       "2                        5.375148  \n",
       "4                        2.151930  \n",
       "5                        3.720836  \n",
       "8                       -2.781509  \n",
       "9                        1.706642  "
      ]
     },
     "execution_count": 114,
     "metadata": {},
     "output_type": "execute_result"
    }
   ],
   "source": [
    "merged_2015_to_2019_dfs[0].head()"
   ]
  },
  {
   "cell_type": "code",
   "execution_count": 115,
   "metadata": {},
   "outputs": [
    {
     "name": "stdout",
     "output_type": "stream",
     "text": [
      "                Country  Happiness Score  Freedom  Health (Life Expectancy)  \\\n",
      "2           Afghanistan            3.575  0.23414                   0.30335   \n",
      "4                Angola            4.033  0.10384                   0.16683   \n",
      "5               Albania            4.959  0.35733                   0.81325   \n",
      "8  United Arab Emirates            6.901  0.64157                   0.80925   \n",
      "9             Argentina            6.574  0.44974                   0.78723   \n",
      "\n",
      "   Economy (GDP per Capita)       2007       2008       2009       2010  \\\n",
      "2                   0.31982  11.022787   1.594215  18.515419  11.264091   \n",
      "4                   0.75778   9.890049   7.116848  -2.808600   0.640263   \n",
      "5                   0.87867   6.787229   8.328108   4.053140   4.223084   \n",
      "8                   1.42727 -11.345653 -10.208646 -15.151225  -5.914931   \n",
      "9                   1.05351   7.924211   3.029501  -6.854225   9.300123   \n",
      "\n",
      "       2011      2012      2013      2014      2015  \\\n",
      "2 -2.681061  8.974865  1.974166 -0.665291 -1.622857   \n",
      "4 -0.220843  4.706519  1.291994  1.219881 -2.468737   \n",
      "5  2.821642  1.584873  1.187234  1.985388  2.516827   \n",
      "8  2.186344  2.257099  4.409938  4.225677  4.507818   \n",
      "9  4.788683 -2.145284  1.265685 -3.578581  1.629664   \n",
      "\n",
      "   GDP Growth Trend Over 10 Years  \n",
      "2                        1.139151  \n",
      "4                        0.029221  \n",
      "5                        0.569481  \n",
      "8                       -1.669631  \n",
      "9                       -0.124116  \n"
     ]
    }
   ],
   "source": [
    "# Normalize the GDP Growth Trend Over 10 Years column so that it is between -1 and 1:\n",
    "# Use rubast scaler to normalize the data\n",
    "from sklearn.preprocessing import RobustScaler\n",
    "scaler = RobustScaler()\n",
    "for i in range(0, len(merged_2015_to_2019_dfs)):\n",
    "    merged_2015_to_2019_dfs[i]['GDP Growth Trend Over 10 Years'] = scaler.fit_transform(merged_2015_to_2019_dfs[i][['GDP Growth Trend Over 10 Years']])\n",
    "print(merged_2015_to_2019_dfs[0].head())\n"
   ]
  },
  {
   "cell_type": "code",
   "execution_count": 116,
   "metadata": {},
   "outputs": [
    {
     "name": "stdout",
     "output_type": "stream",
     "text": [
      "0.04781470745784676\n",
      "0.08757269783037869\n",
      "0.09757704185442709\n",
      "0.09324346861541954\n",
      "0.0713953380328811\n"
     ]
    }
   ],
   "source": [
    "#check the mean value of normelized GDP growth:\n",
    "for i in range(0, len(merged_2015_to_2019_dfs)):\n",
    "    print(merged_2015_to_2019_dfs[i]['GDP Growth Trend Over 10 Years'].mean())"
   ]
  },
  {
   "cell_type": "markdown",
   "metadata": {},
   "source": [
    "These values are more representing the real growth in GDP because in most countries, the expected GDP growth over the last 20 years has averaged around 2–4% annually for developed economies and 5–7%"
   ]
  },
  {
   "cell_type": "code",
   "execution_count": 117,
   "metadata": {},
   "outputs": [],
   "source": [
    "#!pip install statsmodels"
   ]
  },
  {
   "cell_type": "code",
   "execution_count": 118,
   "metadata": {},
   "outputs": [],
   "source": [
    "import statsmodels.api as sm\n",
    "\n",
    "def rank_confounders(df, treatment, outcome, confounders):\n",
    "    rankings = []\n",
    "    for confounder in confounders:\n",
    "        # Model without confounder\n",
    "        model1 = sm.OLS(df[outcome], sm.add_constant(df[[treatment]])).fit()\n",
    "        r2_without = model1.rsquared\n",
    "\n",
    "        # Model with confounder\n",
    "        model2 = sm.OLS(df[outcome], sm.add_constant(df[[treatment, confounder]])).fit()\n",
    "        r2_with = model2.rsquared\n",
    "\n",
    "        r2_change = r2_with - r2_without\n",
    "        rankings.append((confounder, r2_change))\n",
    "\n",
    "    rankings.sort(key=lambda x: x[1], reverse=True)\n",
    "    return pd.DataFrame(rankings, columns=[\"Confounder\", \"R² Change\"])"
   ]
  },
  {
   "cell_type": "code",
   "execution_count": 119,
   "metadata": {},
   "outputs": [
    {
     "name": "stdout",
     "output_type": "stream",
     "text": [
      "for year 2015 the treatment is Freedom and the outcome is Happiness Score\n",
      "                       Confounder  R² Change\n",
      "0  GDP Growth Trend Over 10 Years   0.068523\n",
      "for year 2015 the treatment is Health (Life Expectancy) and the outcome is Happiness Score\n",
      "                       Confounder  R² Change\n",
      "0  GDP Growth Trend Over 10 Years   0.009551\n",
      "for year 2016 the treatment is Freedom and the outcome is Happiness Score\n",
      "                       Confounder  R² Change\n",
      "0  GDP Growth Trend Over 10 Years   0.112808\n",
      "for year 2016 the treatment is Health (Life Expectancy) and the outcome is Happiness Score\n",
      "                       Confounder  R² Change\n",
      "0  GDP Growth Trend Over 10 Years   0.005816\n",
      "for year 2017 the treatment is Freedom and the outcome is Happiness Score\n"
     ]
    },
    {
     "name": "stdout",
     "output_type": "stream",
     "text": [
      "                       Confounder  R² Change\n",
      "0  GDP Growth Trend Over 10 Years   0.088527\n",
      "for year 2017 the treatment is Health (Life Expectancy) and the outcome is Happiness Score\n",
      "                       Confounder  R² Change\n",
      "0  GDP Growth Trend Over 10 Years    0.00423\n",
      "for year 2018 the treatment is Freedom and the outcome is Happiness Score\n",
      "                       Confounder  R² Change\n",
      "0  GDP Growth Trend Over 10 Years   0.050964\n",
      "for year 2018 the treatment is Health (Life Expectancy) and the outcome is Happiness Score\n",
      "                       Confounder  R² Change\n",
      "0  GDP Growth Trend Over 10 Years   0.005685\n",
      "for year 2019 the treatment is Freedom and the outcome is Happiness Score\n",
      "                       Confounder  R² Change\n",
      "0  GDP Growth Trend Over 10 Years   0.047849\n",
      "for year 2019 the treatment is Health (Life Expectancy) and the outcome is Happiness Score\n",
      "                       Confounder  R² Change\n",
      "0  GDP Growth Trend Over 10 Years   0.006766\n"
     ]
    }
   ],
   "source": [
    "treatment_options = [\"Freedom\", \"Health (Life Expectancy)\"]\n",
    "outcome = \"Happiness Score\"\n",
    "confounders = [\"GDP Growth Trend Over 10 Years\"]\n",
    "year = 2015\n",
    "for df in merged_2015_to_2019_dfs:\n",
    "    #print(df)\n",
    "    for treatment in treatment_options:\n",
    "        print(f\"for year {year} the treatment is {treatment} and the outcome is {outcome}\")\n",
    "        result_df = rank_confounders(df, treatment, outcome, confounders)\n",
    "        print(result_df)\n",
    "    year += 1"
   ]
  },
  {
   "cell_type": "markdown",
   "metadata": {},
   "source": [
    "Do the same calculation about GDP ppp:"
   ]
  },
  {
   "cell_type": "code",
   "execution_count": 120,
   "metadata": {},
   "outputs": [],
   "source": [
    "# Create merged datasets for gdp ppp per capita\n",
    "# merged_2015_to_2019_ppp_dfs = []\n",
    "# for year in range(2015, 2020):  \n",
    "#     happiness_df = pd.read_csv(f'happiness_score/{year}.csv')\n",
    "#     merged_df = merge_happiness(gdp_ppp_df, happiness_df)\n",
    "#     merged_df = GDP_happiness_df(year-10, year, merged_df)\n",
    "#     merged_df = calc_trend_growth(merged_df, year-10, year)\n",
    "#     merged_2015_to_2019_ppp_dfs.append(merged_df)"
   ]
  },
  {
   "cell_type": "markdown",
   "metadata": {},
   "source": [
    "Analysis with countries population dataset"
   ]
  },
  {
   "cell_type": "code",
   "execution_count": 121,
   "metadata": {},
   "outputs": [
    {
     "name": "stderr",
     "output_type": "stream",
     "text": [
      "<>:1: SyntaxWarning: invalid escape sequence '\\w'\n",
      "<>:1: SyntaxWarning: invalid escape sequence '\\w'\n",
      "C:\\Users\\User\\AppData\\Local\\Temp\\ipykernel_29376\\3741595136.py:1: SyntaxWarning: invalid escape sequence '\\w'\n",
      "  countries_df = pd.read_csv('countries\\world_population.csv')\n"
     ]
    },
    {
     "data": {
      "text/html": [
       "<div>\n",
       "<style scoped>\n",
       "    .dataframe tbody tr th:only-of-type {\n",
       "        vertical-align: middle;\n",
       "    }\n",
       "\n",
       "    .dataframe tbody tr th {\n",
       "        vertical-align: top;\n",
       "    }\n",
       "\n",
       "    .dataframe thead th {\n",
       "        text-align: right;\n",
       "    }\n",
       "</style>\n",
       "<table border=\"1\" class=\"dataframe\">\n",
       "  <thead>\n",
       "    <tr style=\"text-align: right;\">\n",
       "      <th></th>\n",
       "      <th>Country</th>\n",
       "      <th>Population</th>\n",
       "      <th>Yearly Change</th>\n",
       "      <th>Net Change</th>\n",
       "      <th>Density</th>\n",
       "      <th>Land Area (Km²)</th>\n",
       "      <th>Migrants (net)</th>\n",
       "      <th>Fert. Rate</th>\n",
       "      <th>Med. Age</th>\n",
       "      <th>Urban Pop %</th>\n",
       "      <th>World Share</th>\n",
       "    </tr>\n",
       "  </thead>\n",
       "  <tbody>\n",
       "    <tr>\n",
       "      <th>0</th>\n",
       "      <td>Afghanistan</td>\n",
       "      <td>38928346</td>\n",
       "      <td>2.33</td>\n",
       "      <td>886592</td>\n",
       "      <td>60</td>\n",
       "      <td>652860</td>\n",
       "      <td>-62920</td>\n",
       "      <td>4.6</td>\n",
       "      <td>18</td>\n",
       "      <td>25.0</td>\n",
       "      <td>0.50</td>\n",
       "    </tr>\n",
       "    <tr>\n",
       "      <th>1</th>\n",
       "      <td>Albania</td>\n",
       "      <td>2877797</td>\n",
       "      <td>-0.11</td>\n",
       "      <td>-3120</td>\n",
       "      <td>105</td>\n",
       "      <td>27400</td>\n",
       "      <td>-14000</td>\n",
       "      <td>1.6</td>\n",
       "      <td>36</td>\n",
       "      <td>63.0</td>\n",
       "      <td>0.04</td>\n",
       "    </tr>\n",
       "    <tr>\n",
       "      <th>2</th>\n",
       "      <td>Algeria</td>\n",
       "      <td>43851044</td>\n",
       "      <td>1.85</td>\n",
       "      <td>797990</td>\n",
       "      <td>18</td>\n",
       "      <td>2381740</td>\n",
       "      <td>-10000</td>\n",
       "      <td>3.1</td>\n",
       "      <td>29</td>\n",
       "      <td>73.0</td>\n",
       "      <td>0.56</td>\n",
       "    </tr>\n",
       "    <tr>\n",
       "      <th>3</th>\n",
       "      <td>Angola</td>\n",
       "      <td>32866272</td>\n",
       "      <td>3.27</td>\n",
       "      <td>1040977</td>\n",
       "      <td>26</td>\n",
       "      <td>1246700</td>\n",
       "      <td>6413</td>\n",
       "      <td>5.6</td>\n",
       "      <td>17</td>\n",
       "      <td>67.0</td>\n",
       "      <td>0.42</td>\n",
       "    </tr>\n",
       "    <tr>\n",
       "      <th>4</th>\n",
       "      <td>Antigua and Barbuda</td>\n",
       "      <td>97929</td>\n",
       "      <td>0.84</td>\n",
       "      <td>811</td>\n",
       "      <td>223</td>\n",
       "      <td>440</td>\n",
       "      <td>0</td>\n",
       "      <td>2.0</td>\n",
       "      <td>34</td>\n",
       "      <td>26.0</td>\n",
       "      <td>0.00</td>\n",
       "    </tr>\n",
       "  </tbody>\n",
       "</table>\n",
       "</div>"
      ],
      "text/plain": [
       "               Country  Population  Yearly Change  Net Change  Density  \\\n",
       "0          Afghanistan    38928346           2.33      886592       60   \n",
       "1              Albania     2877797          -0.11       -3120      105   \n",
       "2              Algeria    43851044           1.85      797990       18   \n",
       "3               Angola    32866272           3.27     1040977       26   \n",
       "4  Antigua and Barbuda       97929           0.84         811      223   \n",
       "\n",
       "   Land Area (Km²)  Migrants (net)  Fert. Rate  Med. Age  Urban Pop %  \\\n",
       "0           652860          -62920         4.6        18         25.0   \n",
       "1            27400          -14000         1.6        36         63.0   \n",
       "2          2381740          -10000         3.1        29         73.0   \n",
       "3          1246700            6413         5.6        17         67.0   \n",
       "4              440               0         2.0        34         26.0   \n",
       "\n",
       "   World Share  \n",
       "0         0.50  \n",
       "1         0.04  \n",
       "2         0.56  \n",
       "3         0.42  \n",
       "4         0.00  "
      ]
     },
     "execution_count": 121,
     "metadata": {},
     "output_type": "execute_result"
    }
   ],
   "source": [
    "countries_df = pd.read_csv('countries\\world_population.csv')\n",
    "countries_df.rename(columns={\"Country/Other\": \"Country\"}, inplace=True)\n",
    "countries_df.rename(columns ={\"Population (2020)\": \"Population\"}, inplace=True)\n",
    "countries_df.rename(columns ={\"Density (P/Km²)\": \"Density\"}, inplace=True)\n",
    "countries_df.head()\n"
   ]
  },
  {
   "cell_type": "code",
   "execution_count": 122,
   "metadata": {},
   "outputs": [
    {
     "name": "stdout",
     "output_type": "stream",
     "text": [
      "       Country          Region  Happiness Rank  Happiness Score  \\\n",
      "0  Switzerland  Western Europe               1            7.587   \n",
      "1      Iceland  Western Europe               2            7.561   \n",
      "2      Denmark  Western Europe               3            7.527   \n",
      "3       Norway  Western Europe               4            7.522   \n",
      "4       Canada   North America               5            7.427   \n",
      "\n",
      "   Standard Error  Economy (GDP per Capita)   Family  \\\n",
      "0         0.03411                   1.39651  1.34951   \n",
      "1         0.04884                   1.30232  1.40223   \n",
      "2         0.03328                   1.32548  1.36058   \n",
      "3         0.03880                   1.45900  1.33095   \n",
      "4         0.03553                   1.32629  1.32261   \n",
      "\n",
      "   Health (Life Expectancy)  Freedom  Trust (Government Corruption)  ...  \\\n",
      "0                   0.94143  0.66557                        0.41978  ...   \n",
      "1                   0.94784  0.62877                        0.14145  ...   \n",
      "2                   0.87464  0.64938                        0.48357  ...   \n",
      "3                   0.88521  0.66973                        0.36503  ...   \n",
      "4                   0.90563  0.63297                        0.32957  ...   \n",
      "\n",
      "   Population  Yearly Change  Net Change  Density  Land Area (Km²)  \\\n",
      "0   8654622.0           0.74     63257.0    219.0          39516.0   \n",
      "1    341243.0           0.65      2212.0      3.0         100250.0   \n",
      "2   5792202.0           0.35     20326.0    137.0          42430.0   \n",
      "3   5421241.0           0.79     42384.0     15.0         365268.0   \n",
      "4  37742154.0           0.89    331107.0      4.0        9093510.0   \n",
      "\n",
      "   Migrants (net)  Fert. Rate  Med. Age  Urban Pop %  World Share  \n",
      "0         52000.0         1.5      43.0         74.0         0.11  \n",
      "1           380.0         1.8      37.0         94.0         0.00  \n",
      "2         15200.0         1.8      42.0         88.0         0.07  \n",
      "3         28000.0         1.7      40.0         83.0         0.07  \n",
      "4        242032.0         1.5      41.0         81.0         0.48  \n",
      "\n",
      "[5 rows x 22 columns]\n"
     ]
    }
   ],
   "source": [
    "#join with the happiness dataset:\n",
    "happiness_2015_df = pd.read_csv('happiness_score/2015.csv')\n",
    "countries_happiness_df = happiness_2015_df.merge(countries_df, on=[\"Country\"], how=\"left\")\n",
    "countries_happiness_df.dropna(inplace=True)\n",
    "print(countries_happiness_df.head())"
   ]
  },
  {
   "cell_type": "code",
   "execution_count": 123,
   "metadata": {},
   "outputs": [
    {
     "name": "stdout",
     "output_type": "stream",
     "text": [
      "   Confounder     R² Change\n",
      "0  Population  8.767853e-04\n",
      "1     Density  8.048488e-07\n",
      "   Confounder  R² Change\n",
      "0     Density   0.003778\n",
      "1  Population   0.001608\n"
     ]
    }
   ],
   "source": [
    "treatment_options = [\"Freedom\", \"Health (Life Expectancy)\"]\n",
    "outcome = \"Happiness Score\"\n",
    "confounders = [\"Population\", \"Density\"]\n",
    "for treatment in treatment_options:\n",
    "    result_df = rank_confounders(countries_happiness_df, treatment, outcome, confounders)\n",
    "    print(result_df)"
   ]
  },
  {
   "cell_type": "markdown",
   "metadata": {},
   "source": [
    "Analysis with Unemployed Dataset"
   ]
  },
  {
   "cell_type": "code",
   "execution_count": 124,
   "metadata": {},
   "outputs": [],
   "source": [
    "# unemployed_df = pd.read_csv('unemployed_dataset\\unemployment analysis.csv')\n",
    "# unemployed_df.rename(columns={\"Country Name\": \"Country\"}, inplace=True)\n",
    "# unemployed_df.head()\n",
    "\n",
    "# happiness_2015_df = pd.read_csv('happiness_score/2015.csv')\n",
    "# unemployed_happiness_df = happiness_2015_df.merge(unemployed_df, on=[\"Country\"], how=\"left\")\n",
    "# unemployed_happiness_df.dropna()"
   ]
  },
  {
   "cell_type": "code",
   "execution_count": 125,
   "metadata": {},
   "outputs": [
    {
     "ename": "KeyError",
     "evalue": "\"['1995'] not in index\"",
     "output_type": "error",
     "traceback": [
      "\u001b[31m---------------------------------------------------------------------------\u001b[39m",
      "\u001b[31mKeyError\u001b[39m                                  Traceback (most recent call last)",
      "\u001b[36mCell\u001b[39m\u001b[36m \u001b[39m\u001b[32mIn[125]\u001b[39m\u001b[32m, line 4\u001b[39m\n\u001b[32m      2\u001b[39m outcome = \u001b[33m\"\u001b[39m\u001b[33mHappiness Score\u001b[39m\u001b[33m\"\u001b[39m\n\u001b[32m      3\u001b[39m confounders = [\u001b[33m\"\u001b[39m\u001b[33m1995\u001b[39m\u001b[33m\"\u001b[39m, \u001b[33m\"\u001b[39m\u001b[33m1996\u001b[39m\u001b[33m\"\u001b[39m]\n\u001b[32m----> \u001b[39m\u001b[32m4\u001b[39m result_df = \u001b[43mrank_confounders\u001b[49m\u001b[43m(\u001b[49m\u001b[43mcountries_happiness_df\u001b[49m\u001b[43m,\u001b[49m\u001b[43m \u001b[49m\u001b[43mtreatment\u001b[49m\u001b[43m,\u001b[49m\u001b[43m \u001b[49m\u001b[43moutcome\u001b[49m\u001b[43m,\u001b[49m\u001b[43m \u001b[49m\u001b[43mconfounders\u001b[49m\u001b[43m)\u001b[49m\n",
      "\u001b[36mCell\u001b[39m\u001b[36m \u001b[39m\u001b[32mIn[118]\u001b[39m\u001b[32m, line 11\u001b[39m, in \u001b[36mrank_confounders\u001b[39m\u001b[34m(df, treatment, outcome, confounders)\u001b[39m\n\u001b[32m      8\u001b[39m r2_without = model1.rsquared\n\u001b[32m     10\u001b[39m \u001b[38;5;66;03m# Model with confounder\u001b[39;00m\n\u001b[32m---> \u001b[39m\u001b[32m11\u001b[39m model2 = sm.OLS(df[outcome], sm.add_constant(\u001b[43mdf\u001b[49m\u001b[43m[\u001b[49m\u001b[43m[\u001b[49m\u001b[43mtreatment\u001b[49m\u001b[43m,\u001b[49m\u001b[43m \u001b[49m\u001b[43mconfounder\u001b[49m\u001b[43m]\u001b[49m\u001b[43m]\u001b[49m)).fit()\n\u001b[32m     12\u001b[39m r2_with = model2.rsquared\n\u001b[32m     14\u001b[39m r2_change = r2_with - r2_without\n",
      "\u001b[36mFile \u001b[39m\u001b[32mc:\\Users\\User\\AppData\\Local\\Programs\\Python\\Python312\\Lib\\site-packages\\pandas\\core\\frame.py:4108\u001b[39m, in \u001b[36mDataFrame.__getitem__\u001b[39m\u001b[34m(self, key)\u001b[39m\n\u001b[32m   4106\u001b[39m     \u001b[38;5;28;01mif\u001b[39;00m is_iterator(key):\n\u001b[32m   4107\u001b[39m         key = \u001b[38;5;28mlist\u001b[39m(key)\n\u001b[32m-> \u001b[39m\u001b[32m4108\u001b[39m     indexer = \u001b[38;5;28;43mself\u001b[39;49m\u001b[43m.\u001b[49m\u001b[43mcolumns\u001b[49m\u001b[43m.\u001b[49m\u001b[43m_get_indexer_strict\u001b[49m\u001b[43m(\u001b[49m\u001b[43mkey\u001b[49m\u001b[43m,\u001b[49m\u001b[43m \u001b[49m\u001b[33;43m\"\u001b[39;49m\u001b[33;43mcolumns\u001b[39;49m\u001b[33;43m\"\u001b[39;49m\u001b[43m)\u001b[49m[\u001b[32m1\u001b[39m]\n\u001b[32m   4110\u001b[39m \u001b[38;5;66;03m# take() does not accept boolean indexers\u001b[39;00m\n\u001b[32m   4111\u001b[39m \u001b[38;5;28;01mif\u001b[39;00m \u001b[38;5;28mgetattr\u001b[39m(indexer, \u001b[33m\"\u001b[39m\u001b[33mdtype\u001b[39m\u001b[33m\"\u001b[39m, \u001b[38;5;28;01mNone\u001b[39;00m) == \u001b[38;5;28mbool\u001b[39m:\n",
      "\u001b[36mFile \u001b[39m\u001b[32mc:\\Users\\User\\AppData\\Local\\Programs\\Python\\Python312\\Lib\\site-packages\\pandas\\core\\indexes\\base.py:6200\u001b[39m, in \u001b[36mIndex._get_indexer_strict\u001b[39m\u001b[34m(self, key, axis_name)\u001b[39m\n\u001b[32m   6197\u001b[39m \u001b[38;5;28;01melse\u001b[39;00m:\n\u001b[32m   6198\u001b[39m     keyarr, indexer, new_indexer = \u001b[38;5;28mself\u001b[39m._reindex_non_unique(keyarr)\n\u001b[32m-> \u001b[39m\u001b[32m6200\u001b[39m \u001b[38;5;28;43mself\u001b[39;49m\u001b[43m.\u001b[49m\u001b[43m_raise_if_missing\u001b[49m\u001b[43m(\u001b[49m\u001b[43mkeyarr\u001b[49m\u001b[43m,\u001b[49m\u001b[43m \u001b[49m\u001b[43mindexer\u001b[49m\u001b[43m,\u001b[49m\u001b[43m \u001b[49m\u001b[43maxis_name\u001b[49m\u001b[43m)\u001b[49m\n\u001b[32m   6202\u001b[39m keyarr = \u001b[38;5;28mself\u001b[39m.take(indexer)\n\u001b[32m   6203\u001b[39m \u001b[38;5;28;01mif\u001b[39;00m \u001b[38;5;28misinstance\u001b[39m(key, Index):\n\u001b[32m   6204\u001b[39m     \u001b[38;5;66;03m# GH 42790 - Preserve name from an Index\u001b[39;00m\n",
      "\u001b[36mFile \u001b[39m\u001b[32mc:\\Users\\User\\AppData\\Local\\Programs\\Python\\Python312\\Lib\\site-packages\\pandas\\core\\indexes\\base.py:6252\u001b[39m, in \u001b[36mIndex._raise_if_missing\u001b[39m\u001b[34m(self, key, indexer, axis_name)\u001b[39m\n\u001b[32m   6249\u001b[39m     \u001b[38;5;28;01mraise\u001b[39;00m \u001b[38;5;167;01mKeyError\u001b[39;00m(\u001b[33mf\u001b[39m\u001b[33m\"\u001b[39m\u001b[33mNone of [\u001b[39m\u001b[38;5;132;01m{\u001b[39;00mkey\u001b[38;5;132;01m}\u001b[39;00m\u001b[33m] are in the [\u001b[39m\u001b[38;5;132;01m{\u001b[39;00maxis_name\u001b[38;5;132;01m}\u001b[39;00m\u001b[33m]\u001b[39m\u001b[33m\"\u001b[39m)\n\u001b[32m   6251\u001b[39m not_found = \u001b[38;5;28mlist\u001b[39m(ensure_index(key)[missing_mask.nonzero()[\u001b[32m0\u001b[39m]].unique())\n\u001b[32m-> \u001b[39m\u001b[32m6252\u001b[39m \u001b[38;5;28;01mraise\u001b[39;00m \u001b[38;5;167;01mKeyError\u001b[39;00m(\u001b[33mf\u001b[39m\u001b[33m\"\u001b[39m\u001b[38;5;132;01m{\u001b[39;00mnot_found\u001b[38;5;132;01m}\u001b[39;00m\u001b[33m not in index\u001b[39m\u001b[33m\"\u001b[39m)\n",
      "\u001b[31mKeyError\u001b[39m: \"['1995'] not in index\""
     ]
    }
   ],
   "source": [
    "treatment = \"Freedom\"\n",
    "outcome = \"Happiness Score\"\n",
    "confounders = [\"1995\", \"1996\"]\n",
    "result_df = rank_confounders(countries_happiness_df, treatment, outcome, confounders)"
   ]
  },
  {
   "cell_type": "markdown",
   "metadata": {},
   "source": [
    "CrimeRates:"
   ]
  }
 ],
 "metadata": {
  "kernelspec": {
   "display_name": "Python 3",
   "language": "python",
   "name": "python3"
  },
  "language_info": {
   "codemirror_mode": {
    "name": "ipython",
    "version": 3
   },
   "file_extension": ".py",
   "mimetype": "text/x-python",
   "name": "python",
   "nbconvert_exporter": "python",
   "pygments_lexer": "ipython3",
   "version": "3.12.3"
  }
 },
 "nbformat": 4,
 "nbformat_minor": 2
}
