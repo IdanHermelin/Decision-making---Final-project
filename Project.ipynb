{
 "cells": [
  {
   "cell_type": "markdown",
   "metadata": {},
   "source": [
    "Final Project: finding confounding variables\n",
    "\n",
    "Idan Hermelin\n",
    "\n",
    "Noam Biton"
   ]
  },
  {
   "cell_type": "markdown",
   "metadata": {},
   "source": [
    "**Installation requirements**"
   ]
  },
  {
   "cell_type": "code",
   "execution_count": 31,
   "metadata": {},
   "outputs": [
    {
     "name": "stdout",
     "output_type": "stream",
     "text": [
      "Requirement already satisfied: pandas in c:\\users\\user\\appdata\\local\\programs\\python\\python312\\lib\\site-packages (2.2.3)\n",
      "Requirement already satisfied: numpy>=1.26.0 in c:\\users\\user\\appdata\\local\\programs\\python\\python312\\lib\\site-packages (from pandas) (2.2.3)\n",
      "Requirement already satisfied: python-dateutil>=2.8.2 in c:\\users\\user\\appdata\\roaming\\python\\python312\\site-packages (from pandas) (2.9.0.post0)\n",
      "Requirement already satisfied: pytz>=2020.1 in c:\\users\\user\\appdata\\local\\programs\\python\\python312\\lib\\site-packages (from pandas) (2025.1)\n",
      "Requirement already satisfied: tzdata>=2022.7 in c:\\users\\user\\appdata\\local\\programs\\python\\python312\\lib\\site-packages (from pandas) (2025.1)\n",
      "Requirement already satisfied: six>=1.5 in c:\\users\\user\\appdata\\roaming\\python\\python312\\site-packages (from python-dateutil>=2.8.2->pandas) (1.17.0)\n",
      "Note: you may need to restart the kernel to use updated packages.\n"
     ]
    },
    {
     "name": "stderr",
     "output_type": "stream",
     "text": [
      "\n",
      "[notice] A new release of pip is available: 24.0 -> 25.0.1\n",
      "[notice] To update, run: python.exe -m pip install --upgrade pip\n"
     ]
    },
    {
     "name": "stdout",
     "output_type": "stream",
     "text": [
      "Requirement already satisfied: scikit-learn in c:\\users\\user\\appdata\\local\\programs\\python\\python312\\lib\\site-packages (1.6.1)\n",
      "Requirement already satisfied: numpy>=1.19.5 in c:\\users\\user\\appdata\\local\\programs\\python\\python312\\lib\\site-packages (from scikit-learn) (2.2.3)\n",
      "Requirement already satisfied: scipy>=1.6.0 in c:\\users\\user\\appdata\\local\\programs\\python\\python312\\lib\\site-packages (from scikit-learn) (1.15.2)\n",
      "Requirement already satisfied: joblib>=1.2.0 in c:\\users\\user\\appdata\\local\\programs\\python\\python312\\lib\\site-packages (from scikit-learn) (1.4.2)\n",
      "Requirement already satisfied: threadpoolctl>=3.1.0 in c:\\users\\user\\appdata\\local\\programs\\python\\python312\\lib\\site-packages (from scikit-learn) (3.5.0)\n",
      "Note: you may need to restart the kernel to use updated packages.\n"
     ]
    },
    {
     "name": "stderr",
     "output_type": "stream",
     "text": [
      "\n",
      "[notice] A new release of pip is available: 24.0 -> 25.0.1\n",
      "[notice] To update, run: python.exe -m pip install --upgrade pip\n"
     ]
    },
    {
     "name": "stdout",
     "output_type": "stream",
     "text": [
      "Requirement already satisfied: matplotlib in c:\\users\\user\\appdata\\local\\programs\\python\\python312\\lib\\site-packages (3.10.1)\n",
      "Requirement already satisfied: contourpy>=1.0.1 in c:\\users\\user\\appdata\\local\\programs\\python\\python312\\lib\\site-packages (from matplotlib) (1.3.1)\n",
      "Requirement already satisfied: cycler>=0.10 in c:\\users\\user\\appdata\\local\\programs\\python\\python312\\lib\\site-packages (from matplotlib) (0.12.1)\n",
      "Requirement already satisfied: fonttools>=4.22.0 in c:\\users\\user\\appdata\\local\\programs\\python\\python312\\lib\\site-packages (from matplotlib) (4.56.0)\n",
      "Requirement already satisfied: kiwisolver>=1.3.1 in c:\\users\\user\\appdata\\local\\programs\\python\\python312\\lib\\site-packages (from matplotlib) (1.4.8)\n",
      "Requirement already satisfied: numpy>=1.23 in c:\\users\\user\\appdata\\local\\programs\\python\\python312\\lib\\site-packages (from matplotlib) (2.2.3)\n",
      "Requirement already satisfied: packaging>=20.0 in c:\\users\\user\\appdata\\roaming\\python\\python312\\site-packages (from matplotlib) (24.2)\n",
      "Requirement already satisfied: pillow>=8 in c:\\users\\user\\appdata\\local\\programs\\python\\python312\\lib\\site-packages (from matplotlib) (11.1.0)\n",
      "Requirement already satisfied: pyparsing>=2.3.1 in c:\\users\\user\\appdata\\local\\programs\\python\\python312\\lib\\site-packages (from matplotlib) (3.2.1)\n",
      "Requirement already satisfied: python-dateutil>=2.7 in c:\\users\\user\\appdata\\roaming\\python\\python312\\site-packages (from matplotlib) (2.9.0.post0)\n",
      "Requirement already satisfied: six>=1.5 in c:\\users\\user\\appdata\\roaming\\python\\python312\\site-packages (from python-dateutil>=2.7->matplotlib) (1.17.0)\n",
      "Note: you may need to restart the kernel to use updated packages.\n"
     ]
    },
    {
     "name": "stderr",
     "output_type": "stream",
     "text": [
      "\n",
      "[notice] A new release of pip is available: 24.0 -> 25.0.1\n",
      "[notice] To update, run: python.exe -m pip install --upgrade pip\n"
     ]
    },
    {
     "name": "stdout",
     "output_type": "stream",
     "text": [
      "Requirement already satisfied: seaborn in c:\\users\\user\\appdata\\local\\programs\\python\\python312\\lib\\site-packages (0.13.2)\n",
      "Requirement already satisfied: numpy!=1.24.0,>=1.20 in c:\\users\\user\\appdata\\local\\programs\\python\\python312\\lib\\site-packages (from seaborn) (2.2.3)\n",
      "Requirement already satisfied: pandas>=1.2 in c:\\users\\user\\appdata\\local\\programs\\python\\python312\\lib\\site-packages (from seaborn) (2.2.3)\n",
      "Requirement already satisfied: matplotlib!=3.6.1,>=3.4 in c:\\users\\user\\appdata\\local\\programs\\python\\python312\\lib\\site-packages (from seaborn) (3.10.1)\n",
      "Requirement already satisfied: contourpy>=1.0.1 in c:\\users\\user\\appdata\\local\\programs\\python\\python312\\lib\\site-packages (from matplotlib!=3.6.1,>=3.4->seaborn) (1.3.1)\n",
      "Requirement already satisfied: cycler>=0.10 in c:\\users\\user\\appdata\\local\\programs\\python\\python312\\lib\\site-packages (from matplotlib!=3.6.1,>=3.4->seaborn) (0.12.1)\n",
      "Requirement already satisfied: fonttools>=4.22.0 in c:\\users\\user\\appdata\\local\\programs\\python\\python312\\lib\\site-packages (from matplotlib!=3.6.1,>=3.4->seaborn) (4.56.0)\n",
      "Requirement already satisfied: kiwisolver>=1.3.1 in c:\\users\\user\\appdata\\local\\programs\\python\\python312\\lib\\site-packages (from matplotlib!=3.6.1,>=3.4->seaborn) (1.4.8)\n",
      "Requirement already satisfied: packaging>=20.0 in c:\\users\\user\\appdata\\roaming\\python\\python312\\site-packages (from matplotlib!=3.6.1,>=3.4->seaborn) (24.2)\n",
      "Requirement already satisfied: pillow>=8 in c:\\users\\user\\appdata\\local\\programs\\python\\python312\\lib\\site-packages (from matplotlib!=3.6.1,>=3.4->seaborn) (11.1.0)\n",
      "Requirement already satisfied: pyparsing>=2.3.1 in c:\\users\\user\\appdata\\local\\programs\\python\\python312\\lib\\site-packages (from matplotlib!=3.6.1,>=3.4->seaborn) (3.2.1)\n",
      "Requirement already satisfied: python-dateutil>=2.7 in c:\\users\\user\\appdata\\roaming\\python\\python312\\site-packages (from matplotlib!=3.6.1,>=3.4->seaborn) (2.9.0.post0)\n",
      "Requirement already satisfied: pytz>=2020.1 in c:\\users\\user\\appdata\\local\\programs\\python\\python312\\lib\\site-packages (from pandas>=1.2->seaborn) (2025.1)\n",
      "Requirement already satisfied: tzdata>=2022.7 in c:\\users\\user\\appdata\\local\\programs\\python\\python312\\lib\\site-packages (from pandas>=1.2->seaborn) (2025.1)\n",
      "Requirement already satisfied: six>=1.5 in c:\\users\\user\\appdata\\roaming\\python\\python312\\site-packages (from python-dateutil>=2.7->matplotlib!=3.6.1,>=3.4->seaborn) (1.17.0)\n",
      "Note: you may need to restart the kernel to use updated packages.\n"
     ]
    },
    {
     "name": "stderr",
     "output_type": "stream",
     "text": [
      "\n",
      "[notice] A new release of pip is available: 24.0 -> 25.0.1\n",
      "[notice] To update, run: python.exe -m pip install --upgrade pip\n"
     ]
    },
    {
     "name": "stdout",
     "output_type": "stream",
     "text": [
      "Requirement already satisfied: statsmodels in c:\\users\\user\\appdata\\local\\programs\\python\\python312\\lib\\site-packages (0.14.4)\n",
      "Requirement already satisfied: numpy<3,>=1.22.3 in c:\\users\\user\\appdata\\local\\programs\\python\\python312\\lib\\site-packages (from statsmodels) (2.2.3)\n",
      "Requirement already satisfied: scipy!=1.9.2,>=1.8 in c:\\users\\user\\appdata\\local\\programs\\python\\python312\\lib\\site-packages (from statsmodels) (1.15.2)\n",
      "Requirement already satisfied: pandas!=2.1.0,>=1.4 in c:\\users\\user\\appdata\\local\\programs\\python\\python312\\lib\\site-packages (from statsmodels) (2.2.3)\n",
      "Requirement already satisfied: patsy>=0.5.6 in c:\\users\\user\\appdata\\local\\programs\\python\\python312\\lib\\site-packages (from statsmodels) (1.0.1)\n",
      "Requirement already satisfied: packaging>=21.3 in c:\\users\\user\\appdata\\roaming\\python\\python312\\site-packages (from statsmodels) (24.2)\n",
      "Requirement already satisfied: python-dateutil>=2.8.2 in c:\\users\\user\\appdata\\roaming\\python\\python312\\site-packages (from pandas!=2.1.0,>=1.4->statsmodels) (2.9.0.post0)\n",
      "Requirement already satisfied: pytz>=2020.1 in c:\\users\\user\\appdata\\local\\programs\\python\\python312\\lib\\site-packages (from pandas!=2.1.0,>=1.4->statsmodels) (2025.1)\n",
      "Requirement already satisfied: tzdata>=2022.7 in c:\\users\\user\\appdata\\local\\programs\\python\\python312\\lib\\site-packages (from pandas!=2.1.0,>=1.4->statsmodels) (2025.1)\n",
      "Requirement already satisfied: six>=1.5 in c:\\users\\user\\appdata\\roaming\\python\\python312\\site-packages (from python-dateutil>=2.8.2->pandas!=2.1.0,>=1.4->statsmodels) (1.17.0)\n",
      "Note: you may need to restart the kernel to use updated packages.\n"
     ]
    },
    {
     "name": "stderr",
     "output_type": "stream",
     "text": [
      "\n",
      "[notice] A new release of pip is available: 24.0 -> 25.0.1\n",
      "[notice] To update, run: python.exe -m pip install --upgrade pip\n"
     ]
    },
    {
     "name": "stdout",
     "output_type": "stream",
     "text": [
      "Requirement already satisfied: scipy in c:\\users\\user\\appdata\\local\\programs\\python\\python312\\lib\\site-packages (1.15.2)\n",
      "Requirement already satisfied: numpy<2.5,>=1.23.5 in c:\\users\\user\\appdata\\local\\programs\\python\\python312\\lib\\site-packages (from scipy) (2.2.3)\n",
      "Note: you may need to restart the kernel to use updated packages.\n"
     ]
    },
    {
     "name": "stderr",
     "output_type": "stream",
     "text": [
      "\n",
      "[notice] A new release of pip is available: 24.0 -> 25.0.1\n",
      "[notice] To update, run: python.exe -m pip install --upgrade pip\n"
     ]
    },
    {
     "name": "stdout",
     "output_type": "stream",
     "text": [
      "Requirement already satisfied: pingouin in c:\\users\\user\\appdata\\local\\programs\\python\\python312\\lib\\site-packages (0.5.5)\n",
      "Requirement already satisfied: matplotlib in c:\\users\\user\\appdata\\local\\programs\\python\\python312\\lib\\site-packages (from pingouin) (3.10.1)\n",
      "Requirement already satisfied: numpy in c:\\users\\user\\appdata\\local\\programs\\python\\python312\\lib\\site-packages (from pingouin) (2.2.3)\n",
      "Requirement already satisfied: pandas>=1.5 in c:\\users\\user\\appdata\\local\\programs\\python\\python312\\lib\\site-packages (from pingouin) (2.2.3)\n",
      "Requirement already satisfied: pandas-flavor in c:\\users\\user\\appdata\\local\\programs\\python\\python312\\lib\\site-packages (from pingouin) (0.6.0)\n",
      "Requirement already satisfied: scikit-learn>=1.2 in c:\\users\\user\\appdata\\local\\programs\\python\\python312\\lib\\site-packages (from pingouin) (1.6.1)\n",
      "Requirement already satisfied: scipy in c:\\users\\user\\appdata\\local\\programs\\python\\python312\\lib\\site-packages (from pingouin) (1.15.2)\n",
      "Requirement already satisfied: seaborn in c:\\users\\user\\appdata\\local\\programs\\python\\python312\\lib\\site-packages (from pingouin) (0.13.2)\n",
      "Requirement already satisfied: statsmodels in c:\\users\\user\\appdata\\local\\programs\\python\\python312\\lib\\site-packages (from pingouin) (0.14.4)\n",
      "Requirement already satisfied: tabulate in c:\\users\\user\\appdata\\local\\programs\\python\\python312\\lib\\site-packages (from pingouin) (0.9.0)\n",
      "Requirement already satisfied: python-dateutil>=2.8.2 in c:\\users\\user\\appdata\\roaming\\python\\python312\\site-packages (from pandas>=1.5->pingouin) (2.9.0.post0)\n",
      "Requirement already satisfied: pytz>=2020.1 in c:\\users\\user\\appdata\\local\\programs\\python\\python312\\lib\\site-packages (from pandas>=1.5->pingouin) (2025.1)\n",
      "Requirement already satisfied: tzdata>=2022.7 in c:\\users\\user\\appdata\\local\\programs\\python\\python312\\lib\\site-packages (from pandas>=1.5->pingouin) (2025.1)\n",
      "Requirement already satisfied: joblib>=1.2.0 in c:\\users\\user\\appdata\\local\\programs\\python\\python312\\lib\\site-packages (from scikit-learn>=1.2->pingouin) (1.4.2)\n",
      "Requirement already satisfied: threadpoolctl>=3.1.0 in c:\\users\\user\\appdata\\local\\programs\\python\\python312\\lib\\site-packages (from scikit-learn>=1.2->pingouin) (3.5.0)\n",
      "Requirement already satisfied: contourpy>=1.0.1 in c:\\users\\user\\appdata\\local\\programs\\python\\python312\\lib\\site-packages (from matplotlib->pingouin) (1.3.1)\n",
      "Requirement already satisfied: cycler>=0.10 in c:\\users\\user\\appdata\\local\\programs\\python\\python312\\lib\\site-packages (from matplotlib->pingouin) (0.12.1)\n",
      "Requirement already satisfied: fonttools>=4.22.0 in c:\\users\\user\\appdata\\local\\programs\\python\\python312\\lib\\site-packages (from matplotlib->pingouin) (4.56.0)\n",
      "Requirement already satisfied: kiwisolver>=1.3.1 in c:\\users\\user\\appdata\\local\\programs\\python\\python312\\lib\\site-packages (from matplotlib->pingouin) (1.4.8)\n",
      "Requirement already satisfied: packaging>=20.0 in c:\\users\\user\\appdata\\roaming\\python\\python312\\site-packages (from matplotlib->pingouin) (24.2)\n",
      "Requirement already satisfied: pillow>=8 in c:\\users\\user\\appdata\\local\\programs\\python\\python312\\lib\\site-packages (from matplotlib->pingouin) (11.1.0)\n",
      "Requirement already satisfied: pyparsing>=2.3.1 in c:\\users\\user\\appdata\\local\\programs\\python\\python312\\lib\\site-packages (from matplotlib->pingouin) (3.2.1)\n",
      "Requirement already satisfied: xarray in c:\\users\\user\\appdata\\local\\programs\\python\\python312\\lib\\site-packages (from pandas-flavor->pingouin) (2025.1.2)\n",
      "Requirement already satisfied: patsy>=0.5.6 in c:\\users\\user\\appdata\\local\\programs\\python\\python312\\lib\\site-packages (from statsmodels->pingouin) (1.0.1)\n",
      "Requirement already satisfied: six>=1.5 in c:\\users\\user\\appdata\\roaming\\python\\python312\\site-packages (from python-dateutil>=2.8.2->pandas>=1.5->pingouin) (1.17.0)\n",
      "Note: you may need to restart the kernel to use updated packages.\n"
     ]
    },
    {
     "name": "stderr",
     "output_type": "stream",
     "text": [
      "\n",
      "[notice] A new release of pip is available: 24.0 -> 25.0.1\n",
      "[notice] To update, run: python.exe -m pip install --upgrade pip\n"
     ]
    }
   ],
   "source": [
    "%pip install pandas\n",
    "%pip install scikit-learn\n",
    "%pip install matplotlib\n",
    "%pip install seaborn\n",
    "%pip install statsmodels\n",
    "%pip install scipy\n",
    "%pip install pingouin"
   ]
  },
  {
   "cell_type": "markdown",
   "metadata": {},
   "source": [
    "**Data preparation**"
   ]
  },
  {
   "cell_type": "code",
   "execution_count": null,
   "metadata": {},
   "outputs": [
    {
     "name": "stdout",
     "output_type": "stream",
     "text": [
      "columns of the datasets:"
     ]
    },
    {
     "name": "stderr",
     "output_type": "stream",
     "text": [
      "<>:4: SyntaxWarning: invalid escape sequence '\\g'\n",
      "<>:6: SyntaxWarning: invalid escape sequence '\\g'\n",
      "<>:4: SyntaxWarning: invalid escape sequence '\\g'\n",
      "<>:6: SyntaxWarning: invalid escape sequence '\\g'\n",
      "C:\\Users\\User\\AppData\\Local\\Temp\\ipykernel_33972\\2258221127.py:4: SyntaxWarning: invalid escape sequence '\\g'\n",
      "  gdp_growth_df = pd.read_csv('GDPs\\gdp_per_capita_growth.csv')\n",
      "C:\\Users\\User\\AppData\\Local\\Temp\\ipykernel_33972\\2258221127.py:6: SyntaxWarning: invalid escape sequence '\\g'\n",
      "  gdp_ppp_df = pd.read_csv('GDPs\\gdp_ppp_per_capita.csv')\n"
     ]
    },
    {
     "name": "stdout",
     "output_type": "stream",
     "text": [
      "\n",
      "Index(['Country', 'Region', 'Happiness Rank', 'Happiness Score',\n",
      "       'Standard Error', 'Economy (GDP per Capita)', 'Family',\n",
      "       'Health (Life Expectancy)', 'Freedom', 'Trust (Government Corruption)',\n",
      "       'Generosity', 'Dystopia Residual'],\n",
      "      dtype='object')\n",
      "Index(['Country', 'Region', 'Happiness Rank', 'Happiness Score',\n",
      "       'Lower Confidence Interval', 'Upper Confidence Interval',\n",
      "       'Economy (GDP per Capita)', 'Family', 'Health (Life Expectancy)',\n",
      "       'Freedom', 'Trust (Government Corruption)', 'Generosity',\n",
      "       'Dystopia Residual'],\n",
      "      dtype='object')\n",
      "Index(['Country', 'Happiness.Rank', 'Happiness Score', 'Whisker.high',\n",
      "       'Whisker.low', 'Economy (GDP per Capita)', 'Family',\n",
      "       'Health (Life Expectancy)', 'Freedom', 'Generosity',\n",
      "       'Trust..Government.Corruption.', 'Dystopia.Residual'],\n",
      "      dtype='object')\n",
      "Index(['Overall rank', 'Country', 'Happiness Score',\n",
      "       'Economy (GDP per Capita)', 'Social support',\n",
      "       'Health (Life Expectancy)', 'Freedom', 'Generosity',\n",
      "       'Perceptions of corruption'],\n",
      "      dtype='object')\n",
      "Index(['Overall rank', 'Country', 'Happiness Score',\n",
      "       'Economy (GDP per Capita)', 'Social support',\n",
      "       'Health (Life Expectancy)', 'Freedom', 'Generosity',\n",
      "       'Perceptions of corruption'],\n",
      "      dtype='object')\n"
     ]
    }
   ],
   "source": [
    "import pandas as pd\n",
    "\n",
    "# Primary dataset\n",
    "gdp_growth_df = pd.read_csv(r'GDPs/gdp_per_capita_growth.csv') \n",
    "#We choose to use the gdp per capita growth because it is a better indicator of the economic growth of a country than only gdp\n",
    "gdp_ppp_df = pd.read_csv(r'GDPs/gdp_ppp_per_capita.csv')\n",
    "gdp_growth_df.head()\n",
    "\n",
    "# Auxiliary datasets\n",
    "happiness_2015_df = pd.read_csv(r'happiness_score/2015.csv')\n",
    "happiness_2016_df = pd.read_csv(r'happiness_score/2016.csv')\n",
    "happiness_2017_df = pd.read_csv(r'happiness_score/2017.csv')\n",
    "happiness_2018_df = pd.read_csv(r'happiness_score/2018.csv')\n",
    "happiness_2019_df = pd.read_csv(r'happiness_score/2019.csv')\n",
    "\n",
    "print(\"columns of the datasets:\")\n",
    "print(happiness_2015_df.columns)\n",
    "print(happiness_2016_df.columns)\n",
    "print(happiness_2017_df.columns)\n",
    "print(happiness_2018_df.columns)\n",
    "print(happiness_2019_df.columns)"
   ]
  },
  {
   "cell_type": "markdown",
   "metadata": {},
   "source": [
    "Changing all 5 datasets to be with the same column names"
   ]
  },
  {
   "cell_type": "code",
   "execution_count": null,
   "metadata": {},
   "outputs": [],
   "source": [
    "gdp_growth_df.rename(columns={\"Country Name\": \"Country\"}, inplace=True)"
   ]
  },
  {
   "cell_type": "code",
   "execution_count": null,
   "metadata": {},
   "outputs": [],
   "source": [
    "#change happiness columns to have the same name:\n",
    "happiness_2017_df.rename(columns={\"Happiness.Score\": \"Happiness Score\", \"Health..Life.Expectancy.\":\"Health (Life Expectancy)\", \"Economy..GDP.per.Capita.\":\"Economy (GDP per Capita)\"}, inplace=True)\n",
    "happiness_2018_df.rename(columns={\"Score\": \"Happiness Score\", \"GDP per capita\":\"Economy (GDP per Capita)\"}, inplace=True)\n",
    "happiness_2019_df.rename(columns={\"Score\": \"Happiness Score\", \"GDP per capita\":\"Economy (GDP per Capita)\"}, inplace=True)\n",
    "happiness_2017_df.to_csv(r'happiness_score/2017.csv', index=False)\n",
    "happiness_2018_df.to_csv(r'happiness_score/2018.csv', index=False)\n",
    "happiness_2019_df.to_csv(r'happiness_score/2019.csv', index=False)"
   ]
  },
  {
   "cell_type": "code",
   "execution_count": null,
   "metadata": {},
   "outputs": [
    {
     "name": "stdout",
     "output_type": "stream",
     "text": [
      "columns of the datasets:\n",
      "Index(['Country', 'Region', 'Happiness Rank', 'Happiness Score',\n",
      "       'Standard Error', 'Economy (GDP per Capita)', 'Family',\n",
      "       'Health (Life Expectancy)', 'Freedom', 'Trust (Government Corruption)',\n",
      "       'Generosity', 'Dystopia Residual'],\n",
      "      dtype='object')\n",
      "Index(['Country', 'Region', 'Happiness Rank', 'Happiness Score',\n",
      "       'Lower Confidence Interval', 'Upper Confidence Interval',\n",
      "       'Economy (GDP per Capita)', 'Family', 'Health (Life Expectancy)',\n",
      "       'Freedom', 'Trust (Government Corruption)', 'Generosity',\n",
      "       'Dystopia Residual'],\n",
      "      dtype='object')\n",
      "Index(['Country', 'Happiness.Rank', 'Happiness Score', 'Whisker.high',\n",
      "       'Whisker.low', 'Economy (GDP per Capita)', 'Family',\n",
      "       'Health (Life Expectancy)', 'Freedom', 'Generosity',\n",
      "       'Trust..Government.Corruption.', 'Dystopia.Residual'],\n",
      "      dtype='object')\n",
      "Index(['Overall rank', 'Country', 'Happiness Score',\n",
      "       'Economy (GDP per Capita)', 'Social support',\n",
      "       'Health (Life Expectancy)', 'Freedom', 'Generosity',\n",
      "       'Perceptions of corruption'],\n",
      "      dtype='object')\n",
      "Index(['Overall rank', 'Country', 'Happiness Score',\n",
      "       'Economy (GDP per Capita)', 'Social support',\n",
      "       'Health (Life Expectancy)', 'Freedom', 'Generosity',\n",
      "       'Perceptions of corruption'],\n",
      "      dtype='object')\n"
     ]
    }
   ],
   "source": [
    "#change country column to have the same name:\n",
    "happiness_2018_df.rename(columns={\"Country or region\": \"Country\", \"Freedom to make life choices\": \"Freedom\", \"Healthy life expectancy\":\"Health (Life Expectancy)\"}, inplace=True)\n",
    "happiness_2019_df.rename(columns={\"Country or region\": \"Country\", \"Freedom to make life choices\": \"Freedom\", \"Healthy..life expectancy\": \"Health (Life Expectancy)\"}, inplace=True)\n",
    "happiness_2018_df.to_csv(r'happiness_score/2018.csv', index=False)\n",
    "happiness_2019_df.to_csv(r'happiness_score/2019.csv', index=False)\n",
    "\n",
    "\n",
    "print(\"columns of the datasets:\")\n",
    "print(happiness_2015_df.columns)\n",
    "print(happiness_2016_df.columns)\n",
    "print(happiness_2017_df.columns)\n",
    "print(happiness_2018_df.columns)\n",
    "print(happiness_2019_df.columns)"
   ]
  },
  {
   "cell_type": "code",
   "execution_count": 36,
   "metadata": {},
   "outputs": [
    {
     "name": "stdout",
     "output_type": "stream",
     "text": [
      "columns of the datasets:\n",
      "Index(['Country', 'Happiness Score', 'Economy (GDP per Capita)',\n",
      "       'Health (Life Expectancy)', 'Region'],\n",
      "      dtype='object')\n",
      "Index(['Country', 'Happiness Score', 'Economy (GDP per Capita)',\n",
      "       'Health (Life Expectancy)', 'Region'],\n",
      "      dtype='object')\n",
      "Index(['Country', 'Happiness Score', 'Economy (GDP per Capita)',\n",
      "       'Health (Life Expectancy)'],\n",
      "      dtype='object')\n",
      "Index(['Country', 'Happiness Score', 'Economy (GDP per Capita)',\n",
      "       'Health (Life Expectancy)'],\n",
      "      dtype='object')\n",
      "Index(['Country', 'Happiness Score', 'Economy (GDP per Capita)',\n",
      "       'Health (Life Expectancy)'],\n",
      "      dtype='object')\n"
     ]
    }
   ],
   "source": [
    "# Leave only shared columns\n",
    "datasets= [happiness_2015_df, happiness_2016_df, happiness_2017_df, happiness_2018_df, happiness_2019_df]\n",
    "for i in range(len(datasets)): \n",
    "    if 'Region' in datasets[i].columns:\n",
    "        datasets[i] = datasets[i][['Country', 'Happiness Score', 'Economy (GDP per Capita)', 'Health (Life Expectancy)', 'Region']]\n",
    "    else:\n",
    "        datasets[i] = datasets[i][['Country', 'Happiness Score', 'Economy (GDP per Capita)', 'Health (Life Expectancy)']]\n",
    "happiness_2015_df, happiness_2016_df, happiness_2017_df, happiness_2018_df, happiness_2019_df = datasets\n",
    "\n",
    "print(\"columns of the datasets:\")\n",
    "print(happiness_2015_df.columns)\n",
    "print(happiness_2016_df.columns)\n",
    "print(happiness_2017_df.columns)\n",
    "print(happiness_2018_df.columns)\n",
    "print(happiness_2019_df.columns)"
   ]
  },
  {
   "cell_type": "code",
   "execution_count": 37,
   "metadata": {},
   "outputs": [],
   "source": [
    "# Merge region information from datasets that have it\n",
    "datasets_to_concat = []\n",
    "for df in datasets:\n",
    "    if 'Region' in df.columns:\n",
    "        datasets_to_concat.append(df[['Country', 'Region']])\n",
    "region_mapping = pd.concat(datasets_to_concat, ignore_index=True)\n",
    "region_mapping.drop_duplicates(subset=['Country'], inplace=True)\n",
    "\n",
    "# Fill missing \"Region\" values based on country\n",
    "for i in range(len(datasets)): \n",
    "    if 'Region' not in datasets[i].columns:\n",
    "        datasets[i]['Region'] = datasets[i]['Country'].map(region_mapping.set_index('Country')['Region'])\n",
    "\n",
    "happiness_2015_df, happiness_2016_df, happiness_2017_df, happiness_2018_df, happiness_2019_df = datasets\n"
   ]
  },
  {
   "cell_type": "code",
   "execution_count": 38,
   "metadata": {},
   "outputs": [],
   "source": [
    "# Concatenate all five datasets\n",
    "happiness_df = pd.concat(datasets, ignore_index=True)\n"
   ]
  },
  {
   "cell_type": "markdown",
   "metadata": {},
   "source": [
    "**Merge with other datasets**"
   ]
  },
  {
   "cell_type": "code",
   "execution_count": null,
   "metadata": {},
   "outputs": [],
   "source": [
    "# Prepare the world population datasets\n",
    "countries_df = pd.read_csv(r'countries\\world_population.csv') \n",
    "countries_df.rename(columns={\"Country/Other\": \"Country\"}, inplace=True)\n",
    "countries_df.rename(columns ={\"Population (2020)\": \"Population\"}, inplace=True)\n",
    "countries_df.rename(columns ={r\"Density (P/Km²)\": \"Density\"}, inplace=True)\n",
    "countries_df.head()\n",
    "# Fill missing \"Region\" values based on country\n",
    "countries_df['Region'] = countries_df['Country'].map(region_mapping.set_index('Country')['Region'])\n",
    "countries_df = countries_df.drop(columns=['Country'])\n",
    "\n",
    "# Prepare the obesity dataset\n",
    "obesity_df = pd.read_csv(r'Additional_datasets\\WHO_obesityByCountry_2016.csv')\n",
    "obesity_df.rename(columns={\"Unnamed: 0\": \"Country\"}, inplace=True)\n",
    "obesity_df.rename(columns={\"Both.sexes\": \"Both Sexes Obesity Rate\"}, inplace=True)\n",
    "obesity_df.rename(columns={\"Male\": \"Male Obesity Rate\"}, inplace=True)\n",
    "obesity_df.rename(columns={\"Female\": \"Female Obesity Rate\"}, inplace=True)\n",
    "# Fill missing \"Region\" values based on country\n",
    "obesity_df['Region'] = obesity_df['Country'].map(region_mapping.set_index('Country')['Region'])\n",
    "obesity_df = obesity_df.drop(columns=['Country'])\n",
    "obesity_df.head()\n",
    "\n",
    "# Prepare the crime rates dataset\n",
    "crime_rates_df = pd.read_csv(r'Additional_datasets\\CrimeRates.csv')\n",
    "crime_rates_df = crime_rates_df.drop(columns=['Country'])\n",
    "\n",
    "\n"
   ]
  },
  {
   "cell_type": "code",
   "execution_count": 40,
   "metadata": {},
   "outputs": [
    {
     "name": "stdout",
     "output_type": "stream",
     "text": [
      "       Country  Happiness Score  Economy (GDP per Capita)  \\\n",
      "0  Switzerland            7.587                   1.39651   \n",
      "1  Switzerland            7.587                   1.39651   \n",
      "2  Switzerland            7.587                   1.39651   \n",
      "3  Switzerland            7.587                   1.39651   \n",
      "4  Switzerland            7.587                   1.39651   \n",
      "\n",
      "   Health (Life Expectancy)          Region  Population  Yearly Change  \\\n",
      "0                   0.94143  Western Europe     9006398           0.57   \n",
      "1                   0.94143  Western Europe     9006398           0.57   \n",
      "2                   0.94143  Western Europe     9006398           0.57   \n",
      "3                   0.94143  Western Europe     9006398           0.57   \n",
      "4                   0.94143  Western Europe     9006398           0.57   \n",
      "\n",
      "   Net Change  Density  Land Area (Km²)  ...  International cooperation  \\\n",
      "0       51296      109            82409  ...                        7.5   \n",
      "1       51296      109            82409  ...                        8.0   \n",
      "2       51296      109            82409  ...                        8.5   \n",
      "3       51296      109            82409  ...                        8.0   \n",
      "4       51296      109            82409  ...                        8.0   \n",
      "\n",
      "   National policies and laws  Judicial system and detention  Law enforcement  \\\n",
      "0                         6.5                            7.0              7.5   \n",
      "1                         8.0                            7.0              7.0   \n",
      "2                         7.5                            6.5              7.0   \n",
      "3                         7.5                            7.5              7.5   \n",
      "4                         8.0                            8.0              8.0   \n",
      "\n",
      "   Territorial integrity  Anti-money laundering  Economic regulatory capacity  \\\n",
      "0                    8.5                    5.0                           6.0   \n",
      "1                    8.0                    8.0                           8.0   \n",
      "2                    5.0                    8.0                           8.0   \n",
      "3                    6.0                    6.5                           6.5   \n",
      "4                    8.0                    6.0                           8.0   \n",
      "\n",
      "   Victim and witness support Prevention  Non-state actors  \n",
      "0                         8.0        6.0               8.0  \n",
      "1                         7.0        5.5               7.0  \n",
      "2                         5.0        6.5               7.0  \n",
      "3                         8.0        8.0               8.0  \n",
      "4                         8.5        8.0               8.5  \n",
      "\n",
      "[5 rows x 49 columns]\n"
     ]
    }
   ],
   "source": [
    "#join with the happiness dataset:)\n",
    "merged_df = happiness_df.merge(countries_df, on=[\"Region\"], how=\"left\")\n",
    "\n",
    "# Then merge with obesity dataset\n",
    "merged_df = merged_df.merge(obesity_df, on=[\"Region\"], how=\"left\")\n",
    "\n",
    "# Then merge with crime rate dataset\n",
    "merged_df = merged_df.merge(crime_rates_df, on=[\"Region\"], how=\"left\")\n",
    "\n",
    "merged_df.dropna(inplace=True)\n",
    "print(merged_df.head())"
   ]
  },
  {
   "cell_type": "code",
   "execution_count": 41,
   "metadata": {},
   "outputs": [],
   "source": [
    "import numpy as np\n",
    "import pandas as pd\n",
    "import pingouin as pg\n",
    "from scipy.stats import spearmanr\n",
    "import time\n",
    "\n",
    "def find_best_mediators(df, potential_mediators, number_of_best_mediators, treatment='Region', outcome='Happiness Score'):\n",
    "    start_time = time.time()\n",
    "    # Compute unconditional correlation between 'Region' and 'Happiness Score'\n",
    "    corr_unconditional, _ = spearmanr(df[treatment], df[outcome])\n",
    "    mediation_results = {}\n",
    "\n",
    "    # Iterate over all potential mediators \n",
    "    for col in potential_mediators:\n",
    "        if col in ['Happiness Score', 'Region']:  \n",
    "            continue\n",
    "        result = pg.partial_corr(\n",
    "            data=df,\n",
    "            x=treatment,\n",
    "            y=outcome,\n",
    "            covar=col,\n",
    "            method='spearman'\n",
    "        )\n",
    "        corr_conditional = result['r'].values[0]\n",
    "\n",
    "        # Measure the reduction in correlation by looking at the absolute values\n",
    "        corr_reduction = abs(corr_unconditional) - abs(corr_conditional)\n",
    "        mediation_results[col] = corr_reduction\n",
    "\n",
    "    # Identify strongest mediators by the biggest reduction in correlation\n",
    "    mediation_results = {key: val for key, val in mediation_results.items() if val > 0}\n",
    "    best_mediators = sorted(mediation_results, key=mediation_results.get, reverse=True)[:number_of_best_mediators]\n",
    "\n",
    "    print(f\"{len(potential_mediators)} variables have been checked, and the best {number_of_best_mediators} mediators found are:\")\n",
    "    print(\"\")\n",
    "    for i, best_mediator in enumerate(best_mediators):\n",
    "        print(f\"{i+1}st place: {best_mediator} with a correlation reduction of {mediation_results[best_mediator]}\")\n",
    "        print(\"\")\n",
    "    end_time = time.time()\n",
    "    print(\"Unconditional Correlation\", corr_unconditional)\n",
    "    print(f\"Execution time: {end_time - start_time} seconds\")"
   ]
  },
  {
   "cell_type": "code",
   "execution_count": 42,
   "metadata": {},
   "outputs": [
    {
     "name": "stdout",
     "output_type": "stream",
     "text": [
      "49 variables have been checked, and the best 5 mediators found are:\n",
      "\n",
      "1st place: Continent with a correlation reduction of 0.2876602249279683\n",
      "\n",
      "2st place: Economy (GDP per Capita) with a correlation reduction of 0.14017596416975908\n",
      "\n",
      "3st place: Health (Life Expectancy) with a correlation reduction of 0.017208857838758584\n",
      "\n",
      "4st place: Victim and witness support with a correlation reduction of 0.015364241719540705\n",
      "\n",
      "5st place: Non-state actors with a correlation reduction of 0.015178917669836423\n",
      "\n",
      "Unconditional Correlation 0.2990246908748602\n",
      "Execution time: 11.53006625175476 seconds\n"
     ]
    }
   ],
   "source": [
    "number_of_best_mediators = 5\n",
    "\n",
    "# Convert categorical columns to numeric codes\n",
    "categorical_cols = merged_df.select_dtypes(include=['object', 'category']).columns.tolist()\n",
    "for col in categorical_cols:\n",
    "    merged_df[col] = merged_df[col].astype('category').cat.codes\n",
    "\n",
    "find_best_mediators(merged_df, merged_df.columns, number_of_best_mediators)\n",
    "\n"
   ]
  },
  {
   "cell_type": "markdown",
   "metadata": {},
   "source": [
    "**Automate the proccess using LLMs**"
   ]
  },
  {
   "cell_type": "markdown",
   "metadata": {},
   "source": [
    "Chatgpt queries:"
   ]
  },
  {
   "cell_type": "code",
   "execution_count": 43,
   "metadata": {},
   "outputs": [
    {
     "name": "stdout",
     "output_type": "stream",
     "text": [
      "10 variables have been checked, and the best 5 mediators found are:\n",
      "\n",
      "1st place: Economy (GDP per Capita) with a correlation reduction of 0.14017596416975908\n",
      "\n",
      "2st place: Health (Life Expectancy) with a correlation reduction of 0.017208857838758584\n",
      "\n",
      "3st place: Political leadership and governance with a correlation reduction of 0.01488862612405406\n",
      "\n",
      "4st place: Law enforcement with a correlation reduction of 0.01443784425731176\n",
      "\n",
      "5st place: Government transparency and accountability with a correlation reduction of 0.014324254151359128\n",
      "\n",
      "Unconditional Correlation 0.2990246908748602\n",
      "Execution time: 2.6763906478881836 seconds\n"
     ]
    }
   ],
   "source": [
    "all_potential_mediators = merged_df.columns\n",
    "\n",
    "potential_mediators = [\n",
    "    'Economy (GDP per Capita)',\n",
    "    'Health (Life Expectancy)',\n",
    "    \"Population\",\n",
    "    \"Urban Pop %\",\n",
    "    \"Criminality\",\n",
    "    \"Government transparency and accountability\",\n",
    "    \"Law enforcement\",\n",
    "    \"Political leadership and governance\",\n",
    "    \"National policies and laws\",\n",
    "    \"Judicial system and detention\"\n",
    "]\n",
    "find_best_mediators(merged_df, potential_mediators, number_of_best_mediators)"
   ]
  },
  {
   "cell_type": "markdown",
   "metadata": {},
   "source": [
    "Copilot queries:"
   ]
  },
  {
   "cell_type": "code",
   "execution_count": 44,
   "metadata": {},
   "outputs": [
    {
     "name": "stdout",
     "output_type": "stream",
     "text": [
      "10 variables have been checked, and the best 5 mediators found are:\n",
      "\n",
      "1st place: Economy (GDP per Capita) with a correlation reduction of 0.14017596416975908\n",
      "\n",
      "2st place: Health (Life Expectancy) with a correlation reduction of 0.017208857838758584\n",
      "\n",
      "3st place: Political leadership and governance with a correlation reduction of 0.01488862612405406\n",
      "\n",
      "4st place: Law enforcement with a correlation reduction of 0.01443784425731176\n",
      "\n",
      "5st place: Government transparency and accountability with a correlation reduction of 0.014324254151359128\n",
      "\n",
      "Unconditional Correlation 0.2990246908748602\n",
      "Execution time: 2.7768454551696777 seconds\n"
     ]
    }
   ],
   "source": [
    "all_potential_mediators = merged_df.columns\n",
    "\n",
    "potential_mediators = [\n",
    "    \"Economy (GDP per Capita)\",\n",
    "    \"Health (Life Expectancy)\",\n",
    "    \"Political leadership and governance\",\n",
    "    \"Government transparency and accountability\",\n",
    "    \"International cooperation\",\n",
    "    \"National policies and laws\",\n",
    "    \"Judicial system and detention\",\n",
    "    \"Law enforcement\",\n",
    "    \"Resilience\",\n",
    "    \"Economic regulatory capacity\"\n",
    "]\n",
    "find_best_mediators(merged_df, potential_mediators, number_of_best_mediators)"
   ]
  },
  {
   "cell_type": "markdown",
   "metadata": {},
   "source": [
    "Deepseek queries:"
   ]
  },
  {
   "cell_type": "code",
   "execution_count": null,
   "metadata": {},
   "outputs": [
    {
     "name": "stdout",
     "output_type": "stream",
     "text": [
      "10 variables have been checked, and the best 5 mediators found are:\n",
      "\n",
      "1st place: Economy (GDP per Capita) with a correlation reduction of 0.14017596416975908\n",
      "\n",
      "2st place: Health (Life Expectancy) with a correlation reduction of 0.017208857838758584\n",
      "\n",
      "3st place: Political leadership and governance with a correlation reduction of 0.01488862612405406\n",
      "\n",
      "4st place: Both Sexes Obesity Rate with a correlation reduction of 0.01481843162959906\n",
      "\n",
      "5st place: Law enforcement with a correlation reduction of 0.01443784425731176\n",
      "\n",
      "Unconditional Correlation 0.2990246908748602\n",
      "Execution time: 2.7565624713897705 seconds\n"
     ]
    }
   ],
   "source": [
    "all_potential_mediators = merged_df.columns\n",
    "\n",
    "potential_mediators = [\n",
    "    \"Economy (GDP per Capita)\",\n",
    "    \"Health (Life Expectancy)\",\n",
    "    \"Criminality\",\n",
    "    \"Political leadership and governance\",\n",
    "    \"Government transparency and accountability\",\n",
    "    \"Law enforcement\",\n",
    "    \"Economic regulatory capacity\",\n",
    "    \"Urban Pop %\",\n",
    "    \"Both Sexes Obesity Rate\",\n",
    "    \"Resilience\"\n",
    "]\n",
    "find_best_mediators(merged_df, potential_mediators, number_of_best_mediators)"
   ]
  }
 ],
 "metadata": {
  "kernelspec": {
   "display_name": "Python 3",
   "language": "python",
   "name": "python3"
  },
  "language_info": {
   "codemirror_mode": {
    "name": "ipython",
    "version": 3
   },
   "file_extension": ".py",
   "mimetype": "text/x-python",
   "name": "python",
   "nbconvert_exporter": "python",
   "pygments_lexer": "ipython3",
   "version": "3.12.3"
  }
 },
 "nbformat": 4,
 "nbformat_minor": 2
}
