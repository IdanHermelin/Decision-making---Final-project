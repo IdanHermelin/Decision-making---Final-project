{
 "cells": [
  {
   "cell_type": "markdown",
   "metadata": {},
   "source": [
    "Final Project: finding confounding variables\n",
    "\n",
    "Idan Hermelin\n",
    "\n",
    "Noam Biton"
   ]
  },
  {
   "cell_type": "code",
   "execution_count": 439,
   "metadata": {},
   "outputs": [
    {
     "name": "stdout",
     "output_type": "stream",
     "text": [
      "columns of the datasets:\n",
      "Index(['Country', 'Region', 'Happiness Rank', 'Happiness Score',\n",
      "       'Standard Error', 'Economy (GDP per Capita)', 'Family',\n",
      "       'Health (Life Expectancy)', 'Freedom', 'Trust (Government Corruption)',\n",
      "       'Generosity', 'Dystopia Residual'],\n",
      "      dtype='object')\n",
      "Index(['Country', 'Region', 'Happiness Rank', 'Happiness Score',\n",
      "       'Lower Confidence Interval', 'Upper Confidence Interval',\n",
      "       'Economy (GDP per Capita)', 'Family', 'Health (Life Expectancy)',\n",
      "       'Freedom', 'Trust (Government Corruption)', 'Generosity',\n",
      "       'Dystopia Residual'],\n",
      "      dtype='object')\n",
      "Index(['Country', 'Happiness.Rank', 'Happiness Score', 'Whisker.high',\n",
      "       'Whisker.low', 'Economy (GDP per Capita)', 'Family',\n",
      "       'Health (Life Expectancy)', 'Freedom', 'Generosity',\n",
      "       'Trust..Government.Corruption.', 'Dystopia.Residual'],\n",
      "      dtype='object')\n",
      "Index(['Overall rank', 'Country', 'Happiness Score',\n",
      "       'Economy (GDP per Capita)', 'Social support',\n",
      "       'Health (Life Expectancy)', 'Freedom', 'Generosity',\n",
      "       'Perceptions of corruption'],\n",
      "      dtype='object')\n",
      "Index(['Overall rank', 'Country', 'Happiness Score',\n",
      "       'Economy (GDP per Capita)', 'Social support',\n",
      "       'Health (Life Expectancy)', 'Freedom', 'Generosity',\n",
      "       'Perceptions of corruption'],\n",
      "      dtype='object')\n"
     ]
    }
   ],
   "source": [
    "import pandas as pd\n",
    "\n",
    "# Primary dataset\n",
    "gdp_growth_df = pd.read_csv('GDPs\\gdp_per_capita_growth.csv') \n",
    "#We choose to use the gdp per capita growth because it is a better indicator of the economic growth of a country than only gdp\n",
    "gdp_ppp_df = pd.read_csv('GDPs\\gdp_ppp_per_capita.csv')\n",
    "gdp_growth_df.head()\n",
    "\n",
    "# Auxiliary datasets\n",
    "happiness_2015_df = pd.read_csv('happiness_score/2015.csv')\n",
    "happiness_2016_df = pd.read_csv('happiness_score/2016.csv')\n",
    "happiness_2017_df = pd.read_csv('happiness_score/2017.csv')\n",
    "happiness_2018_df = pd.read_csv('happiness_score/2018.csv')\n",
    "happiness_2019_df = pd.read_csv('happiness_score/2019.csv')\n",
    "\n",
    "print(\"columns of the datasets:\")\n",
    "print(happiness_2015_df.columns)\n",
    "print(happiness_2016_df.columns)\n",
    "print(happiness_2017_df.columns)\n",
    "print(happiness_2018_df.columns)\n",
    "print(happiness_2019_df.columns)"
   ]
  },
  {
   "cell_type": "code",
   "execution_count": 440,
   "metadata": {},
   "outputs": [],
   "source": [
    "gdp_growth_df.rename(columns={\"Country Name\": \"Country\"}, inplace=True)"
   ]
  },
  {
   "cell_type": "code",
   "execution_count": 441,
   "metadata": {},
   "outputs": [],
   "source": [
    "#change happiness columns to have the same name:\n",
    "happiness_2017_df.rename(columns={\"Happiness.Score\": \"Happiness Score\", \"Health..Life.Expectancy.\":\"Health (Life Expectancy)\", \"Economy..GDP.per.Capita.\":\"Economy (GDP per Capita)\"}, inplace=True)\n",
    "happiness_2018_df.rename(columns={\"Score\": \"Happiness Score\", \"GDP per capita\":\"Economy (GDP per Capita)\"}, inplace=True)\n",
    "happiness_2019_df.rename(columns={\"Score\": \"Happiness Score\", \"GDP per capita\":\"Economy (GDP per Capita)\"}, inplace=True)\n",
    "happiness_2017_df.to_csv('happiness_score/2017.csv', index=False)\n",
    "happiness_2018_df.to_csv('happiness_score/2018.csv', index=False)\n",
    "happiness_2019_df.to_csv('happiness_score/2019.csv', index=False)"
   ]
  },
  {
   "cell_type": "code",
   "execution_count": 442,
   "metadata": {},
   "outputs": [
    {
     "name": "stdout",
     "output_type": "stream",
     "text": [
      "Index(['Overall rank', 'Country', 'Happiness Score',\n",
      "       'Economy (GDP per Capita)', 'Social support',\n",
      "       'Health (Life Expectancy)', 'Freedom', 'Generosity',\n",
      "       'Perceptions of corruption'],\n",
      "      dtype='object')\n",
      "Index(['Overall rank', 'Country', 'Happiness Score',\n",
      "       'Economy (GDP per Capita)', 'Social support',\n",
      "       'Health (Life Expectancy)', 'Freedom', 'Generosity',\n",
      "       'Perceptions of corruption'],\n",
      "      dtype='object')\n"
     ]
    }
   ],
   "source": [
    "#change country column to have the same name:\n",
    "print(happiness_2019_df.columns)\n",
    "happiness_2018_df.rename(columns={\"Country or region\": \"Country\", \"Freedom to make life choices\": \"Freedom\", \"Healthy life expectancy\":\"Health (Life Expectancy)\"}, inplace=True)\n",
    "happiness_2019_df.rename( columns={\"Country or region\": \"Country\", \"Freedom to make life choices\": \"Freedom\", \"Healthy..life expectancy\":\"Health (Life Expectancy)\"}, inplace=True)\n",
    "happiness_2018_df.to_csv('happiness_score/2018.csv', index=False)\n",
    "happiness_2019_df.to_csv('happiness_score/2019.csv', index=False)\n",
    "\n",
    "print(happiness_2019_df.columns)"
   ]
  },
  {
   "cell_type": "markdown",
   "metadata": {},
   "source": [
    "Functions for creating dfs of GDP trends"
   ]
  },
  {
   "cell_type": "code",
   "execution_count": 443,
   "metadata": {},
   "outputs": [],
   "source": [
    "def merge_happiness(gdp_growth_df, happiness_df):\n",
    "    return gdp_growth_df.merge(happiness_df, on=[\"Country\"], how=\"left\")"
   ]
  },
  {
   "cell_type": "code",
   "execution_count": 444,
   "metadata": {},
   "outputs": [],
   "source": [
    "def GDP_happiness_df(year1, year2, merged_df):\n",
    "    last_10_years_df = [col for col in merged_df.columns if (col.isdigit() and int(col) >= year1 and int(col) <= year2)]\n",
    "    merged_df = merged_df[[\"Country\", \"Happiness Score\", \"Freedom\", \"Health (Life Expectancy)\", \"Economy (GDP per Capita)\"] + last_10_years_df]\n",
    "    merged_df = merged_df.dropna()\n",
    "    return merged_df"
   ]
  },
  {
   "cell_type": "code",
   "execution_count": 445,
   "metadata": {},
   "outputs": [],
   "source": [
    "def calc_trend_growth(merged_df, year1, year2):\n",
    "    last_10_years_cols = [col for col in merged_df.columns if (col.isdigit() and int(col) >= year1 and int(col) <= year2)]\n",
    "    merged_df['GDP Growth Trend Over 10 Years'] = merged_df[last_10_years_cols].mean(axis=1, skipna=True)\n",
    "    return merged_df"
   ]
  },
  {
   "cell_type": "markdown",
   "metadata": {},
   "source": [
    "Create the dfs that contains the trends in the GDP:"
   ]
  },
  {
   "cell_type": "code",
   "execution_count": 446,
   "metadata": {},
   "outputs": [],
   "source": [
    "# Create merged datasets for gdp per capita\n",
    "merged_2015_to_2019_dfs = []\n",
    "for year in range(2015, 2020):  \n",
    "    happiness_df = pd.read_csv(f'happiness_score/{year}.csv')\n",
    "    merged_df = merge_happiness(gdp_growth_df, happiness_df)\n",
    "    merged_df = GDP_happiness_df(year-8, year, merged_df)\n",
    "    merged_df = calc_trend_growth(merged_df, year-8, year)\n",
    "    merged_2015_to_2019_dfs.append(merged_df)"
   ]
  },
  {
   "cell_type": "code",
   "execution_count": 447,
   "metadata": {},
   "outputs": [
    {
     "data": {
      "text/html": [
       "<div>\n",
       "<style scoped>\n",
       "    .dataframe tbody tr th:only-of-type {\n",
       "        vertical-align: middle;\n",
       "    }\n",
       "\n",
       "    .dataframe tbody tr th {\n",
       "        vertical-align: top;\n",
       "    }\n",
       "\n",
       "    .dataframe thead th {\n",
       "        text-align: right;\n",
       "    }\n",
       "</style>\n",
       "<table border=\"1\" class=\"dataframe\">\n",
       "  <thead>\n",
       "    <tr style=\"text-align: right;\">\n",
       "      <th></th>\n",
       "      <th>Country</th>\n",
       "      <th>Happiness Score</th>\n",
       "      <th>Freedom</th>\n",
       "      <th>Health (Life Expectancy)</th>\n",
       "      <th>Economy (GDP per Capita)</th>\n",
       "      <th>2007</th>\n",
       "      <th>2008</th>\n",
       "      <th>2009</th>\n",
       "      <th>2010</th>\n",
       "      <th>2011</th>\n",
       "      <th>2012</th>\n",
       "      <th>2013</th>\n",
       "      <th>2014</th>\n",
       "      <th>2015</th>\n",
       "      <th>GDP Growth Trend Over 10 Years</th>\n",
       "    </tr>\n",
       "  </thead>\n",
       "  <tbody>\n",
       "    <tr>\n",
       "      <th>2</th>\n",
       "      <td>Afghanistan</td>\n",
       "      <td>3.575</td>\n",
       "      <td>0.23414</td>\n",
       "      <td>0.30335</td>\n",
       "      <td>0.31982</td>\n",
       "      <td>11.022787</td>\n",
       "      <td>1.594215</td>\n",
       "      <td>18.515419</td>\n",
       "      <td>11.264091</td>\n",
       "      <td>-2.681061</td>\n",
       "      <td>8.974865</td>\n",
       "      <td>1.974166</td>\n",
       "      <td>-0.665291</td>\n",
       "      <td>-1.622857</td>\n",
       "      <td>5.375148</td>\n",
       "    </tr>\n",
       "    <tr>\n",
       "      <th>4</th>\n",
       "      <td>Angola</td>\n",
       "      <td>4.033</td>\n",
       "      <td>0.10384</td>\n",
       "      <td>0.16683</td>\n",
       "      <td>0.75778</td>\n",
       "      <td>9.890049</td>\n",
       "      <td>7.116848</td>\n",
       "      <td>-2.808600</td>\n",
       "      <td>0.640263</td>\n",
       "      <td>-0.220843</td>\n",
       "      <td>4.706519</td>\n",
       "      <td>1.291994</td>\n",
       "      <td>1.219881</td>\n",
       "      <td>-2.468737</td>\n",
       "      <td>2.151930</td>\n",
       "    </tr>\n",
       "    <tr>\n",
       "      <th>5</th>\n",
       "      <td>Albania</td>\n",
       "      <td>4.959</td>\n",
       "      <td>0.35733</td>\n",
       "      <td>0.81325</td>\n",
       "      <td>0.87867</td>\n",
       "      <td>6.787229</td>\n",
       "      <td>8.328108</td>\n",
       "      <td>4.053140</td>\n",
       "      <td>4.223084</td>\n",
       "      <td>2.821642</td>\n",
       "      <td>1.584873</td>\n",
       "      <td>1.187234</td>\n",
       "      <td>1.985388</td>\n",
       "      <td>2.516827</td>\n",
       "      <td>3.720836</td>\n",
       "    </tr>\n",
       "    <tr>\n",
       "      <th>8</th>\n",
       "      <td>United Arab Emirates</td>\n",
       "      <td>6.901</td>\n",
       "      <td>0.64157</td>\n",
       "      <td>0.80925</td>\n",
       "      <td>1.42727</td>\n",
       "      <td>-11.345653</td>\n",
       "      <td>-10.208646</td>\n",
       "      <td>-15.151225</td>\n",
       "      <td>-5.914931</td>\n",
       "      <td>2.186344</td>\n",
       "      <td>2.257099</td>\n",
       "      <td>4.409938</td>\n",
       "      <td>4.225677</td>\n",
       "      <td>4.507818</td>\n",
       "      <td>-2.781509</td>\n",
       "    </tr>\n",
       "    <tr>\n",
       "      <th>9</th>\n",
       "      <td>Argentina</td>\n",
       "      <td>6.574</td>\n",
       "      <td>0.44974</td>\n",
       "      <td>0.78723</td>\n",
       "      <td>1.05351</td>\n",
       "      <td>7.924211</td>\n",
       "      <td>3.029501</td>\n",
       "      <td>-6.854225</td>\n",
       "      <td>9.300123</td>\n",
       "      <td>4.788683</td>\n",
       "      <td>-2.145284</td>\n",
       "      <td>1.265685</td>\n",
       "      <td>-3.578581</td>\n",
       "      <td>1.629664</td>\n",
       "      <td>1.706642</td>\n",
       "    </tr>\n",
       "  </tbody>\n",
       "</table>\n",
       "</div>"
      ],
      "text/plain": [
       "                Country  Happiness Score  Freedom  Health (Life Expectancy)  \\\n",
       "2           Afghanistan            3.575  0.23414                   0.30335   \n",
       "4                Angola            4.033  0.10384                   0.16683   \n",
       "5               Albania            4.959  0.35733                   0.81325   \n",
       "8  United Arab Emirates            6.901  0.64157                   0.80925   \n",
       "9             Argentina            6.574  0.44974                   0.78723   \n",
       "\n",
       "   Economy (GDP per Capita)       2007       2008       2009       2010  \\\n",
       "2                   0.31982  11.022787   1.594215  18.515419  11.264091   \n",
       "4                   0.75778   9.890049   7.116848  -2.808600   0.640263   \n",
       "5                   0.87867   6.787229   8.328108   4.053140   4.223084   \n",
       "8                   1.42727 -11.345653 -10.208646 -15.151225  -5.914931   \n",
       "9                   1.05351   7.924211   3.029501  -6.854225   9.300123   \n",
       "\n",
       "       2011      2012      2013      2014      2015  \\\n",
       "2 -2.681061  8.974865  1.974166 -0.665291 -1.622857   \n",
       "4 -0.220843  4.706519  1.291994  1.219881 -2.468737   \n",
       "5  2.821642  1.584873  1.187234  1.985388  2.516827   \n",
       "8  2.186344  2.257099  4.409938  4.225677  4.507818   \n",
       "9  4.788683 -2.145284  1.265685 -3.578581  1.629664   \n",
       "\n",
       "   GDP Growth Trend Over 10 Years  \n",
       "2                        5.375148  \n",
       "4                        2.151930  \n",
       "5                        3.720836  \n",
       "8                       -2.781509  \n",
       "9                        1.706642  "
      ]
     },
     "execution_count": 447,
     "metadata": {},
     "output_type": "execute_result"
    }
   ],
   "source": [
    "merged_2015_to_2019_dfs[0].head()"
   ]
  },
  {
   "cell_type": "code",
   "execution_count": 448,
   "metadata": {},
   "outputs": [
    {
     "name": "stdout",
     "output_type": "stream",
     "text": [
      "                Country  Happiness Score  Freedom  Health (Life Expectancy)  \\\n",
      "2           Afghanistan            3.575  0.23414                   0.30335   \n",
      "4                Angola            4.033  0.10384                   0.16683   \n",
      "5               Albania            4.959  0.35733                   0.81325   \n",
      "8  United Arab Emirates            6.901  0.64157                   0.80925   \n",
      "9             Argentina            6.574  0.44974                   0.78723   \n",
      "\n",
      "   Economy (GDP per Capita)       2007       2008       2009       2010  \\\n",
      "2                   0.31982  11.022787   1.594215  18.515419  11.264091   \n",
      "4                   0.75778   9.890049   7.116848  -2.808600   0.640263   \n",
      "5                   0.87867   6.787229   8.328108   4.053140   4.223084   \n",
      "8                   1.42727 -11.345653 -10.208646 -15.151225  -5.914931   \n",
      "9                   1.05351   7.924211   3.029501  -6.854225   9.300123   \n",
      "\n",
      "       2011      2012      2013      2014      2015  \\\n",
      "2 -2.681061  8.974865  1.974166 -0.665291 -1.622857   \n",
      "4 -0.220843  4.706519  1.291994  1.219881 -2.468737   \n",
      "5  2.821642  1.584873  1.187234  1.985388  2.516827   \n",
      "8  2.186344  2.257099  4.409938  4.225677  4.507818   \n",
      "9  4.788683 -2.145284  1.265685 -3.578581  1.629664   \n",
      "\n",
      "   GDP Growth Trend Over 10 Years  \n",
      "2                        1.139151  \n",
      "4                        0.029221  \n",
      "5                        0.569481  \n",
      "8                       -1.669631  \n",
      "9                       -0.124116  \n"
     ]
    }
   ],
   "source": [
    "# Normalize the GDP Growth Trend Over 10 Years column so that it is between -1 and 1:\n",
    "# Use rubast scaler to normalize the data\n",
    "from sklearn.preprocessing import RobustScaler\n",
    "scaler = RobustScaler()\n",
    "for i in range(0, len(merged_2015_to_2019_dfs)):\n",
    "    merged_2015_to_2019_dfs[i]['GDP Growth Trend Over 10 Years'] = scaler.fit_transform(merged_2015_to_2019_dfs[i][['GDP Growth Trend Over 10 Years']])\n",
    "print(merged_2015_to_2019_dfs[0].head())\n"
   ]
  },
  {
   "cell_type": "code",
   "execution_count": 449,
   "metadata": {},
   "outputs": [
    {
     "name": "stdout",
     "output_type": "stream",
     "text": [
      "0.04781470745784676\n",
      "0.08757269783037869\n",
      "0.09757704185442709\n",
      "0.09324346861541954\n",
      "0.0713953380328811\n"
     ]
    }
   ],
   "source": [
    "#check the mean value of normelized GDP growth:\n",
    "for i in range(0, len(merged_2015_to_2019_dfs)):\n",
    "    print(merged_2015_to_2019_dfs[i]['GDP Growth Trend Over 10 Years'].mean())"
   ]
  },
  {
   "cell_type": "markdown",
   "metadata": {},
   "source": [
    "These values are more representing the real growth in GDP because in most countries, the expected GDP growth over the last 20 years has averaged around 2–4% annually for developed economies and 5–7%"
   ]
  },
  {
   "cell_type": "code",
   "execution_count": 450,
   "metadata": {},
   "outputs": [],
   "source": [
    "#!pip install statsmodels"
   ]
  },
  {
   "cell_type": "code",
   "execution_count": 451,
   "metadata": {},
   "outputs": [],
   "source": [
    "import statsmodels.api as sm\n",
    "\n",
    "def rank_confounders(df, treatment, outcome, confounders):\n",
    "    rankings = []\n",
    "    for confounder in confounders:\n",
    "        # Model without confounder\n",
    "        model1 = sm.OLS(df[outcome], sm.add_constant(df[[treatment]])).fit()\n",
    "        r2_without = model1.rsquared\n",
    "\n",
    "        # Model with confounder\n",
    "        model2 = sm.OLS(df[outcome], sm.add_constant(df[[treatment, confounder]])).fit()\n",
    "        r2_with = model2.rsquared\n",
    "\n",
    "        r2_change = r2_with - r2_without\n",
    "        rankings.append((confounder, r2_change))\n",
    "\n",
    "    rankings.sort(key=lambda x: x[1], reverse=True)\n",
    "    return pd.DataFrame(rankings, columns=[\"Confounder\", \"R² Change\"])"
   ]
  },
  {
   "cell_type": "code",
   "execution_count": null,
   "metadata": {},
   "outputs": [
    {
     "name": "stdout",
     "output_type": "stream",
     "text": [
      "for year 2015 the treatment is Freedom and the outcome is Happiness Score\n",
      "                       Confounder  R² Change\n",
      "0        Economy (GDP per Capita)   0.389142\n",
      "1  GDP Growth Trend Over 10 Years   0.068523\n",
      "for year 2015 the treatment is Health (Life Expectancy) and the outcome is Happiness Score\n",
      "                       Confounder  R² Change\n",
      "0        Economy (GDP per Capita)   0.106111\n",
      "1  GDP Growth Trend Over 10 Years   0.009551\n",
      "for year 2016 the treatment is Freedom and the outcome is Happiness Score\n",
      "                       Confounder  R² Change\n",
      "0        Economy (GDP per Capita)   0.406603\n",
      "1  GDP Growth Trend Over 10 Years   0.112808\n",
      "for year 2016 the treatment is Health (Life Expectancy) and the outcome is Happiness Score\n",
      "                       Confounder  R² Change\n",
      "0        Economy (GDP per Capita)   0.082132\n",
      "1  GDP Growth Trend Over 10 Years   0.005816\n",
      "for year 2017 the treatment is Freedom and the outcome is Happiness Score\n",
      "                       Confounder  R² Change\n",
      "0        Economy (GDP per Capita)   0.428952\n",
      "1  GDP Growth Trend Over 10 Years   0.088527\n",
      "for year 2017 the treatment is Health (Life Expectancy) and the outcome is Happiness Score\n",
      "                       Confounder  R² Change\n",
      "0        Economy (GDP per Capita)   0.088578\n",
      "1  GDP Growth Trend Over 10 Years   0.004230\n",
      "for year 2018 the treatment is Freedom and the outcome is Happiness Score\n",
      "                       Confounder  R² Change\n",
      "0        Economy (GDP per Capita)   0.442817\n",
      "1  GDP Growth Trend Over 10 Years   0.050964\n",
      "for year 2018 the treatment is Health (Life Expectancy) and the outcome is Happiness Score\n",
      "                       Confounder  R² Change\n",
      "0        Economy (GDP per Capita)   0.073453\n",
      "1  GDP Growth Trend Over 10 Years   0.005685\n",
      "for year 2019 the treatment is Freedom and the outcome is Happiness Score\n",
      "                       Confounder  R² Change\n",
      "0        Economy (GDP per Capita)   0.410707\n",
      "1  GDP Growth Trend Over 10 Years   0.047849\n",
      "for year 2019 the treatment is Health (Life Expectancy) and the outcome is Happiness Score\n",
      "                       Confounder  R² Change\n",
      "0        Economy (GDP per Capita)   0.060894\n",
      "1  GDP Growth Trend Over 10 Years   0.006766\n"
     ]
    }
   ],
   "source": [
    "treatment_options = [\"Freedom\", \"Health (Life Expectancy)\"]\n",
    "outcome = \"Happiness Score\"\n",
    "confounders = [\"GDP Growth Trend Over 10 Years\", \"\"]\n",
    "year = 2015\n",
    "for df in merged_2015_to_2019_dfs:\n",
    "    #print(df)\n",
    "    for treatment in treatment_options:\n",
    "        print(f\"for year {year} the treatment is {treatment} and the outcome is {outcome}\")\n",
    "        result_df = rank_confounders(df, treatment, outcome, confounders)\n",
    "        print(result_df)\n",
    "    year += 1"
   ]
  },
  {
   "cell_type": "markdown",
   "metadata": {},
   "source": [
    "Do the same calculation about GDP ppp:"
   ]
  },
  {
   "cell_type": "code",
   "execution_count": 453,
   "metadata": {},
   "outputs": [],
   "source": [
    "# Create merged datasets for gdp ppp per capita\n",
    "# merged_2015_to_2019_ppp_dfs = []\n",
    "# for year in range(2015, 2020):  \n",
    "#     happiness_df = pd.read_csv(f'happiness_score/{year}.csv')\n",
    "#     merged_df = merge_happiness(gdp_ppp_df, happiness_df)\n",
    "#     merged_df = GDP_happiness_df(year-10, year, merged_df)\n",
    "#     merged_df = calc_trend_growth(merged_df, year-10, year)\n",
    "#     merged_2015_to_2019_ppp_dfs.append(merged_df)"
   ]
  },
  {
   "cell_type": "markdown",
   "metadata": {},
   "source": [
    "Anlysis with countries population dataset"
   ]
  },
  {
   "cell_type": "code",
   "execution_count": 454,
   "metadata": {},
   "outputs": [
    {
     "ename": "FileNotFoundError",
     "evalue": "[Errno 2] No such file or directory: 'countries\\\\world_popilation.csv'",
     "output_type": "error",
     "traceback": [
      "\u001b[1;31m---------------------------------------------------------------------------\u001b[0m",
      "\u001b[1;31mFileNotFoundError\u001b[0m                         Traceback (most recent call last)",
      "Cell \u001b[1;32mIn[454], line 1\u001b[0m\n\u001b[1;32m----> 1\u001b[0m countries_df \u001b[38;5;241m=\u001b[39m \u001b[43mpd\u001b[49m\u001b[38;5;241;43m.\u001b[39;49m\u001b[43mread_csv\u001b[49m\u001b[43m(\u001b[49m\u001b[38;5;124;43m'\u001b[39;49m\u001b[38;5;124;43mcountries\u001b[39;49m\u001b[38;5;124;43m\\\u001b[39;49m\u001b[38;5;124;43mworld_popilation.csv\u001b[39;49m\u001b[38;5;124;43m'\u001b[39;49m\u001b[43m)\u001b[49m\n",
      "File \u001b[1;32m~\\AppData\\Roaming\\Python\\Python311\\site-packages\\pandas\\io\\parsers\\readers.py:1026\u001b[0m, in \u001b[0;36mread_csv\u001b[1;34m(filepath_or_buffer, sep, delimiter, header, names, index_col, usecols, dtype, engine, converters, true_values, false_values, skipinitialspace, skiprows, skipfooter, nrows, na_values, keep_default_na, na_filter, verbose, skip_blank_lines, parse_dates, infer_datetime_format, keep_date_col, date_parser, date_format, dayfirst, cache_dates, iterator, chunksize, compression, thousands, decimal, lineterminator, quotechar, quoting, doublequote, escapechar, comment, encoding, encoding_errors, dialect, on_bad_lines, delim_whitespace, low_memory, memory_map, float_precision, storage_options, dtype_backend)\u001b[0m\n\u001b[0;32m   1013\u001b[0m kwds_defaults \u001b[38;5;241m=\u001b[39m _refine_defaults_read(\n\u001b[0;32m   1014\u001b[0m     dialect,\n\u001b[0;32m   1015\u001b[0m     delimiter,\n\u001b[1;32m   (...)\u001b[0m\n\u001b[0;32m   1022\u001b[0m     dtype_backend\u001b[38;5;241m=\u001b[39mdtype_backend,\n\u001b[0;32m   1023\u001b[0m )\n\u001b[0;32m   1024\u001b[0m kwds\u001b[38;5;241m.\u001b[39mupdate(kwds_defaults)\n\u001b[1;32m-> 1026\u001b[0m \u001b[38;5;28;01mreturn\u001b[39;00m \u001b[43m_read\u001b[49m\u001b[43m(\u001b[49m\u001b[43mfilepath_or_buffer\u001b[49m\u001b[43m,\u001b[49m\u001b[43m \u001b[49m\u001b[43mkwds\u001b[49m\u001b[43m)\u001b[49m\n",
      "File \u001b[1;32m~\\AppData\\Roaming\\Python\\Python311\\site-packages\\pandas\\io\\parsers\\readers.py:620\u001b[0m, in \u001b[0;36m_read\u001b[1;34m(filepath_or_buffer, kwds)\u001b[0m\n\u001b[0;32m    617\u001b[0m _validate_names(kwds\u001b[38;5;241m.\u001b[39mget(\u001b[38;5;124m\"\u001b[39m\u001b[38;5;124mnames\u001b[39m\u001b[38;5;124m\"\u001b[39m, \u001b[38;5;28;01mNone\u001b[39;00m))\n\u001b[0;32m    619\u001b[0m \u001b[38;5;66;03m# Create the parser.\u001b[39;00m\n\u001b[1;32m--> 620\u001b[0m parser \u001b[38;5;241m=\u001b[39m \u001b[43mTextFileReader\u001b[49m\u001b[43m(\u001b[49m\u001b[43mfilepath_or_buffer\u001b[49m\u001b[43m,\u001b[49m\u001b[43m \u001b[49m\u001b[38;5;241;43m*\u001b[39;49m\u001b[38;5;241;43m*\u001b[39;49m\u001b[43mkwds\u001b[49m\u001b[43m)\u001b[49m\n\u001b[0;32m    622\u001b[0m \u001b[38;5;28;01mif\u001b[39;00m chunksize \u001b[38;5;129;01mor\u001b[39;00m iterator:\n\u001b[0;32m    623\u001b[0m     \u001b[38;5;28;01mreturn\u001b[39;00m parser\n",
      "File \u001b[1;32m~\\AppData\\Roaming\\Python\\Python311\\site-packages\\pandas\\io\\parsers\\readers.py:1620\u001b[0m, in \u001b[0;36mTextFileReader.__init__\u001b[1;34m(self, f, engine, **kwds)\u001b[0m\n\u001b[0;32m   1617\u001b[0m     \u001b[38;5;28mself\u001b[39m\u001b[38;5;241m.\u001b[39moptions[\u001b[38;5;124m\"\u001b[39m\u001b[38;5;124mhas_index_names\u001b[39m\u001b[38;5;124m\"\u001b[39m] \u001b[38;5;241m=\u001b[39m kwds[\u001b[38;5;124m\"\u001b[39m\u001b[38;5;124mhas_index_names\u001b[39m\u001b[38;5;124m\"\u001b[39m]\n\u001b[0;32m   1619\u001b[0m \u001b[38;5;28mself\u001b[39m\u001b[38;5;241m.\u001b[39mhandles: IOHandles \u001b[38;5;241m|\u001b[39m \u001b[38;5;28;01mNone\u001b[39;00m \u001b[38;5;241m=\u001b[39m \u001b[38;5;28;01mNone\u001b[39;00m\n\u001b[1;32m-> 1620\u001b[0m \u001b[38;5;28mself\u001b[39m\u001b[38;5;241m.\u001b[39m_engine \u001b[38;5;241m=\u001b[39m \u001b[38;5;28;43mself\u001b[39;49m\u001b[38;5;241;43m.\u001b[39;49m\u001b[43m_make_engine\u001b[49m\u001b[43m(\u001b[49m\u001b[43mf\u001b[49m\u001b[43m,\u001b[49m\u001b[43m \u001b[49m\u001b[38;5;28;43mself\u001b[39;49m\u001b[38;5;241;43m.\u001b[39;49m\u001b[43mengine\u001b[49m\u001b[43m)\u001b[49m\n",
      "File \u001b[1;32m~\\AppData\\Roaming\\Python\\Python311\\site-packages\\pandas\\io\\parsers\\readers.py:1880\u001b[0m, in \u001b[0;36mTextFileReader._make_engine\u001b[1;34m(self, f, engine)\u001b[0m\n\u001b[0;32m   1878\u001b[0m     \u001b[38;5;28;01mif\u001b[39;00m \u001b[38;5;124m\"\u001b[39m\u001b[38;5;124mb\u001b[39m\u001b[38;5;124m\"\u001b[39m \u001b[38;5;129;01mnot\u001b[39;00m \u001b[38;5;129;01min\u001b[39;00m mode:\n\u001b[0;32m   1879\u001b[0m         mode \u001b[38;5;241m+\u001b[39m\u001b[38;5;241m=\u001b[39m \u001b[38;5;124m\"\u001b[39m\u001b[38;5;124mb\u001b[39m\u001b[38;5;124m\"\u001b[39m\n\u001b[1;32m-> 1880\u001b[0m \u001b[38;5;28mself\u001b[39m\u001b[38;5;241m.\u001b[39mhandles \u001b[38;5;241m=\u001b[39m \u001b[43mget_handle\u001b[49m\u001b[43m(\u001b[49m\n\u001b[0;32m   1881\u001b[0m \u001b[43m    \u001b[49m\u001b[43mf\u001b[49m\u001b[43m,\u001b[49m\n\u001b[0;32m   1882\u001b[0m \u001b[43m    \u001b[49m\u001b[43mmode\u001b[49m\u001b[43m,\u001b[49m\n\u001b[0;32m   1883\u001b[0m \u001b[43m    \u001b[49m\u001b[43mencoding\u001b[49m\u001b[38;5;241;43m=\u001b[39;49m\u001b[38;5;28;43mself\u001b[39;49m\u001b[38;5;241;43m.\u001b[39;49m\u001b[43moptions\u001b[49m\u001b[38;5;241;43m.\u001b[39;49m\u001b[43mget\u001b[49m\u001b[43m(\u001b[49m\u001b[38;5;124;43m\"\u001b[39;49m\u001b[38;5;124;43mencoding\u001b[39;49m\u001b[38;5;124;43m\"\u001b[39;49m\u001b[43m,\u001b[49m\u001b[43m \u001b[49m\u001b[38;5;28;43;01mNone\u001b[39;49;00m\u001b[43m)\u001b[49m\u001b[43m,\u001b[49m\n\u001b[0;32m   1884\u001b[0m \u001b[43m    \u001b[49m\u001b[43mcompression\u001b[49m\u001b[38;5;241;43m=\u001b[39;49m\u001b[38;5;28;43mself\u001b[39;49m\u001b[38;5;241;43m.\u001b[39;49m\u001b[43moptions\u001b[49m\u001b[38;5;241;43m.\u001b[39;49m\u001b[43mget\u001b[49m\u001b[43m(\u001b[49m\u001b[38;5;124;43m\"\u001b[39;49m\u001b[38;5;124;43mcompression\u001b[39;49m\u001b[38;5;124;43m\"\u001b[39;49m\u001b[43m,\u001b[49m\u001b[43m \u001b[49m\u001b[38;5;28;43;01mNone\u001b[39;49;00m\u001b[43m)\u001b[49m\u001b[43m,\u001b[49m\n\u001b[0;32m   1885\u001b[0m \u001b[43m    \u001b[49m\u001b[43mmemory_map\u001b[49m\u001b[38;5;241;43m=\u001b[39;49m\u001b[38;5;28;43mself\u001b[39;49m\u001b[38;5;241;43m.\u001b[39;49m\u001b[43moptions\u001b[49m\u001b[38;5;241;43m.\u001b[39;49m\u001b[43mget\u001b[49m\u001b[43m(\u001b[49m\u001b[38;5;124;43m\"\u001b[39;49m\u001b[38;5;124;43mmemory_map\u001b[39;49m\u001b[38;5;124;43m\"\u001b[39;49m\u001b[43m,\u001b[49m\u001b[43m \u001b[49m\u001b[38;5;28;43;01mFalse\u001b[39;49;00m\u001b[43m)\u001b[49m\u001b[43m,\u001b[49m\n\u001b[0;32m   1886\u001b[0m \u001b[43m    \u001b[49m\u001b[43mis_text\u001b[49m\u001b[38;5;241;43m=\u001b[39;49m\u001b[43mis_text\u001b[49m\u001b[43m,\u001b[49m\n\u001b[0;32m   1887\u001b[0m \u001b[43m    \u001b[49m\u001b[43merrors\u001b[49m\u001b[38;5;241;43m=\u001b[39;49m\u001b[38;5;28;43mself\u001b[39;49m\u001b[38;5;241;43m.\u001b[39;49m\u001b[43moptions\u001b[49m\u001b[38;5;241;43m.\u001b[39;49m\u001b[43mget\u001b[49m\u001b[43m(\u001b[49m\u001b[38;5;124;43m\"\u001b[39;49m\u001b[38;5;124;43mencoding_errors\u001b[39;49m\u001b[38;5;124;43m\"\u001b[39;49m\u001b[43m,\u001b[49m\u001b[43m \u001b[49m\u001b[38;5;124;43m\"\u001b[39;49m\u001b[38;5;124;43mstrict\u001b[39;49m\u001b[38;5;124;43m\"\u001b[39;49m\u001b[43m)\u001b[49m\u001b[43m,\u001b[49m\n\u001b[0;32m   1888\u001b[0m \u001b[43m    \u001b[49m\u001b[43mstorage_options\u001b[49m\u001b[38;5;241;43m=\u001b[39;49m\u001b[38;5;28;43mself\u001b[39;49m\u001b[38;5;241;43m.\u001b[39;49m\u001b[43moptions\u001b[49m\u001b[38;5;241;43m.\u001b[39;49m\u001b[43mget\u001b[49m\u001b[43m(\u001b[49m\u001b[38;5;124;43m\"\u001b[39;49m\u001b[38;5;124;43mstorage_options\u001b[39;49m\u001b[38;5;124;43m\"\u001b[39;49m\u001b[43m,\u001b[49m\u001b[43m \u001b[49m\u001b[38;5;28;43;01mNone\u001b[39;49;00m\u001b[43m)\u001b[49m\u001b[43m,\u001b[49m\n\u001b[0;32m   1889\u001b[0m \u001b[43m\u001b[49m\u001b[43m)\u001b[49m\n\u001b[0;32m   1890\u001b[0m \u001b[38;5;28;01massert\u001b[39;00m \u001b[38;5;28mself\u001b[39m\u001b[38;5;241m.\u001b[39mhandles \u001b[38;5;129;01mis\u001b[39;00m \u001b[38;5;129;01mnot\u001b[39;00m \u001b[38;5;28;01mNone\u001b[39;00m\n\u001b[0;32m   1891\u001b[0m f \u001b[38;5;241m=\u001b[39m \u001b[38;5;28mself\u001b[39m\u001b[38;5;241m.\u001b[39mhandles\u001b[38;5;241m.\u001b[39mhandle\n",
      "File \u001b[1;32m~\\AppData\\Roaming\\Python\\Python311\\site-packages\\pandas\\io\\common.py:873\u001b[0m, in \u001b[0;36mget_handle\u001b[1;34m(path_or_buf, mode, encoding, compression, memory_map, is_text, errors, storage_options)\u001b[0m\n\u001b[0;32m    868\u001b[0m \u001b[38;5;28;01melif\u001b[39;00m \u001b[38;5;28misinstance\u001b[39m(handle, \u001b[38;5;28mstr\u001b[39m):\n\u001b[0;32m    869\u001b[0m     \u001b[38;5;66;03m# Check whether the filename is to be opened in binary mode.\u001b[39;00m\n\u001b[0;32m    870\u001b[0m     \u001b[38;5;66;03m# Binary mode does not support 'encoding' and 'newline'.\u001b[39;00m\n\u001b[0;32m    871\u001b[0m     \u001b[38;5;28;01mif\u001b[39;00m ioargs\u001b[38;5;241m.\u001b[39mencoding \u001b[38;5;129;01mand\u001b[39;00m \u001b[38;5;124m\"\u001b[39m\u001b[38;5;124mb\u001b[39m\u001b[38;5;124m\"\u001b[39m \u001b[38;5;129;01mnot\u001b[39;00m \u001b[38;5;129;01min\u001b[39;00m ioargs\u001b[38;5;241m.\u001b[39mmode:\n\u001b[0;32m    872\u001b[0m         \u001b[38;5;66;03m# Encoding\u001b[39;00m\n\u001b[1;32m--> 873\u001b[0m         handle \u001b[38;5;241m=\u001b[39m \u001b[38;5;28mopen\u001b[39m(\n\u001b[0;32m    874\u001b[0m             handle,\n\u001b[0;32m    875\u001b[0m             ioargs\u001b[38;5;241m.\u001b[39mmode,\n\u001b[0;32m    876\u001b[0m             encoding\u001b[38;5;241m=\u001b[39mioargs\u001b[38;5;241m.\u001b[39mencoding,\n\u001b[0;32m    877\u001b[0m             errors\u001b[38;5;241m=\u001b[39merrors,\n\u001b[0;32m    878\u001b[0m             newline\u001b[38;5;241m=\u001b[39m\u001b[38;5;124m\"\u001b[39m\u001b[38;5;124m\"\u001b[39m,\n\u001b[0;32m    879\u001b[0m         )\n\u001b[0;32m    880\u001b[0m     \u001b[38;5;28;01melse\u001b[39;00m:\n\u001b[0;32m    881\u001b[0m         \u001b[38;5;66;03m# Binary mode\u001b[39;00m\n\u001b[0;32m    882\u001b[0m         handle \u001b[38;5;241m=\u001b[39m \u001b[38;5;28mopen\u001b[39m(handle, ioargs\u001b[38;5;241m.\u001b[39mmode)\n",
      "\u001b[1;31mFileNotFoundError\u001b[0m: [Errno 2] No such file or directory: 'countries\\\\world_popilation.csv'"
     ]
    }
   ],
   "source": [
    "countries_df = pd.read_csv('countries\\world_popilation.csv')"
   ]
  }
 ],
 "metadata": {
  "kernelspec": {
   "display_name": "Python 3",
   "language": "python",
   "name": "python3"
  },
  "language_info": {
   "codemirror_mode": {
    "name": "ipython",
    "version": 3
   },
   "file_extension": ".py",
   "mimetype": "text/x-python",
   "name": "python",
   "nbconvert_exporter": "python",
   "pygments_lexer": "ipython3",
   "version": "3.11.9"
  }
 },
 "nbformat": 4,
 "nbformat_minor": 2
}
